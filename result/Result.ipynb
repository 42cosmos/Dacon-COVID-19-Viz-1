{
 "cells": [
  {
   "cell_type": "markdown",
   "metadata": {},
   "source": [
    "# <center> 군집별로 알아보는 코로나의 영향 </center>"
   ]
  },
  {
   "cell_type": "markdown",
   "metadata": {},
   "source": [
    "## __[목차]__\n",
    "\n",
    "### 1. 사용데이터 정의\n",
    "    1-1. 내부데이터\n",
    "    1-2. 외부데이터\n",
    "\n",
    "### 2. 데이터 분석 및 시각화 방법\n",
    "\n",
    "    2-1. 군집화\n",
    "    2-2. 변화추이 계산 방법\n",
    "\n",
    "### 3. 인사이트 분석\n",
    "\n",
    "    3-1. 해석에 필요한 주요 이슈들\n",
    "    3-2. 군집별 시각화 해석\n",
    "    3-3. 인사이트 정리\n",
    "\n",
    "### 4. 한계 및 추가 연구 내용\n",
    "\n",
    "    4-1. 시각화의 한계점\n",
    "    4-2. 추가 연구 내용"
   ]
  },
  {
   "cell_type": "markdown",
   "metadata": {},
   "source": [
    "<img src=\"http://scimonitors.com/wp-content/uploads/2020/03/banner.png\"  align = \"center\" > "
   ]
  },
  {
   "cell_type": "markdown",
   "metadata": {},
   "source": [
    "# 1. 사용데이터 정의\n",
    "\n",
    "### 1-1. 내부데이터 (Dacon 제공 데이터)\n",
    "1. card.csv : 카드 소비 내역    \n",
    "2. COVID_19/Time.csv : 코로나 확진자 수    "
   ]
  },
  {
   "cell_type": "code",
   "execution_count": 1,
   "metadata": {},
   "outputs": [],
   "source": [
    "import os\n",
    "import pandas as pd\n",
    "import numpy as np\n",
    "\n",
    "import warnings\n",
    "warnings.filterwarnings(\"ignore\")"
   ]
  },
  {
   "cell_type": "code",
   "execution_count": 2,
   "metadata": {},
   "outputs": [],
   "source": [
    "def find_csv_filenames( path_to_dir, suffix=\".csv\" ):\n",
    "    filenames = os.listdir(path_to_dir)\n",
    "    return [filename for filename in filenames if filename.endswith(suffix)]\n",
    "\n",
    "\n",
    "def make_datetime(x):\n",
    "    x = str(x)\n",
    "    year = x[:4]\n",
    "    month = x[4:6]\n",
    "    day = x[6:]\n",
    "    date = f'{year}-{month}-{day}'\n",
    "    return date"
   ]
  },
  {
   "cell_type": "code",
   "execution_count": 3,
   "metadata": {},
   "outputs": [],
   "source": [
    "# directory 정의\n",
    "BASE_DIR = os.path.join('..', 'data')\n",
    "INTERNAL_DIR = 'internal_data'\n",
    "EXTERNAL_DIR = 'external_data'\n",
    "MERGE_DATA = 'merge_data'"
   ]
  },
  {
   "cell_type": "code",
   "execution_count": 4,
   "metadata": {},
   "outputs": [],
   "source": [
    "category_dict = {'버스': '대중교통',\n",
    " '지하철': '대중교통',\n",
    " '택시': '대중교통',\n",
    " '국산신차': '교통',\n",
    " '렌트카': '교통',\n",
    " '전기차충전소': '교통',\n",
    " '주차장': '교통',\n",
    " '주유소': '교통',\n",
    " '자동차시트/타이어': '교통',\n",
    " '카인테리어': '교통',\n",
    " '중고자동차': '교통',\n",
    " '이륜차판매': '교통',\n",
    " '수입자동차': '교통',\n",
    " '캐쥬얼의류': '의류',\n",
    " '정장': '의류',\n",
    " '기타의류': '의류',\n",
    " '신발': '의류',\n",
    " '스포츠의류': '의류',\n",
    " '내의판매점': '의류',\n",
    " '맞춤복점': '의류',\n",
    " '와이셔츠/타이': '의류',\n",
    " '인터넷Mall': '온라인',\n",
    " '인터넷P/G': '온라인',\n",
    " '인터넷종합Mall': '온라인',\n",
    " '제과점': '음식점',\n",
    " '중국음식': '음식점',\n",
    " '서양읍식': '음식점',\n",
    " '스넥': '음식점',\n",
    " '일반한식': '음식점',\n",
    " '일식회집': '음식점',\n",
    " '한정식': '음식점',\n",
    " '기타건강식': '음식점',\n",
    " '당구장': '실내활동',\n",
    " '볼링장': '실내활동',\n",
    " '스크린골프': '실내활동',\n",
    " '수영장': '실내활동',\n",
    " '영화관': '실내활동',\n",
    " '카지노': '실내활동',\n",
    " '노래방': '실내활동',\n",
    " '수족관': '실내활동',\n",
    " '레져업소(회원제형태)': '실내활동',\n",
    " '헬스크럽': '실내활동',\n",
    " '여객선': '관광',\n",
    " '관광여행': '관광',\n",
    " '항공사': '관광',\n",
    " '2급 호텔': '관광',\n",
    " '1급호텔': '관광',\n",
    " '콘도': '관광',\n",
    " '기타숙박업': '관광',\n",
    " '종합레져타운': '관광',\n",
    " '한의원': '의료',\n",
    " '종합병원': '의료',\n",
    " '한약방': '의료',\n",
    " '의료용품': '의료',\n",
    " '치과의원': '의료',\n",
    " '치과병원': '의료',\n",
    " '병원': '의료',\n",
    " '한방병원': '의료',\n",
    " '약국': '의료',\n",
    " '기타의료기관 및 기타의료기기': '의료',\n",
    " '칵테일바': '유흥주점',\n",
    " '유흥주점': '유흥주점',\n",
    " '단란주점': '유흥주점',\n",
    " '테니스장': '실외활동',\n",
    " '골프연습장': '실외활동',\n",
    " '기타교육': '교육',\n",
    " '유치원': '교육',\n",
    " '기능학원': '교육',\n",
    " '보습학원': '교육',\n",
    " '학원(회원제형태)': '교육',\n",
    " '예체능학원': '교육',\n",
    " '외국어학원': '교육',\n",
    " '비료/농약/사료/종자': '농업',\n",
    " '기타농업관련': '농업',\n",
    " '농기계': '농업'}"
   ]
  },
  {
   "cell_type": "markdown",
   "metadata": {},
   "source": [
    "#### 카드 소비 내역"
   ]
  },
  {
   "cell_type": "code",
   "execution_count": 5,
   "metadata": {},
   "outputs": [],
   "source": [
    "COVID_DIR = 'COVID_19'\n",
    "DATA_DIR = 'data'\n",
    "\n",
    "CARD_FILENAME = 'card_20200717.csv'\n",
    "COVID_FILENAME = 'Time.csv'\n",
    "CATEGORISING_FILENAME = 'dacon_categorising.xlsx'\n",
    "\n",
    "COVID_PATH = os.path.join(BASE_DIR, INTERNAL_DIR, COVID_DIR, COVID_FILENAME)"
   ]
  },
  {
   "cell_type": "code",
   "execution_count": 6,
   "metadata": {},
   "outputs": [
    {
     "data": {
      "text/plain": [
       "(3713952, 7)"
      ]
     },
     "execution_count": 6,
     "metadata": {},
     "output_type": "execute_result"
    }
   ],
   "source": [
    "card_df = pd.read_csv(os.path.join(BASE_DIR, INTERNAL_DIR, CARD_FILENAME))\n",
    "card_df['mrhst_induty_cl_nm'] = card_df['mrhst_induty_cl_nm'].str.replace(pat = ' ', repl = '')\n",
    "card_df.shape"
   ]
  },
  {
   "cell_type": "code",
   "execution_count": 7,
   "metadata": {},
   "outputs": [
    {
     "data": {
      "text/plain": [
       "(1348866, 8)"
      ]
     },
     "execution_count": 7,
     "metadata": {},
     "output_type": "execute_result"
    }
   ],
   "source": [
    "object_df = card_df[card_df['mrhst_induty_cl_nm'].isin(category_dict)] \n",
    "object_df['대분류'] = object_df['mrhst_induty_cl_nm'].replace(category_dict)\n",
    "object_df.shape\n",
    "# 임의로 만든 대분류를 새 컬럼에 할당함"
   ]
  },
  {
   "cell_type": "code",
   "execution_count": 8,
   "metadata": {},
   "outputs": [
    {
     "data": {
      "text/html": [
       "<div>\n",
       "<style scoped>\n",
       "    .dataframe tbody tr th:only-of-type {\n",
       "        vertical-align: middle;\n",
       "    }\n",
       "\n",
       "    .dataframe tbody tr th {\n",
       "        vertical-align: top;\n",
       "    }\n",
       "\n",
       "    .dataframe thead th {\n",
       "        text-align: right;\n",
       "    }\n",
       "</style>\n",
       "<table border=\"1\" class=\"dataframe\">\n",
       "  <thead>\n",
       "    <tr style=\"text-align: right;\">\n",
       "      <th></th>\n",
       "      <th>datetime</th>\n",
       "      <th>대분류</th>\n",
       "      <th>중분류</th>\n",
       "      <th>sales count</th>\n",
       "    </tr>\n",
       "  </thead>\n",
       "  <tbody>\n",
       "    <tr>\n",
       "      <th>0</th>\n",
       "      <td>2020-01-04</td>\n",
       "      <td>관광</td>\n",
       "      <td>1급호텔</td>\n",
       "      <td>38</td>\n",
       "    </tr>\n",
       "    <tr>\n",
       "      <th>1</th>\n",
       "      <td>2020-01-04</td>\n",
       "      <td>관광</td>\n",
       "      <td>관광여행</td>\n",
       "      <td>1063</td>\n",
       "    </tr>\n",
       "    <tr>\n",
       "      <th>2</th>\n",
       "      <td>2020-01-04</td>\n",
       "      <td>관광</td>\n",
       "      <td>기타숙박업</td>\n",
       "      <td>3738</td>\n",
       "    </tr>\n",
       "    <tr>\n",
       "      <th>3</th>\n",
       "      <td>2020-01-04</td>\n",
       "      <td>관광</td>\n",
       "      <td>항공사</td>\n",
       "      <td>4800</td>\n",
       "    </tr>\n",
       "    <tr>\n",
       "      <th>4</th>\n",
       "      <td>2020-01-04</td>\n",
       "      <td>교육</td>\n",
       "      <td>기능학원</td>\n",
       "      <td>36</td>\n",
       "    </tr>\n",
       "  </tbody>\n",
       "</table>\n",
       "</div>"
      ],
      "text/plain": [
       "     datetime 대분류    중분류  sales count\n",
       "0  2020-01-04  관광   1급호텔           38\n",
       "1  2020-01-04  관광   관광여행         1063\n",
       "2  2020-01-04  관광  기타숙박업         3738\n",
       "3  2020-01-04  관광    항공사         4800\n",
       "4  2020-01-04  교육   기능학원           36"
      ]
     },
     "execution_count": 8,
     "metadata": {},
     "output_type": "execute_result"
    }
   ],
   "source": [
    "object_df = object_df.groupby(['receipt_dttm', '대분류', 'mrhst_induty_cl_nm'], as_index=False)['selng_cascnt'].sum()\n",
    "# 일별 분류 기준 매출발생건수의 합\n",
    "\n",
    "object_df.columns = ['datetime', '대분류', '중분류', 'sales count']\n",
    "object_df = object_df.reset_index(drop = True)\n",
    "object_df['datetime'] = object_df['datetime'].map(make_datetime)\n",
    "object_df.head()"
   ]
  },
  {
   "cell_type": "code",
   "execution_count": 9,
   "metadata": {},
   "outputs": [],
   "source": [
    "internal_df = object_df.rename(columns={'datetime':'사용일자', 'sales count':'중분류_카운트'}) # , 'covid_confirmed':'확진자수'"
   ]
  },
  {
   "cell_type": "code",
   "execution_count": 10,
   "metadata": {},
   "outputs": [],
   "source": [
    "check_df = internal_df.groupby(['중분류']).count()\n",
    "check_df[check_df['사용일자']<50]\n",
    "\n",
    "internal_df = internal_df[internal_df['중분류'] != \"카지노\"]\n",
    "# 사용일자가 50일이 되지 않는 데이터 제거"
   ]
  },
  {
   "cell_type": "code",
   "execution_count": 11,
   "metadata": {},
   "outputs": [
    {
     "data": {
      "text/html": [
       "<div>\n",
       "<style scoped>\n",
       "    .dataframe tbody tr th:only-of-type {\n",
       "        vertical-align: middle;\n",
       "    }\n",
       "\n",
       "    .dataframe tbody tr th {\n",
       "        vertical-align: top;\n",
       "    }\n",
       "\n",
       "    .dataframe thead th {\n",
       "        text-align: right;\n",
       "    }\n",
       "</style>\n",
       "<table border=\"1\" class=\"dataframe\">\n",
       "  <thead>\n",
       "    <tr style=\"text-align: right;\">\n",
       "      <th></th>\n",
       "      <th>사용일자</th>\n",
       "      <th>대분류</th>\n",
       "      <th>중분류</th>\n",
       "      <th>중분류_카운트</th>\n",
       "    </tr>\n",
       "  </thead>\n",
       "  <tbody>\n",
       "    <tr>\n",
       "      <th>0</th>\n",
       "      <td>2020-01-04</td>\n",
       "      <td>관광</td>\n",
       "      <td>1급호텔</td>\n",
       "      <td>38</td>\n",
       "    </tr>\n",
       "    <tr>\n",
       "      <th>1</th>\n",
       "      <td>2020-01-04</td>\n",
       "      <td>관광</td>\n",
       "      <td>관광여행</td>\n",
       "      <td>1063</td>\n",
       "    </tr>\n",
       "    <tr>\n",
       "      <th>2</th>\n",
       "      <td>2020-01-04</td>\n",
       "      <td>관광</td>\n",
       "      <td>기타숙박업</td>\n",
       "      <td>3738</td>\n",
       "    </tr>\n",
       "    <tr>\n",
       "      <th>3</th>\n",
       "      <td>2020-01-04</td>\n",
       "      <td>관광</td>\n",
       "      <td>항공사</td>\n",
       "      <td>4800</td>\n",
       "    </tr>\n",
       "    <tr>\n",
       "      <th>4</th>\n",
       "      <td>2020-01-04</td>\n",
       "      <td>교육</td>\n",
       "      <td>기능학원</td>\n",
       "      <td>36</td>\n",
       "    </tr>\n",
       "  </tbody>\n",
       "</table>\n",
       "</div>"
      ],
      "text/plain": [
       "         사용일자 대분류    중분류  중분류_카운트\n",
       "0  2020-01-04  관광   1급호텔       38\n",
       "1  2020-01-04  관광   관광여행     1063\n",
       "2  2020-01-04  관광  기타숙박업     3738\n",
       "3  2020-01-04  관광    항공사     4800\n",
       "4  2020-01-04  교육   기능학원       36"
      ]
     },
     "execution_count": 11,
     "metadata": {},
     "output_type": "execute_result"
    }
   ],
   "source": [
    "internal_df.head()"
   ]
  },
  {
   "cell_type": "markdown",
   "metadata": {},
   "source": [
    "### 1-2. 외부 데이터 (서울 열린데이터 광장, SEOUL TOPIS)\n",
    "1. bus/data/*.csv : 버스 이용 데이터  \n",
    "2. subway/data/*.csv : 지하철 이용 데이터  \n",
    "3. traffic/data/*.xlsx : 교통량 이용 데이터  "
   ]
  },
  {
   "cell_type": "markdown",
   "metadata": {},
   "source": [
    "#### 버스"
   ]
  },
  {
   "cell_type": "code",
   "execution_count": 12,
   "metadata": {},
   "outputs": [
    {
     "data": {
      "text/plain": [
       "('../data/external_data/bus/data/',\n",
       " '../data/external_data/subway/data/',\n",
       " '../data/external_data/traffic/data/')"
      ]
     },
     "execution_count": 12,
     "metadata": {},
     "output_type": "execute_result"
    }
   ],
   "source": [
    "BUS_PATH = os.path.join(BASE_DIR, EXTERNAL_DIR, 'bus/data/')\n",
    "SUBWAY_PATH = os.path.join(BASE_DIR, EXTERNAL_DIR, 'subway/data/')\n",
    "TRAFFIC_DIR = os.path.join(BASE_DIR, EXTERNAL_DIR, 'traffic/data/')\n",
    "\n",
    "\n",
    "BUS_PATH, SUBWAY_PATH, TRAFFIC_DIR"
   ]
  },
  {
   "cell_type": "code",
   "execution_count": 13,
   "metadata": {},
   "outputs": [],
   "source": [
    "data_list = list()\n",
    "bus_files = find_csv_filenames(BUS_PATH)\n",
    "\n",
    "for csv_file in bus_files:\n",
    "    data_list.append(os.path.join(BUS_PATH, csv_file))\n",
    "    \n",
    "data_list.sort()"
   ]
  },
  {
   "cell_type": "code",
   "execution_count": 14,
   "metadata": {},
   "outputs": [],
   "source": [
    "bus_df = pd.DataFrame(columns=['사용일자','승차총승객수'])\n",
    "bus_df_kor = pd.DataFrame(columns=['사용일자', '노선번호', '노선명', '버스정류장ARS번호', '역명', '승차총승객수', '하차총승객수', '등록일자'])\n",
    "bus_df_eng = pd.DataFrame(columns=['use_dt', 'bus_route_id', 'bus_route_no', 'bus_route_nm', 'bsst_ars_no', 'bus_sta_nm', 'ride_pasgr_num', 'alight_pasgr_num', 'work_dt'])\n",
    "# 외부 데이터가 5월부터 컬럼명이 영문으로 변경되어 데이터프레임 두 개를 생성"
   ]
  },
  {
   "cell_type": "code",
   "execution_count": 15,
   "metadata": {},
   "outputs": [],
   "source": [
    "for file in data_list[:4]:\n",
    "    df = pd.read_csv(file, encoding = 'cp949', index_col = False)\n",
    "    bus_df_kor = bus_df_kor.append(df, ignore_index=True)\n",
    "    \n",
    "for file in data_list[4:]:\n",
    "    df = pd.read_csv(file, encoding = 'cp949', index_col = False)\n",
    "    bus_df_eng = bus_df_eng.append(df, ignore_index=True)"
   ]
  },
  {
   "cell_type": "code",
   "execution_count": 16,
   "metadata": {},
   "outputs": [],
   "source": [
    "bus_df_kor = bus_df_kor[['사용일자','승차총승객수']]\n",
    "bus_df_eng = bus_df_eng.rename(columns={'use_dt':'사용일자','ride_pasgr_num':'승차총승객수'})[['사용일자','승차총승객수']]"
   ]
  },
  {
   "cell_type": "code",
   "execution_count": 17,
   "metadata": {},
   "outputs": [],
   "source": [
    "bus_df = pd.DataFrame(columns=['사용일자','승차총승객수'])\n",
    "\n",
    "bus_df = bus_df.append(bus_df_kor)\n",
    "bus_df = bus_df.append(bus_df_eng)"
   ]
  },
  {
   "cell_type": "code",
   "execution_count": 18,
   "metadata": {},
   "outputs": [],
   "source": [
    "bus_df = bus_df.groupby(['사용일자']).sum().reset_index()\n",
    "bus_df = bus_df.rename(columns={'승차총승객수':'중분류_카운트'})\n",
    "\n",
    "bus_df['사용일자'] = bus_df['사용일자'].map(make_datetime)\n",
    "bus_df['중분류'] = \"버스\""
   ]
  },
  {
   "cell_type": "code",
   "execution_count": 19,
   "metadata": {},
   "outputs": [
    {
     "data": {
      "text/html": [
       "<div>\n",
       "<style scoped>\n",
       "    .dataframe tbody tr th:only-of-type {\n",
       "        vertical-align: middle;\n",
       "    }\n",
       "\n",
       "    .dataframe tbody tr th {\n",
       "        vertical-align: top;\n",
       "    }\n",
       "\n",
       "    .dataframe thead th {\n",
       "        text-align: right;\n",
       "    }\n",
       "</style>\n",
       "<table border=\"1\" class=\"dataframe\">\n",
       "  <thead>\n",
       "    <tr style=\"text-align: right;\">\n",
       "      <th></th>\n",
       "      <th>사용일자</th>\n",
       "      <th>중분류_카운트</th>\n",
       "      <th>중분류</th>\n",
       "    </tr>\n",
       "  </thead>\n",
       "  <tbody>\n",
       "    <tr>\n",
       "      <th>0</th>\n",
       "      <td>2020-01-01</td>\n",
       "      <td>2509091</td>\n",
       "      <td>버스</td>\n",
       "    </tr>\n",
       "    <tr>\n",
       "      <th>1</th>\n",
       "      <td>2020-01-02</td>\n",
       "      <td>5286628</td>\n",
       "      <td>버스</td>\n",
       "    </tr>\n",
       "    <tr>\n",
       "      <th>2</th>\n",
       "      <td>2020-01-03</td>\n",
       "      <td>5580078</td>\n",
       "      <td>버스</td>\n",
       "    </tr>\n",
       "    <tr>\n",
       "      <th>3</th>\n",
       "      <td>2020-01-04</td>\n",
       "      <td>4036695</td>\n",
       "      <td>버스</td>\n",
       "    </tr>\n",
       "    <tr>\n",
       "      <th>4</th>\n",
       "      <td>2020-01-05</td>\n",
       "      <td>3138649</td>\n",
       "      <td>버스</td>\n",
       "    </tr>\n",
       "  </tbody>\n",
       "</table>\n",
       "</div>"
      ],
      "text/plain": [
       "         사용일자  중분류_카운트 중분류\n",
       "0  2020-01-01  2509091  버스\n",
       "1  2020-01-02  5286628  버스\n",
       "2  2020-01-03  5580078  버스\n",
       "3  2020-01-04  4036695  버스\n",
       "4  2020-01-05  3138649  버스"
      ]
     },
     "execution_count": 19,
     "metadata": {},
     "output_type": "execute_result"
    }
   ],
   "source": [
    "bus_df.head()"
   ]
  },
  {
   "cell_type": "markdown",
   "metadata": {},
   "source": [
    "#### 지하철"
   ]
  },
  {
   "cell_type": "code",
   "execution_count": 20,
   "metadata": {},
   "outputs": [],
   "source": [
    "data_list = list()\n",
    "subway_files = find_csv_filenames(SUBWAY_PATH)\n",
    "\n",
    "for csv_file in subway_files:\n",
    "    data_list.append(os.path.join(SUBWAY_PATH, csv_file))\n",
    "    \n",
    "data_list.sort()"
   ]
  },
  {
   "cell_type": "code",
   "execution_count": 21,
   "metadata": {},
   "outputs": [],
   "source": [
    "subway_list = list()\n",
    "\n",
    "for file in data_list:\n",
    "    try:\n",
    "        tmp_df = pd.read_csv(file, encoding = 'cp949', index_col = False)\n",
    "    except:\n",
    "        tmp_df = pd.read_csv(file, encoding = 'utf-8', index_col = False)\n",
    "\n",
    "    subway_list.append(tmp_df)"
   ]
  },
  {
   "cell_type": "code",
   "execution_count": 22,
   "metadata": {},
   "outputs": [
    {
     "data": {
      "text/plain": [
       "(107483, 7)"
      ]
     },
     "execution_count": 22,
     "metadata": {},
     "output_type": "execute_result"
    }
   ],
   "source": [
    "subway_df = pd.concat(subway_list)\n",
    "subway_df.shape"
   ]
  },
  {
   "cell_type": "code",
   "execution_count": 23,
   "metadata": {},
   "outputs": [],
   "source": [
    "subway_df = subway_df.groupby('사용일자', as_index = False)['승차총승객수'].sum()\n",
    "subway_df = subway_df.rename(columns={'승차총승객수':'중분류_카운트'})\n",
    "\n",
    "subway_df['사용일자'] = subway_df['사용일자'].map(make_datetime)\n",
    "subway_df['중분류_카운트'] = subway_df['중분류_카운트'].map(lambda x : int(x))\n",
    "subway_df['중분류'] = '지하철'"
   ]
  },
  {
   "cell_type": "code",
   "execution_count": 24,
   "metadata": {},
   "outputs": [
    {
     "data": {
      "text/html": [
       "<div>\n",
       "<style scoped>\n",
       "    .dataframe tbody tr th:only-of-type {\n",
       "        vertical-align: middle;\n",
       "    }\n",
       "\n",
       "    .dataframe tbody tr th {\n",
       "        vertical-align: top;\n",
       "    }\n",
       "\n",
       "    .dataframe thead th {\n",
       "        text-align: right;\n",
       "    }\n",
       "</style>\n",
       "<table border=\"1\" class=\"dataframe\">\n",
       "  <thead>\n",
       "    <tr style=\"text-align: right;\">\n",
       "      <th></th>\n",
       "      <th>사용일자</th>\n",
       "      <th>중분류_카운트</th>\n",
       "      <th>중분류</th>\n",
       "    </tr>\n",
       "  </thead>\n",
       "  <tbody>\n",
       "    <tr>\n",
       "      <th>0</th>\n",
       "      <td>2020-01-01</td>\n",
       "      <td>3479698</td>\n",
       "      <td>지하철</td>\n",
       "    </tr>\n",
       "    <tr>\n",
       "      <th>1</th>\n",
       "      <td>2020-01-02</td>\n",
       "      <td>7691529</td>\n",
       "      <td>지하철</td>\n",
       "    </tr>\n",
       "    <tr>\n",
       "      <th>2</th>\n",
       "      <td>2020-01-03</td>\n",
       "      <td>8224917</td>\n",
       "      <td>지하철</td>\n",
       "    </tr>\n",
       "    <tr>\n",
       "      <th>3</th>\n",
       "      <td>2020-01-04</td>\n",
       "      <td>6042529</td>\n",
       "      <td>지하철</td>\n",
       "    </tr>\n",
       "    <tr>\n",
       "      <th>4</th>\n",
       "      <td>2020-01-05</td>\n",
       "      <td>4425521</td>\n",
       "      <td>지하철</td>\n",
       "    </tr>\n",
       "  </tbody>\n",
       "</table>\n",
       "</div>"
      ],
      "text/plain": [
       "         사용일자  중분류_카운트  중분류\n",
       "0  2020-01-01  3479698  지하철\n",
       "1  2020-01-02  7691529  지하철\n",
       "2  2020-01-03  8224917  지하철\n",
       "3  2020-01-04  6042529  지하철\n",
       "4  2020-01-05  4425521  지하철"
      ]
     },
     "execution_count": 24,
     "metadata": {},
     "output_type": "execute_result"
    }
   ],
   "source": [
    "subway_df.head()"
   ]
  },
  {
   "cell_type": "markdown",
   "metadata": {},
   "source": [
    "#### 교통량"
   ]
  },
  {
   "cell_type": "code",
   "execution_count": 25,
   "metadata": {},
   "outputs": [],
   "source": [
    "data_list = []\n",
    "\n",
    "filenames = find_csv_filenames(TRAFFIC_DIR, 'xlsx')\n",
    "for csv_file in filenames:\n",
    "    data_list.append(csv_file)"
   ]
  },
  {
   "cell_type": "code",
   "execution_count": 26,
   "metadata": {},
   "outputs": [],
   "source": [
    "traffic_df = pd.DataFrame(columns=['일자', '요일', '지점명', '지점번호', '방향', '구분', '0시', '1시', '2시', '3시', '4시',\n",
    "       '5시', '6시', '7시', '8시', '9시', '10시', '11시', '12시', '13시', '14시', '15시',\n",
    "       '16시', '17시', '18시', '19시', '20시', '21시', '22시', '23시'])"
   ]
  },
  {
   "cell_type": "code",
   "execution_count": 27,
   "metadata": {},
   "outputs": [
    {
     "data": {
      "text/plain": [
       "['01', '02', '03', '04', '05', '06']"
      ]
     },
     "execution_count": 27,
     "metadata": {},
     "output_type": "execute_result"
    }
   ],
   "source": [
    "month_list = ['{:0>2}'.format(num) for num in range(1, 7)]\n",
    "month_list"
   ]
  },
  {
   "cell_type": "code",
   "execution_count": 28,
   "metadata": {},
   "outputs": [
    {
     "data": {
      "text/plain": [
       "'../data/external_data/traffic/data/{}월 서울시 교통량 조사자료.xlsx'"
      ]
     },
     "execution_count": 28,
     "metadata": {},
     "output_type": "execute_result"
    }
   ],
   "source": [
    "traffic_file_path = os.path.join(TRAFFIC_DIR, '{}월 서울시 교통량 조사자료.xlsx')\n",
    "traffic_file_path"
   ]
  },
  {
   "cell_type": "code",
   "execution_count": 29,
   "metadata": {},
   "outputs": [
    {
     "data": {
      "text/html": [
       "<div>\n",
       "<style scoped>\n",
       "    .dataframe tbody tr th:only-of-type {\n",
       "        vertical-align: middle;\n",
       "    }\n",
       "\n",
       "    .dataframe tbody tr th {\n",
       "        vertical-align: top;\n",
       "    }\n",
       "\n",
       "    .dataframe thead th {\n",
       "        text-align: right;\n",
       "    }\n",
       "</style>\n",
       "<table border=\"1\" class=\"dataframe\">\n",
       "  <thead>\n",
       "    <tr style=\"text-align: right;\">\n",
       "      <th></th>\n",
       "      <th>일자</th>\n",
       "      <th>요일</th>\n",
       "      <th>지점명</th>\n",
       "      <th>지점번호</th>\n",
       "      <th>방향</th>\n",
       "      <th>구분</th>\n",
       "      <th>0시</th>\n",
       "      <th>1시</th>\n",
       "      <th>2시</th>\n",
       "      <th>3시</th>\n",
       "      <th>...</th>\n",
       "      <th>15시</th>\n",
       "      <th>16시</th>\n",
       "      <th>17시</th>\n",
       "      <th>18시</th>\n",
       "      <th>19시</th>\n",
       "      <th>20시</th>\n",
       "      <th>21시</th>\n",
       "      <th>22시</th>\n",
       "      <th>23시</th>\n",
       "      <th>요일(2)</th>\n",
       "    </tr>\n",
       "  </thead>\n",
       "  <tbody>\n",
       "    <tr>\n",
       "      <th>0</th>\n",
       "      <td>20200101</td>\n",
       "      <td>수</td>\n",
       "      <td>성산로(금화터널)</td>\n",
       "      <td>A-01</td>\n",
       "      <td>유입</td>\n",
       "      <td>봉원고가차도-&gt;독립문역</td>\n",
       "      <td>712.0</td>\n",
       "      <td>645.0</td>\n",
       "      <td>437.0</td>\n",
       "      <td>309.0</td>\n",
       "      <td>...</td>\n",
       "      <td>1416.0</td>\n",
       "      <td>1483.0</td>\n",
       "      <td>1329.0</td>\n",
       "      <td>1157.0</td>\n",
       "      <td>1014.0</td>\n",
       "      <td>954.0</td>\n",
       "      <td>849.0</td>\n",
       "      <td>780.0</td>\n",
       "      <td>480.0</td>\n",
       "      <td>NaN</td>\n",
       "    </tr>\n",
       "    <tr>\n",
       "      <th>1</th>\n",
       "      <td>20200102</td>\n",
       "      <td>목</td>\n",
       "      <td>성산로(금화터널)</td>\n",
       "      <td>A-01</td>\n",
       "      <td>유입</td>\n",
       "      <td>봉원고가차도-&gt;독립문역</td>\n",
       "      <td>315.0</td>\n",
       "      <td>222.0</td>\n",
       "      <td>186.0</td>\n",
       "      <td>165.0</td>\n",
       "      <td>...</td>\n",
       "      <td>1897.0</td>\n",
       "      <td>1842.0</td>\n",
       "      <td>2061.0</td>\n",
       "      <td>1994.0</td>\n",
       "      <td>1443.0</td>\n",
       "      <td>1233.0</td>\n",
       "      <td>1165.0</td>\n",
       "      <td>1094.0</td>\n",
       "      <td>852.0</td>\n",
       "      <td>NaN</td>\n",
       "    </tr>\n",
       "    <tr>\n",
       "      <th>2</th>\n",
       "      <td>20200103</td>\n",
       "      <td>금</td>\n",
       "      <td>성산로(금화터널)</td>\n",
       "      <td>A-01</td>\n",
       "      <td>유입</td>\n",
       "      <td>봉원고가차도-&gt;독립문역</td>\n",
       "      <td>632.0</td>\n",
       "      <td>457.0</td>\n",
       "      <td>295.0</td>\n",
       "      <td>236.0</td>\n",
       "      <td>...</td>\n",
       "      <td>1929.0</td>\n",
       "      <td>2049.0</td>\n",
       "      <td>2140.0</td>\n",
       "      <td>2178.0</td>\n",
       "      <td>1654.0</td>\n",
       "      <td>1356.0</td>\n",
       "      <td>1260.0</td>\n",
       "      <td>1253.0</td>\n",
       "      <td>941.0</td>\n",
       "      <td>NaN</td>\n",
       "    </tr>\n",
       "    <tr>\n",
       "      <th>3</th>\n",
       "      <td>20200104</td>\n",
       "      <td>토</td>\n",
       "      <td>성산로(금화터널)</td>\n",
       "      <td>A-01</td>\n",
       "      <td>유입</td>\n",
       "      <td>봉원고가차도-&gt;독립문역</td>\n",
       "      <td>740.0</td>\n",
       "      <td>518.0</td>\n",
       "      <td>388.0</td>\n",
       "      <td>331.0</td>\n",
       "      <td>...</td>\n",
       "      <td>1788.0</td>\n",
       "      <td>1588.0</td>\n",
       "      <td>1669.0</td>\n",
       "      <td>1530.0</td>\n",
       "      <td>1222.0</td>\n",
       "      <td>1143.0</td>\n",
       "      <td>1089.0</td>\n",
       "      <td>1039.0</td>\n",
       "      <td>791.0</td>\n",
       "      <td>NaN</td>\n",
       "    </tr>\n",
       "    <tr>\n",
       "      <th>4</th>\n",
       "      <td>20200105</td>\n",
       "      <td>일</td>\n",
       "      <td>성산로(금화터널)</td>\n",
       "      <td>A-01</td>\n",
       "      <td>유입</td>\n",
       "      <td>봉원고가차도-&gt;독립문역</td>\n",
       "      <td>533.0</td>\n",
       "      <td>424.0</td>\n",
       "      <td>297.0</td>\n",
       "      <td>230.0</td>\n",
       "      <td>...</td>\n",
       "      <td>1673.0</td>\n",
       "      <td>1494.0</td>\n",
       "      <td>1429.0</td>\n",
       "      <td>1288.0</td>\n",
       "      <td>1035.0</td>\n",
       "      <td>987.0</td>\n",
       "      <td>884.0</td>\n",
       "      <td>803.0</td>\n",
       "      <td>564.0</td>\n",
       "      <td>NaN</td>\n",
       "    </tr>\n",
       "  </tbody>\n",
       "</table>\n",
       "<p>5 rows × 31 columns</p>\n",
       "</div>"
      ],
      "text/plain": [
       "         일자 요일        지점명  지점번호  방향            구분     0시     1시     2시     3시  \\\n",
       "0  20200101  수  성산로(금화터널)  A-01  유입  봉원고가차도->독립문역  712.0  645.0  437.0  309.0   \n",
       "1  20200102  목  성산로(금화터널)  A-01  유입  봉원고가차도->독립문역  315.0  222.0  186.0  165.0   \n",
       "2  20200103  금  성산로(금화터널)  A-01  유입  봉원고가차도->독립문역  632.0  457.0  295.0  236.0   \n",
       "3  20200104  토  성산로(금화터널)  A-01  유입  봉원고가차도->독립문역  740.0  518.0  388.0  331.0   \n",
       "4  20200105  일  성산로(금화터널)  A-01  유입  봉원고가차도->독립문역  533.0  424.0  297.0  230.0   \n",
       "\n",
       "   ...     15시     16시     17시     18시     19시     20시     21시     22시    23시  \\\n",
       "0  ...  1416.0  1483.0  1329.0  1157.0  1014.0   954.0   849.0   780.0  480.0   \n",
       "1  ...  1897.0  1842.0  2061.0  1994.0  1443.0  1233.0  1165.0  1094.0  852.0   \n",
       "2  ...  1929.0  2049.0  2140.0  2178.0  1654.0  1356.0  1260.0  1253.0  941.0   \n",
       "3  ...  1788.0  1588.0  1669.0  1530.0  1222.0  1143.0  1089.0  1039.0  791.0   \n",
       "4  ...  1673.0  1494.0  1429.0  1288.0  1035.0   987.0   884.0   803.0  564.0   \n",
       "\n",
       "   요일(2)  \n",
       "0    NaN  \n",
       "1    NaN  \n",
       "2    NaN  \n",
       "3    NaN  \n",
       "4    NaN  \n",
       "\n",
       "[5 rows x 31 columns]"
      ]
     },
     "execution_count": 29,
     "metadata": {},
     "output_type": "execute_result"
    }
   ],
   "source": [
    "for month in month_list:\n",
    "    traffic_df = traffic_df.append(pd.read_excel(traffic_file_path.format(month), sheet_name=f'{2020}년 {month}월'))\n",
    "    \n",
    "traffic_df.head()"
   ]
  },
  {
   "cell_type": "code",
   "execution_count": 30,
   "metadata": {},
   "outputs": [
    {
     "data": {
      "text/html": [
       "<div>\n",
       "<style scoped>\n",
       "    .dataframe tbody tr th:only-of-type {\n",
       "        vertical-align: middle;\n",
       "    }\n",
       "\n",
       "    .dataframe tbody tr th {\n",
       "        vertical-align: top;\n",
       "    }\n",
       "\n",
       "    .dataframe thead th {\n",
       "        text-align: right;\n",
       "    }\n",
       "</style>\n",
       "<table border=\"1\" class=\"dataframe\">\n",
       "  <thead>\n",
       "    <tr style=\"text-align: right;\">\n",
       "      <th></th>\n",
       "      <th>0시</th>\n",
       "      <th>1시</th>\n",
       "      <th>2시</th>\n",
       "      <th>3시</th>\n",
       "      <th>4시</th>\n",
       "      <th>5시</th>\n",
       "      <th>6시</th>\n",
       "      <th>7시</th>\n",
       "      <th>8시</th>\n",
       "      <th>9시</th>\n",
       "      <th>...</th>\n",
       "      <th>14시</th>\n",
       "      <th>15시</th>\n",
       "      <th>16시</th>\n",
       "      <th>17시</th>\n",
       "      <th>18시</th>\n",
       "      <th>19시</th>\n",
       "      <th>20시</th>\n",
       "      <th>21시</th>\n",
       "      <th>22시</th>\n",
       "      <th>23시</th>\n",
       "    </tr>\n",
       "    <tr>\n",
       "      <th>일자</th>\n",
       "      <th></th>\n",
       "      <th></th>\n",
       "      <th></th>\n",
       "      <th></th>\n",
       "      <th></th>\n",
       "      <th></th>\n",
       "      <th></th>\n",
       "      <th></th>\n",
       "      <th></th>\n",
       "      <th></th>\n",
       "      <th></th>\n",
       "      <th></th>\n",
       "      <th></th>\n",
       "      <th></th>\n",
       "      <th></th>\n",
       "      <th></th>\n",
       "      <th></th>\n",
       "      <th></th>\n",
       "      <th></th>\n",
       "      <th></th>\n",
       "      <th></th>\n",
       "    </tr>\n",
       "  </thead>\n",
       "  <tbody>\n",
       "    <tr>\n",
       "      <th>20200101</th>\n",
       "      <td>266533.0</td>\n",
       "      <td>296321.0</td>\n",
       "      <td>185636.0</td>\n",
       "      <td>134134.0</td>\n",
       "      <td>114799.0</td>\n",
       "      <td>125439.0</td>\n",
       "      <td>153618.0</td>\n",
       "      <td>177253.0</td>\n",
       "      <td>229955.0</td>\n",
       "      <td>271736.0</td>\n",
       "      <td>...</td>\n",
       "      <td>448721.0</td>\n",
       "      <td>463652.0</td>\n",
       "      <td>465493.0</td>\n",
       "      <td>440349.0</td>\n",
       "      <td>397753.0</td>\n",
       "      <td>372566.0</td>\n",
       "      <td>369655.0</td>\n",
       "      <td>343421.0</td>\n",
       "      <td>271340.0</td>\n",
       "      <td>185353.0</td>\n",
       "    </tr>\n",
       "    <tr>\n",
       "      <th>20200102</th>\n",
       "      <td>128132.0</td>\n",
       "      <td>85712.0</td>\n",
       "      <td>64405.0</td>\n",
       "      <td>61816.0</td>\n",
       "      <td>102125.0</td>\n",
       "      <td>228184.0</td>\n",
       "      <td>417027.0</td>\n",
       "      <td>543584.0</td>\n",
       "      <td>576058.0</td>\n",
       "      <td>531913.0</td>\n",
       "      <td>...</td>\n",
       "      <td>513649.0</td>\n",
       "      <td>525513.0</td>\n",
       "      <td>537179.0</td>\n",
       "      <td>553531.0</td>\n",
       "      <td>550529.0</td>\n",
       "      <td>482317.0</td>\n",
       "      <td>416175.0</td>\n",
       "      <td>405076.0</td>\n",
       "      <td>359995.0</td>\n",
       "      <td>275395.0</td>\n",
       "    </tr>\n",
       "    <tr>\n",
       "      <th>20200103</th>\n",
       "      <td>205548.0</td>\n",
       "      <td>153871.0</td>\n",
       "      <td>114252.0</td>\n",
       "      <td>96035.0</td>\n",
       "      <td>119189.0</td>\n",
       "      <td>223213.0</td>\n",
       "      <td>398420.0</td>\n",
       "      <td>538560.0</td>\n",
       "      <td>585920.0</td>\n",
       "      <td>548984.0</td>\n",
       "      <td>...</td>\n",
       "      <td>538689.0</td>\n",
       "      <td>544406.0</td>\n",
       "      <td>554737.0</td>\n",
       "      <td>564720.0</td>\n",
       "      <td>554247.0</td>\n",
       "      <td>515284.0</td>\n",
       "      <td>464737.0</td>\n",
       "      <td>440925.0</td>\n",
       "      <td>407617.0</td>\n",
       "      <td>328408.0</td>\n",
       "    </tr>\n",
       "    <tr>\n",
       "      <th>20200104</th>\n",
       "      <td>257111.0</td>\n",
       "      <td>203631.0</td>\n",
       "      <td>164033.0</td>\n",
       "      <td>133204.0</td>\n",
       "      <td>137314.0</td>\n",
       "      <td>201180.0</td>\n",
       "      <td>281633.0</td>\n",
       "      <td>320162.0</td>\n",
       "      <td>417084.0</td>\n",
       "      <td>489365.0</td>\n",
       "      <td>...</td>\n",
       "      <td>530548.0</td>\n",
       "      <td>531122.0</td>\n",
       "      <td>535347.0</td>\n",
       "      <td>539571.0</td>\n",
       "      <td>496455.0</td>\n",
       "      <td>424779.0</td>\n",
       "      <td>401285.0</td>\n",
       "      <td>400037.0</td>\n",
       "      <td>353366.0</td>\n",
       "      <td>274282.0</td>\n",
       "    </tr>\n",
       "    <tr>\n",
       "      <th>20200105</th>\n",
       "      <td>215442.0</td>\n",
       "      <td>164669.0</td>\n",
       "      <td>126931.0</td>\n",
       "      <td>100601.0</td>\n",
       "      <td>94797.0</td>\n",
       "      <td>118228.0</td>\n",
       "      <td>166274.0</td>\n",
       "      <td>205482.0</td>\n",
       "      <td>295470.0</td>\n",
       "      <td>396652.0</td>\n",
       "      <td>...</td>\n",
       "      <td>511018.0</td>\n",
       "      <td>511254.0</td>\n",
       "      <td>509879.0</td>\n",
       "      <td>487306.0</td>\n",
       "      <td>442948.0</td>\n",
       "      <td>393968.0</td>\n",
       "      <td>385019.0</td>\n",
       "      <td>357217.0</td>\n",
       "      <td>290775.0</td>\n",
       "      <td>206582.0</td>\n",
       "    </tr>\n",
       "  </tbody>\n",
       "</table>\n",
       "<p>5 rows × 24 columns</p>\n",
       "</div>"
      ],
      "text/plain": [
       "                0시        1시        2시        3시        4시        5시  \\\n",
       "일자                                                                     \n",
       "20200101  266533.0  296321.0  185636.0  134134.0  114799.0  125439.0   \n",
       "20200102  128132.0   85712.0   64405.0   61816.0  102125.0  228184.0   \n",
       "20200103  205548.0  153871.0  114252.0   96035.0  119189.0  223213.0   \n",
       "20200104  257111.0  203631.0  164033.0  133204.0  137314.0  201180.0   \n",
       "20200105  215442.0  164669.0  126931.0  100601.0   94797.0  118228.0   \n",
       "\n",
       "                6시        7시        8시        9시  ...       14시       15시  \\\n",
       "일자                                                ...                       \n",
       "20200101  153618.0  177253.0  229955.0  271736.0  ...  448721.0  463652.0   \n",
       "20200102  417027.0  543584.0  576058.0  531913.0  ...  513649.0  525513.0   \n",
       "20200103  398420.0  538560.0  585920.0  548984.0  ...  538689.0  544406.0   \n",
       "20200104  281633.0  320162.0  417084.0  489365.0  ...  530548.0  531122.0   \n",
       "20200105  166274.0  205482.0  295470.0  396652.0  ...  511018.0  511254.0   \n",
       "\n",
       "               16시       17시       18시       19시       20시       21시  \\\n",
       "일자                                                                     \n",
       "20200101  465493.0  440349.0  397753.0  372566.0  369655.0  343421.0   \n",
       "20200102  537179.0  553531.0  550529.0  482317.0  416175.0  405076.0   \n",
       "20200103  554737.0  564720.0  554247.0  515284.0  464737.0  440925.0   \n",
       "20200104  535347.0  539571.0  496455.0  424779.0  401285.0  400037.0   \n",
       "20200105  509879.0  487306.0  442948.0  393968.0  385019.0  357217.0   \n",
       "\n",
       "               22시       23시  \n",
       "일자                            \n",
       "20200101  271340.0  185353.0  \n",
       "20200102  359995.0  275395.0  \n",
       "20200103  407617.0  328408.0  \n",
       "20200104  353366.0  274282.0  \n",
       "20200105  290775.0  206582.0  \n",
       "\n",
       "[5 rows x 24 columns]"
      ]
     },
     "execution_count": 30,
     "metadata": {},
     "output_type": "execute_result"
    }
   ],
   "source": [
    "traffic_df = traffic_df.groupby('일자')[[name for name in traffic_df.columns if name[0].isnumeric()]].sum()\n",
    "traffic_df.head()"
   ]
  },
  {
   "cell_type": "code",
   "execution_count": 31,
   "metadata": {},
   "outputs": [],
   "source": [
    "traffic_df = traffic_df.T.sum().reset_index()\n",
    "traffic_df = traffic_df.rename(columns={'일자':'사용일자', 0:'중분류_카운트'})\n",
    "\n",
    "traffic_df['사용일자'] = traffic_df['사용일자'].map(make_datetime)\n",
    "traffic_df['중분류_카운트'] = traffic_df['중분류_카운트'].map(lambda x : int(x))\n",
    "traffic_df['중분류'] = '교통량'"
   ]
  },
  {
   "cell_type": "code",
   "execution_count": 32,
   "metadata": {},
   "outputs": [
    {
     "data": {
      "text/html": [
       "<div>\n",
       "<style scoped>\n",
       "    .dataframe tbody tr th:only-of-type {\n",
       "        vertical-align: middle;\n",
       "    }\n",
       "\n",
       "    .dataframe tbody tr th {\n",
       "        vertical-align: top;\n",
       "    }\n",
       "\n",
       "    .dataframe thead th {\n",
       "        text-align: right;\n",
       "    }\n",
       "</style>\n",
       "<table border=\"1\" class=\"dataframe\">\n",
       "  <thead>\n",
       "    <tr style=\"text-align: right;\">\n",
       "      <th></th>\n",
       "      <th>사용일자</th>\n",
       "      <th>중분류_카운트</th>\n",
       "      <th>중분류</th>\n",
       "    </tr>\n",
       "  </thead>\n",
       "  <tbody>\n",
       "    <tr>\n",
       "      <th>0</th>\n",
       "      <td>2020-01-01</td>\n",
       "      <td>7347299</td>\n",
       "      <td>교통량</td>\n",
       "    </tr>\n",
       "    <tr>\n",
       "      <th>1</th>\n",
       "      <td>2020-01-02</td>\n",
       "      <td>9326734</td>\n",
       "      <td>교통량</td>\n",
       "    </tr>\n",
       "    <tr>\n",
       "      <th>2</th>\n",
       "      <td>2020-01-03</td>\n",
       "      <td>9998638</td>\n",
       "      <td>교통량</td>\n",
       "    </tr>\n",
       "    <tr>\n",
       "      <th>3</th>\n",
       "      <td>2020-01-04</td>\n",
       "      <td>9198233</td>\n",
       "      <td>교통량</td>\n",
       "    </tr>\n",
       "    <tr>\n",
       "      <th>4</th>\n",
       "      <td>2020-01-05</td>\n",
       "      <td>7868358</td>\n",
       "      <td>교통량</td>\n",
       "    </tr>\n",
       "  </tbody>\n",
       "</table>\n",
       "</div>"
      ],
      "text/plain": [
       "         사용일자  중분류_카운트  중분류\n",
       "0  2020-01-01  7347299  교통량\n",
       "1  2020-01-02  9326734  교통량\n",
       "2  2020-01-03  9998638  교통량\n",
       "3  2020-01-04  9198233  교통량\n",
       "4  2020-01-05  7868358  교통량"
      ]
     },
     "execution_count": 32,
     "metadata": {},
     "output_type": "execute_result"
    }
   ],
   "source": [
    "traffic_df.head()"
   ]
  },
  {
   "cell_type": "markdown",
   "metadata": {},
   "source": [
    "### 1-3. 최종 데이터 (내부데이터 + 외부데이터)\n",
    "\n",
    "- Internal + External + Covid Confirmation Count = Result  "
   ]
  },
  {
   "cell_type": "code",
   "execution_count": 33,
   "metadata": {},
   "outputs": [
    {
     "data": {
      "text/html": [
       "<div>\n",
       "<style scoped>\n",
       "    .dataframe tbody tr th:only-of-type {\n",
       "        vertical-align: middle;\n",
       "    }\n",
       "\n",
       "    .dataframe tbody tr th {\n",
       "        vertical-align: top;\n",
       "    }\n",
       "\n",
       "    .dataframe thead th {\n",
       "        text-align: right;\n",
       "    }\n",
       "</style>\n",
       "<table border=\"1\" class=\"dataframe\">\n",
       "  <thead>\n",
       "    <tr style=\"text-align: right;\">\n",
       "      <th></th>\n",
       "      <th>사용일자</th>\n",
       "      <th>중분류_카운트</th>\n",
       "      <th>중분류</th>\n",
       "    </tr>\n",
       "  </thead>\n",
       "  <tbody>\n",
       "    <tr>\n",
       "      <th>0</th>\n",
       "      <td>2020-01-01</td>\n",
       "      <td>2509091</td>\n",
       "      <td>버스</td>\n",
       "    </tr>\n",
       "    <tr>\n",
       "      <th>1</th>\n",
       "      <td>2020-01-02</td>\n",
       "      <td>5286628</td>\n",
       "      <td>버스</td>\n",
       "    </tr>\n",
       "    <tr>\n",
       "      <th>2</th>\n",
       "      <td>2020-01-03</td>\n",
       "      <td>5580078</td>\n",
       "      <td>버스</td>\n",
       "    </tr>\n",
       "    <tr>\n",
       "      <th>3</th>\n",
       "      <td>2020-01-04</td>\n",
       "      <td>4036695</td>\n",
       "      <td>버스</td>\n",
       "    </tr>\n",
       "    <tr>\n",
       "      <th>4</th>\n",
       "      <td>2020-01-05</td>\n",
       "      <td>3138649</td>\n",
       "      <td>버스</td>\n",
       "    </tr>\n",
       "  </tbody>\n",
       "</table>\n",
       "</div>"
      ],
      "text/plain": [
       "         사용일자  중분류_카운트 중분류\n",
       "0  2020-01-01  2509091  버스\n",
       "1  2020-01-02  5286628  버스\n",
       "2  2020-01-03  5580078  버스\n",
       "3  2020-01-04  4036695  버스\n",
       "4  2020-01-05  3138649  버스"
      ]
     },
     "execution_count": 33,
     "metadata": {},
     "output_type": "execute_result"
    }
   ],
   "source": [
    "external_df = bus_df.append(subway_df)\n",
    "external_df = external_df.append(traffic_df)\n",
    "external_df.head()"
   ]
  },
  {
   "cell_type": "code",
   "execution_count": 34,
   "metadata": {},
   "outputs": [],
   "source": [
    "external_df['대분류'] = np.nan"
   ]
  },
  {
   "cell_type": "code",
   "execution_count": 35,
   "metadata": {},
   "outputs": [],
   "source": [
    "external_df.loc[external_df['중분류'] == '교통량', ['대분류']] = '교통'\n",
    "external_df.loc[external_df['중분류'] != '교통량', ['대분류']] = '대중교통'"
   ]
  },
  {
   "cell_type": "code",
   "execution_count": 36,
   "metadata": {},
   "outputs": [
    {
     "data": {
      "text/html": [
       "<div>\n",
       "<style scoped>\n",
       "    .dataframe tbody tr th:only-of-type {\n",
       "        vertical-align: middle;\n",
       "    }\n",
       "\n",
       "    .dataframe tbody tr th {\n",
       "        vertical-align: top;\n",
       "    }\n",
       "\n",
       "    .dataframe thead th {\n",
       "        text-align: right;\n",
       "    }\n",
       "</style>\n",
       "<table border=\"1\" class=\"dataframe\">\n",
       "  <thead>\n",
       "    <tr style=\"text-align: right;\">\n",
       "      <th></th>\n",
       "      <th>사용일자</th>\n",
       "      <th>대분류</th>\n",
       "      <th>중분류</th>\n",
       "      <th>중분류_카운트</th>\n",
       "    </tr>\n",
       "  </thead>\n",
       "  <tbody>\n",
       "    <tr>\n",
       "      <th>0</th>\n",
       "      <td>2020-01-04</td>\n",
       "      <td>관광</td>\n",
       "      <td>1급호텔</td>\n",
       "      <td>38</td>\n",
       "    </tr>\n",
       "    <tr>\n",
       "      <th>1</th>\n",
       "      <td>2020-01-04</td>\n",
       "      <td>관광</td>\n",
       "      <td>관광여행</td>\n",
       "      <td>1063</td>\n",
       "    </tr>\n",
       "    <tr>\n",
       "      <th>2</th>\n",
       "      <td>2020-01-04</td>\n",
       "      <td>관광</td>\n",
       "      <td>기타숙박업</td>\n",
       "      <td>3738</td>\n",
       "    </tr>\n",
       "    <tr>\n",
       "      <th>3</th>\n",
       "      <td>2020-01-04</td>\n",
       "      <td>관광</td>\n",
       "      <td>항공사</td>\n",
       "      <td>4800</td>\n",
       "    </tr>\n",
       "    <tr>\n",
       "      <th>4</th>\n",
       "      <td>2020-01-04</td>\n",
       "      <td>교육</td>\n",
       "      <td>기능학원</td>\n",
       "      <td>36</td>\n",
       "    </tr>\n",
       "    <tr>\n",
       "      <th>...</th>\n",
       "      <td>...</td>\n",
       "      <td>...</td>\n",
       "      <td>...</td>\n",
       "      <td>...</td>\n",
       "    </tr>\n",
       "    <tr>\n",
       "      <th>177</th>\n",
       "      <td>2020-06-26</td>\n",
       "      <td>교통</td>\n",
       "      <td>교통량</td>\n",
       "      <td>10115813</td>\n",
       "    </tr>\n",
       "    <tr>\n",
       "      <th>178</th>\n",
       "      <td>2020-06-27</td>\n",
       "      <td>교통</td>\n",
       "      <td>교통량</td>\n",
       "      <td>9465922</td>\n",
       "    </tr>\n",
       "    <tr>\n",
       "      <th>179</th>\n",
       "      <td>2020-06-28</td>\n",
       "      <td>교통</td>\n",
       "      <td>교통량</td>\n",
       "      <td>8023217</td>\n",
       "    </tr>\n",
       "    <tr>\n",
       "      <th>180</th>\n",
       "      <td>2020-06-29</td>\n",
       "      <td>교통</td>\n",
       "      <td>교통량</td>\n",
       "      <td>9589932</td>\n",
       "    </tr>\n",
       "    <tr>\n",
       "      <th>181</th>\n",
       "      <td>2020-06-30</td>\n",
       "      <td>교통</td>\n",
       "      <td>교통량</td>\n",
       "      <td>9248712</td>\n",
       "    </tr>\n",
       "  </tbody>\n",
       "</table>\n",
       "<p>10705 rows × 4 columns</p>\n",
       "</div>"
      ],
      "text/plain": [
       "           사용일자 대분류    중분류   중분류_카운트\n",
       "0    2020-01-04  관광   1급호텔        38\n",
       "1    2020-01-04  관광   관광여행      1063\n",
       "2    2020-01-04  관광  기타숙박업      3738\n",
       "3    2020-01-04  관광    항공사      4800\n",
       "4    2020-01-04  교육   기능학원        36\n",
       "..          ...  ..    ...       ...\n",
       "177  2020-06-26  교통    교통량  10115813\n",
       "178  2020-06-27  교통    교통량   9465922\n",
       "179  2020-06-28  교통    교통량   8023217\n",
       "180  2020-06-29  교통    교통량   9589932\n",
       "181  2020-06-30  교통    교통량   9248712\n",
       "\n",
       "[10705 rows x 4 columns]"
      ]
     },
     "execution_count": 36,
     "metadata": {},
     "output_type": "execute_result"
    }
   ],
   "source": [
    "concated_df = pd.concat([internal_df, external_df], axis = 0)\n",
    "concated_df"
   ]
  },
  {
   "cell_type": "code",
   "execution_count": 37,
   "metadata": {},
   "outputs": [],
   "source": [
    "median_v_series = concated_df.groupby(['대분류', '중분류'], as_index = False)['중분류_카운트'].median()\n",
    "# 분류 별 카운트의 중앙값 할당\n",
    "median_v_series.rename(columns = {'중분류_카운트' : '중분류_대표값'}, inplace = True)"
   ]
  },
  {
   "cell_type": "code",
   "execution_count": 38,
   "metadata": {},
   "outputs": [
    {
     "data": {
      "text/html": [
       "<div>\n",
       "<style scoped>\n",
       "    .dataframe tbody tr th:only-of-type {\n",
       "        vertical-align: middle;\n",
       "    }\n",
       "\n",
       "    .dataframe tbody tr th {\n",
       "        vertical-align: top;\n",
       "    }\n",
       "\n",
       "    .dataframe thead th {\n",
       "        text-align: right;\n",
       "    }\n",
       "</style>\n",
       "<table border=\"1\" class=\"dataframe\">\n",
       "  <thead>\n",
       "    <tr style=\"text-align: right;\">\n",
       "      <th></th>\n",
       "      <th>사용일자</th>\n",
       "      <th>대분류</th>\n",
       "      <th>중분류</th>\n",
       "      <th>중분류_카운트</th>\n",
       "      <th>중분류_대표값</th>\n",
       "    </tr>\n",
       "  </thead>\n",
       "  <tbody>\n",
       "    <tr>\n",
       "      <th>0</th>\n",
       "      <td>2020-01-04</td>\n",
       "      <td>관광</td>\n",
       "      <td>1급호텔</td>\n",
       "      <td>38</td>\n",
       "      <td>338.0</td>\n",
       "    </tr>\n",
       "    <tr>\n",
       "      <th>1</th>\n",
       "      <td>2020-01-06</td>\n",
       "      <td>관광</td>\n",
       "      <td>1급호텔</td>\n",
       "      <td>19</td>\n",
       "      <td>338.0</td>\n",
       "    </tr>\n",
       "  </tbody>\n",
       "</table>\n",
       "</div>"
      ],
      "text/plain": [
       "         사용일자 대분류   중분류  중분류_카운트  중분류_대표값\n",
       "0  2020-01-04  관광  1급호텔       38    338.0\n",
       "1  2020-01-06  관광  1급호텔       19    338.0"
      ]
     },
     "execution_count": 38,
     "metadata": {},
     "output_type": "execute_result"
    }
   ],
   "source": [
    "combined_median_df = pd.merge(concated_df, median_v_series, on = ['대분류', '중분류'])\n",
    "combined_median_df.head(2)"
   ]
  },
  {
   "cell_type": "code",
   "execution_count": 39,
   "metadata": {},
   "outputs": [],
   "source": [
    "combined_median_df['증가추이'] = ((combined_median_df['중분류_카운트']-combined_median_df['중분류_대표값']) / combined_median_df['중분류_대표값']) * 100"
   ]
  },
  {
   "cell_type": "code",
   "execution_count": 40,
   "metadata": {},
   "outputs": [
    {
     "data": {
      "text/html": [
       "<div>\n",
       "<style scoped>\n",
       "    .dataframe tbody tr th:only-of-type {\n",
       "        vertical-align: middle;\n",
       "    }\n",
       "\n",
       "    .dataframe tbody tr th {\n",
       "        vertical-align: top;\n",
       "    }\n",
       "\n",
       "    .dataframe thead th {\n",
       "        text-align: right;\n",
       "    }\n",
       "</style>\n",
       "<table border=\"1\" class=\"dataframe\">\n",
       "  <thead>\n",
       "    <tr style=\"text-align: right;\">\n",
       "      <th></th>\n",
       "      <th>사용일자</th>\n",
       "      <th>대분류</th>\n",
       "      <th>중분류</th>\n",
       "      <th>중분류_카운트</th>\n",
       "      <th>중분류_대표값</th>\n",
       "      <th>증가추이</th>\n",
       "    </tr>\n",
       "  </thead>\n",
       "  <tbody>\n",
       "  </tbody>\n",
       "</table>\n",
       "</div>"
      ],
      "text/plain": [
       "Empty DataFrame\n",
       "Columns: [사용일자, 대분류, 중분류, 중분류_카운트, 중분류_대표값, 증가추이]\n",
       "Index: []"
      ]
     },
     "execution_count": 40,
     "metadata": {},
     "output_type": "execute_result"
    }
   ],
   "source": [
    "combined_median_df[(combined_median_df['중분류_대표값'] == 0) & (combined_median_df['중분류_카운트'] == 0)]"
   ]
  },
  {
   "cell_type": "markdown",
   "metadata": {},
   "source": [
    "#### 코로나 "
   ]
  },
  {
   "cell_type": "code",
   "execution_count": 41,
   "metadata": {},
   "outputs": [
    {
     "data": {
      "text/html": [
       "<div>\n",
       "<style scoped>\n",
       "    .dataframe tbody tr th:only-of-type {\n",
       "        vertical-align: middle;\n",
       "    }\n",
       "\n",
       "    .dataframe tbody tr th {\n",
       "        vertical-align: top;\n",
       "    }\n",
       "\n",
       "    .dataframe thead th {\n",
       "        text-align: right;\n",
       "    }\n",
       "</style>\n",
       "<table border=\"1\" class=\"dataframe\">\n",
       "  <thead>\n",
       "    <tr style=\"text-align: right;\">\n",
       "      <th></th>\n",
       "      <th>date</th>\n",
       "      <th>time</th>\n",
       "      <th>test</th>\n",
       "      <th>negative</th>\n",
       "      <th>confirmed</th>\n",
       "      <th>released</th>\n",
       "      <th>deceased</th>\n",
       "    </tr>\n",
       "  </thead>\n",
       "  <tbody>\n",
       "    <tr>\n",
       "      <th>0</th>\n",
       "      <td>2020-01-20</td>\n",
       "      <td>16</td>\n",
       "      <td>1</td>\n",
       "      <td>0</td>\n",
       "      <td>1</td>\n",
       "      <td>0</td>\n",
       "      <td>0</td>\n",
       "    </tr>\n",
       "    <tr>\n",
       "      <th>1</th>\n",
       "      <td>2020-01-21</td>\n",
       "      <td>16</td>\n",
       "      <td>1</td>\n",
       "      <td>0</td>\n",
       "      <td>1</td>\n",
       "      <td>0</td>\n",
       "      <td>0</td>\n",
       "    </tr>\n",
       "    <tr>\n",
       "      <th>2</th>\n",
       "      <td>2020-01-22</td>\n",
       "      <td>16</td>\n",
       "      <td>4</td>\n",
       "      <td>3</td>\n",
       "      <td>1</td>\n",
       "      <td>0</td>\n",
       "      <td>0</td>\n",
       "    </tr>\n",
       "    <tr>\n",
       "      <th>3</th>\n",
       "      <td>2020-01-23</td>\n",
       "      <td>16</td>\n",
       "      <td>22</td>\n",
       "      <td>21</td>\n",
       "      <td>1</td>\n",
       "      <td>0</td>\n",
       "      <td>0</td>\n",
       "    </tr>\n",
       "    <tr>\n",
       "      <th>4</th>\n",
       "      <td>2020-01-24</td>\n",
       "      <td>16</td>\n",
       "      <td>27</td>\n",
       "      <td>25</td>\n",
       "      <td>2</td>\n",
       "      <td>0</td>\n",
       "      <td>0</td>\n",
       "    </tr>\n",
       "  </tbody>\n",
       "</table>\n",
       "</div>"
      ],
      "text/plain": [
       "         date  time  test  negative  confirmed  released  deceased\n",
       "0  2020-01-20    16     1         0          1         0         0\n",
       "1  2020-01-21    16     1         0          1         0         0\n",
       "2  2020-01-22    16     4         3          1         0         0\n",
       "3  2020-01-23    16    22        21          1         0         0\n",
       "4  2020-01-24    16    27        25          2         0         0"
      ]
     },
     "execution_count": 41,
     "metadata": {},
     "output_type": "execute_result"
    }
   ],
   "source": [
    "covid_df = pd.read_csv(COVID_PATH)\n",
    "covid_df.head() # (163, 7)"
   ]
  },
  {
   "cell_type": "code",
   "execution_count": 42,
   "metadata": {},
   "outputs": [
    {
     "data": {
      "text/html": [
       "<div>\n",
       "<style scoped>\n",
       "    .dataframe tbody tr th:only-of-type {\n",
       "        vertical-align: middle;\n",
       "    }\n",
       "\n",
       "    .dataframe tbody tr th {\n",
       "        vertical-align: top;\n",
       "    }\n",
       "\n",
       "    .dataframe thead th {\n",
       "        text-align: right;\n",
       "    }\n",
       "</style>\n",
       "<table border=\"1\" class=\"dataframe\">\n",
       "  <thead>\n",
       "    <tr style=\"text-align: right;\">\n",
       "      <th></th>\n",
       "      <th>사용일자</th>\n",
       "      <th>확진자수</th>\n",
       "    </tr>\n",
       "  </thead>\n",
       "  <tbody>\n",
       "    <tr>\n",
       "      <th>0</th>\n",
       "      <td>2020-01-20</td>\n",
       "      <td>1</td>\n",
       "    </tr>\n",
       "    <tr>\n",
       "      <th>1</th>\n",
       "      <td>2020-01-21</td>\n",
       "      <td>1</td>\n",
       "    </tr>\n",
       "    <tr>\n",
       "      <th>2</th>\n",
       "      <td>2020-01-22</td>\n",
       "      <td>1</td>\n",
       "    </tr>\n",
       "    <tr>\n",
       "      <th>3</th>\n",
       "      <td>2020-01-23</td>\n",
       "      <td>1</td>\n",
       "    </tr>\n",
       "    <tr>\n",
       "      <th>4</th>\n",
       "      <td>2020-01-24</td>\n",
       "      <td>2</td>\n",
       "    </tr>\n",
       "  </tbody>\n",
       "</table>\n",
       "</div>"
      ],
      "text/plain": [
       "         사용일자  확진자수\n",
       "0  2020-01-20     1\n",
       "1  2020-01-21     1\n",
       "2  2020-01-22     1\n",
       "3  2020-01-23     1\n",
       "4  2020-01-24     2"
      ]
     },
     "execution_count": 42,
     "metadata": {},
     "output_type": "execute_result"
    }
   ],
   "source": [
    "covid_confirmation_df = covid_df[['date', 'confirmed']]\n",
    "covid_confirmation_df.columns = ['사용일자', '확진자수']\n",
    "# 확진자 수만 차출\n",
    "\n",
    "covid_confirmation_df.head()"
   ]
  },
  {
   "cell_type": "code",
   "execution_count": 43,
   "metadata": {},
   "outputs": [
    {
     "data": {
      "text/html": [
       "<div>\n",
       "<style scoped>\n",
       "    .dataframe tbody tr th:only-of-type {\n",
       "        vertical-align: middle;\n",
       "    }\n",
       "\n",
       "    .dataframe tbody tr th {\n",
       "        vertical-align: top;\n",
       "    }\n",
       "\n",
       "    .dataframe thead th {\n",
       "        text-align: right;\n",
       "    }\n",
       "</style>\n",
       "<table border=\"1\" class=\"dataframe\">\n",
       "  <thead>\n",
       "    <tr style=\"text-align: right;\">\n",
       "      <th></th>\n",
       "      <th>사용일자</th>\n",
       "      <th>대분류</th>\n",
       "      <th>중분류</th>\n",
       "      <th>중분류_카운트</th>\n",
       "      <th>중분류_대표값</th>\n",
       "      <th>증가추이</th>\n",
       "      <th>확진자수</th>\n",
       "    </tr>\n",
       "  </thead>\n",
       "  <tbody>\n",
       "    <tr>\n",
       "      <th>0</th>\n",
       "      <td>2020-01-04</td>\n",
       "      <td>관광</td>\n",
       "      <td>1급호텔</td>\n",
       "      <td>38</td>\n",
       "      <td>338.0</td>\n",
       "      <td>-88.757396</td>\n",
       "      <td>0.0</td>\n",
       "    </tr>\n",
       "    <tr>\n",
       "      <th>1</th>\n",
       "      <td>2020-01-06</td>\n",
       "      <td>관광</td>\n",
       "      <td>1급호텔</td>\n",
       "      <td>19</td>\n",
       "      <td>338.0</td>\n",
       "      <td>-94.378698</td>\n",
       "      <td>0.0</td>\n",
       "    </tr>\n",
       "    <tr>\n",
       "      <th>2</th>\n",
       "      <td>2020-01-07</td>\n",
       "      <td>관광</td>\n",
       "      <td>1급호텔</td>\n",
       "      <td>40</td>\n",
       "      <td>338.0</td>\n",
       "      <td>-88.165680</td>\n",
       "      <td>0.0</td>\n",
       "    </tr>\n",
       "    <tr>\n",
       "      <th>3</th>\n",
       "      <td>2020-01-10</td>\n",
       "      <td>관광</td>\n",
       "      <td>1급호텔</td>\n",
       "      <td>43</td>\n",
       "      <td>338.0</td>\n",
       "      <td>-87.278107</td>\n",
       "      <td>0.0</td>\n",
       "    </tr>\n",
       "    <tr>\n",
       "      <th>4</th>\n",
       "      <td>2020-01-11</td>\n",
       "      <td>관광</td>\n",
       "      <td>1급호텔</td>\n",
       "      <td>59</td>\n",
       "      <td>338.0</td>\n",
       "      <td>-82.544379</td>\n",
       "      <td>0.0</td>\n",
       "    </tr>\n",
       "  </tbody>\n",
       "</table>\n",
       "</div>"
      ],
      "text/plain": [
       "         사용일자 대분류   중분류  중분류_카운트  중분류_대표값       증가추이  확진자수\n",
       "0  2020-01-04  관광  1급호텔       38    338.0 -88.757396   0.0\n",
       "1  2020-01-06  관광  1급호텔       19    338.0 -94.378698   0.0\n",
       "2  2020-01-07  관광  1급호텔       40    338.0 -88.165680   0.0\n",
       "3  2020-01-10  관광  1급호텔       43    338.0 -87.278107   0.0\n",
       "4  2020-01-11  관광  1급호텔       59    338.0 -82.544379   0.0"
      ]
     },
     "execution_count": 43,
     "metadata": {},
     "output_type": "execute_result"
    }
   ],
   "source": [
    "result_df = combined_median_df.merge(covid_confirmation_df, on='사용일자', how='left')\n",
    "result_df['확진자수'] = result_df['확진자수'].fillna(0)\n",
    "result_df.head()"
   ]
  },
  {
   "cell_type": "markdown",
   "metadata": {},
   "source": [
    "# 2. 데이터 분석 및 시각화 방법"
   ]
  },
  {
   "cell_type": "markdown",
   "metadata": {},
   "source": [
    "### 2-1. 군집화"
   ]
  },
  {
   "cell_type": "markdown",
   "metadata": {},
   "source": [
    "데이콘에서 제공하는 __가명점 업종명__ 은 이하 __중분류__ 로 표현합니다.\n",
    "\n",
    "- 저희 팀에서는 다양하게 나눠져 있는 중분류들을 카테고리를 만들어서 군집화하여 표현하였습니다.\n",
    "- 군집화하여 표현한 이유는 사람들에게 보다 효과적으로 __카테고리별로 시각화__ 를 볼 수 있도록 만들었습니다.\n",
    "\n",
    "\n",
    "- 저희 팀의 데이터 분석결과를 어렵게 설명하기보다\n",
    "- __시각화만을 통해 직관적__ 으로 이해가능한 형태로 __데이터 분석 결과를 제공__ 하려고 했습니다.\n",
    "\n",
    "\n",
    "- 군집화 카테고리는 일상생활에서 보편적으로 나눠지는 내용으로 구성했습니다.\n",
    "- 중분류들이 카테고리에 군집화하는 과정으로는\n",
    "- 팀에서 중분류를 나누어 엑셀 형태로 구성하였습니다.\n",
    "- 데이터과학 연구센터장님 및 연구원들에게 자문을 얻어 군집화를 견고하게 했습니다."
   ]
  },
  {
   "cell_type": "markdown",
   "metadata": {},
   "source": [
    "### 데이터 분류 표"
   ]
  },
  {
   "cell_type": "markdown",
   "metadata": {},
   "source": [
    "### 2-2. 변화추이 계산 방법 "
   ]
  },
  {
   "cell_type": "markdown",
   "metadata": {},
   "source": [
    "1. 중분류별 일마다의 거래 횟수를 카운트 했습니다.\n",
    "2. 중분류별 일별 거래 횟수의 __중간값(Median)__ 을 구해 해당 __중분류의 대표값__ 으로 설정했습니다.\n",
    "3. 변화추이를 확인하기 위해 중분류별 일별 거래 횟수에서 중분류별 대표값을 뺐습니다.<br>\n",
    "    3-1. 대표값을 기준으로 일별 거래 횟수의 증가추이를 양수와 음수로 나누어 확인가능해졌습니다.<br>\n",
    "    3-2. 변화추이를 양과 음으로 나누어 시각화의 가독성을 올렸습니다.\n",
    "4. 3번에서 작업한 값을 중분류별 대표값으로 나눈 뒤 100을 곱하였습니다.<br>\n",
    "    4-1. 중분류별 대표값으로 나누어 중분류를 기준으로 비교하여 해당 중분류가 일별 거래가 어떻게 변화하는지 확인했습니다.<br>\n",
    "    4-2. 100을 곱하여 변화추이를 %를 표현하여 소수점을 없애 가독성을 높였습니다."
   ]
  },
  {
   "cell_type": "markdown",
   "metadata": {},
   "source": [
    "### 일별 거래 횟수의 평균값이 아닌 중간값을 이용해 대표값으로 설정이유는 다음과 같습니다.\n",
    "1. 표본의 편차 혹은 왜곡이 심하게 나타는 경우에는 __중간값을 사용하는 것이 유용합니다.__\n",
    "2. 현재 저희가 사용하는 데이터는 2020-01 ~ 2020-06 데이터로 __데이터의 양이 많지 않습니다__.\n",
    "3. 또한 데이터에는 __코로나라는 큰 변수__ 가 있기 때문에 갑자기 거래 횟수가 __급증하거나 급감하는 경우가 많습니다.__\n",
    "4. 따라서 많이 이용하는 평균값을 대표값으로 사용하는 것보다 중간값을 대표값으로 사용하는 것이 좋다고 판단하였습니다."
   ]
  },
  {
   "cell_type": "markdown",
   "metadata": {},
   "source": [
    "<img src=\"picture/median.png\" align = \"center\" > "
   ]
  },
  {
   "cell_type": "markdown",
   "metadata": {},
   "source": [
    "# 3. 인사이트 분석"
   ]
  },
  {
   "cell_type": "markdown",
   "metadata": {},
   "source": [
    "### 3-1. 해석에 필요한 주요 이슈들\n",
    "1. 서울시 유흥주점 집합금지 행정처분\n",
    "2. 코로나 경보 ‘심각’ 격상, 학교 개학 전격 연기 서울시교육청 , 코로나19 지역감염 확산에 따른 후속 대책\n",
    "3. 코로나19 확산에 올림픽공원 수영장·스포츠센터 등 24일부터 휴관"
   ]
  },
  {
   "cell_type": "markdown",
   "metadata": {},
   "source": [
    "### 3-2. 군집별 시각화 해석"
   ]
  },
  {
   "cell_type": "markdown",
   "metadata": {},
   "source": [
    "- 군집별 시각화 해석 시 표현 정리 <br>\n",
    "    1. 그래프의 3월 이전, 코로나 확진자수가 얼마 되지 않는 시기를 __코로나의 초반__ 으로 지칭합니다.\n",
    "    2. 그래프의 3월~5월 사이, 코로나 확진자수가 급증하는 시기를 __코로나의 중반__ 으로 지칭합니다.\n",
    "    3. 그래프의 5월 이후, 코로나 확진자수가 점점 줄어드는 시기를 __코로나의 후반__ 으로 지칭합니다."
   ]
  },
  {
   "cell_type": "markdown",
   "metadata": {},
   "source": [
    "### 관광"
   ]
  },
  {
   "cell_type": "markdown",
   "metadata": {},
   "source": [
    "<img src=\"picture/관광-1급호텔.png\" align = \"center\" > "
   ]
  },
  {
   "cell_type": "markdown",
   "metadata": {},
   "source": [
    "- 코로나의 초반에는 증감추이의 기울기가 양의 값을 보이며 증가추이를 보였습니다.\n",
    "- 코로나의 중반에는 증감추이의 기울기가 음의 값을 보이며 감소추이를 보이기 시작했습니다.\n",
    "- 코로나의 후반에는 증감추이의 기울기가 다시 양의 값을 가졌습니다.\n",
    "\n",
    "\n",
    "- 1급 호텔의 증가추이는 코로나의 초반 증가추이를 보이다 중반으로 넘어가며 주춤했습니다.\n",
    "- 이후 코로나의 중반에는 감소추이를 보이며 후반으로 가며 다시 증가추이를 보이기 시작했습니다."
   ]
  },
  {
   "cell_type": "markdown",
   "metadata": {},
   "source": [
    "### 교육"
   ]
  },
  {
   "cell_type": "markdown",
   "metadata": {},
   "source": [
    "<img src=\"picture/교육-유치원.png\" align = \"center\" > "
   ]
  },
  {
   "cell_type": "markdown",
   "metadata": {},
   "source": [
    "- 코로나의 초반부터 중반까지 급격한 감소추이를 보였습니다.\n",
    "- 코로나의 중반이후 다시 급격한 증가추이를 보이기 시작했습니다.\n",
    "\n",
    "\n",
    "- 유치원은 코로나의 초반에는 바이러스로 인해 취약한 아동의 대상이기 때문에 급격한 감소추이를 보인 것으로 예상됩니다.\n",
    "- 이후 코로나가 안정세를 취하자 다시 증가추이를 보였습니다."
   ]
  },
  {
   "cell_type": "markdown",
   "metadata": {},
   "source": [
    "### 교통"
   ]
  },
  {
   "cell_type": "markdown",
   "metadata": {},
   "source": [
    "<img src=\"picture/교통-교통량.png\" align = \"center\" > "
   ]
  },
  {
   "cell_type": "markdown",
   "metadata": {},
   "source": [
    "- 코로나의 초반, 중반, 후반 모두 비슷한 증감추이를 보였습니다.\n",
    "\n",
    "\n",
    "- 교통량은 현대인들에게 필수적이였으며 코로나의 영향보다는 평일과 주말의 영향이 더 큰 것으로 보였습니다.\n",
    "- 코로나가 발생한 이유 미미하게 증가하였지만 거의 영향을 받지는 않았다고 볼 수 있습니다."
   ]
  },
  {
   "cell_type": "markdown",
   "metadata": {},
   "source": [
    "### 농업"
   ]
  },
  {
   "cell_type": "markdown",
   "metadata": {},
   "source": [
    "<img src=\"picture/농업-기타농업관련.png\" align = \"center\" > "
   ]
  },
  {
   "cell_type": "markdown",
   "metadata": {},
   "source": [
    "- 코로나의 초반에는 감소추세를 보이다 이후 증가추세를 보이기 시작했습니다.\n",
    "\n",
    "\n",
    "- 농업 카테고리의 기타농업관련은 코로나의 영향을 받기보다는 농업이 수확을 하는 시기에 영향을 받았다고 생각합니다.\n",
    "- 보통의 엽채류, 근채류, 열매채소 등이 모두 5월 이후에 수확하게 됩니다. 이에 따른 변화라고 생각합니다."
   ]
  },
  {
   "cell_type": "markdown",
   "metadata": {},
   "source": [
    "### 대중교통"
   ]
  },
  {
   "cell_type": "markdown",
   "metadata": {},
   "source": [
    "<img src=\"picture/대중교통-버스.png\" align = \"center\" > "
   ]
  },
  {
   "cell_type": "markdown",
   "metadata": {},
   "source": [
    "- 코로나의 초반 감소추이를 꾸준히 보였습니다.\n",
    "- 중반 이후로 갈수록 정상추이로 변화하였습니다.\n",
    "\n",
    "\n",
    "- 코로나의 초반에는 대중교통 확산을 우려해 자차 혹은 자택근무 등으로 인한 감소추이가 일어난 것이라고 생각합니다.\n",
    "- 전체적인 증감추이의 변화는 많이 없었으며 평일과 주말에 의한 규치적인 변화를 확인할 수 있었습니다."
   ]
  },
  {
   "cell_type": "markdown",
   "metadata": {},
   "source": [
    "### 실내활동"
   ]
  },
  {
   "cell_type": "markdown",
   "metadata": {},
   "source": [
    "<img src=\"picture/실내활동-노래방.png\" align = \"center\" > "
   ]
  },
  {
   "cell_type": "markdown",
   "metadata": {},
   "source": [
    "- 코로나의 초반부터 시작되어 후반까지 꾸준한 감소추이를 보이고 있습니다.\n",
    "\n",
    "\n",
    "- 정부에서 노래방, 코인노래방 등에 코로나 확산 위험이 있다고 발표하면서 감소추이가 꾸준하게 보인 것으로 판단됩니다.\n",
    "- 4월 정부에서 코인노래방 금지령때 4월의 그래프를 확인하면 눈에 띄게 감소하는 것을 확인할 수 있습니다."
   ]
  },
  {
   "cell_type": "markdown",
   "metadata": {},
   "source": [
    "<img src=\"picture/실내활동-수영장.png\" align = \"center\" > "
   ]
  },
  {
   "cell_type": "markdown",
   "metadata": {},
   "source": [
    "- 코로나의 초반 이후로 급격하게 감소하는 추이를 보이고 있습니다.\n",
    "- 중,후 반으로 가며 다시 증가추이를 보이다 후반으로 가며 다시 급격하게 감소하고 있습니다.\n",
    "\n",
    "\n",
    "- 상대적으로 계절성에 영향을 많이 받는 수영장은 계절성 영향을 받아 다음과 같은 그래프가 보여졌다고 생각합니다.\n",
    "- 여름휴가철을 맞이해 5,6 월에 증가추세를 보이고 있습니다."
   ]
  },
  {
   "cell_type": "markdown",
   "metadata": {},
   "source": [
    "### 실외활동"
   ]
  },
  {
   "cell_type": "markdown",
   "metadata": {},
   "source": [
    "<img src=\"picture/실외활동-골프연습장.png\" align = \"center\" > "
   ]
  },
  {
   "cell_type": "markdown",
   "metadata": {},
   "source": [
    "- 코로나 이후로 꾸준히 증가추세를 보이고 있습니다.\n",
    "\n",
    "\n",
    "- 코로나가 확산됨에 따라 실내활동이 제한되며 실외활동이 상대적으로 증가되었다고 생각합니다."
   ]
  },
  {
   "cell_type": "markdown",
   "metadata": {},
   "source": [
    "### 온라인"
   ]
  },
  {
   "cell_type": "markdown",
   "metadata": {},
   "source": [
    "<img src=\"picture/온라인-인터넷Mall.png\" align = \"center\" > "
   ]
  },
  {
   "cell_type": "markdown",
   "metadata": {},
   "source": [
    "- 코로나 이후로 꾸준한 증가추세를 보이고 있습니다.\n",
    "\n",
    "\n",
    "- 코로나가 확산됨에 따라 사람들이 오프라인으로 구매하는 것이 아닌 온라인으로 구매하는 양이 늘어났다고 판단됩니다."
   ]
  },
  {
   "cell_type": "markdown",
   "metadata": {},
   "source": [
    "### 유흥주점"
   ]
  },
  {
   "cell_type": "markdown",
   "metadata": {},
   "source": [
    "<img src=\"picture/유흥주점-유흥주점.png\" align = \"center\" > "
   ]
  },
  {
   "cell_type": "markdown",
   "metadata": {},
   "source": [
    "- 코로나 확산 이후 급격한 감소추이를 보이고 있습니다.\n",
    "\n",
    "\n",
    "- 코로나로인해 사회적 거리두기로 인해 감소추이가 나타나는 것으로 판단됩니다.\n",
    "- 정부에서 유흥주점을 규제하면서 4월 이후 급격하게 감소하였다고 생각합니다."
   ]
  },
  {
   "cell_type": "markdown",
   "metadata": {},
   "source": [
    "### 음식점"
   ]
  },
  {
   "cell_type": "markdown",
   "metadata": {},
   "source": [
    "<img src=\"picture/음식점-일반한식.png\" align = \"center\" > "
   ]
  },
  {
   "cell_type": "markdown",
   "metadata": {},
   "source": [
    "- 코로나의 초반에는 감소추이를 보였습니다.\n",
    "- 코로나의 중반부터 다시 증가추이를 보이며 정상추이가 되는 걸 확인할 수 있습니다.\n",
    "\n",
    "\n",
    "- 코로나로 인한 사회적거리두기로 코로나 초반에 감소추이를 보인 것으로 판단됩니다.\n",
    "- 이후 중반부터 정부에서 음식점에 대한 감소추이를 해결하기 위해 재난지원금을 제공하여\n",
    "- 다시 증가추이를 보이며 정상추이가 되는 것으로 판단하였습니다."
   ]
  },
  {
   "cell_type": "markdown",
   "metadata": {},
   "source": [
    "### 의료"
   ]
  },
  {
   "cell_type": "markdown",
   "metadata": {},
   "source": [
    "<img src=\"picture/의료-병원.png\" align = \"center\" > "
   ]
  },
  {
   "cell_type": "markdown",
   "metadata": {},
   "source": [
    "- 코로나 초반에는 감소추이에 있지만 \n",
    "- 코로나 중반으로 갈수록 기울기가 증가하며 정상추이로 변화하고 있습니다.\n",
    "\n",
    "\n",
    "- 코로나 의심환자들이 발생하기 시작하며 병원 환자들이 증가하는 현상이라고 생각합니다.\n",
    "- 병원은 평일과 주말에 영향을 많이 받는 것으로 판단됩니다."
   ]
  },
  {
   "cell_type": "markdown",
   "metadata": {},
   "source": [
    "### 의류"
   ]
  },
  {
   "cell_type": "markdown",
   "metadata": {},
   "source": [
    "<img src=\"picture/의류-캐쥬얼의류.png\" align = \"center\" > "
   ]
  },
  {
   "cell_type": "markdown",
   "metadata": {},
   "source": [
    "- 코로나 초반에는 추이가 감소추이로 감소하고 있습니다.\n",
    "- 코로나 중반 이후부터 서서히 추이는 증가추이로 변경되고 있습니다.\n",
    "\n",
    "\n",
    "- 코로나초반 사회적거리두기로 인해 감소추이가 나타난것으로 생각합니다.\n",
    "- 코로나후반에 들어서며 사람들이 보복소비로 인해 증가추이가 급증한 것으로 생각합니다."
   ]
  },
  {
   "cell_type": "markdown",
   "metadata": {},
   "source": [
    "### 3-3. 인사이트 정리"
   ]
  },
  {
   "cell_type": "markdown",
   "metadata": {},
   "source": [
    "- "
   ]
  },
  {
   "cell_type": "code",
   "execution_count": null,
   "metadata": {},
   "outputs": [],
   "source": []
  }
 ],
 "metadata": {
  "kernelspec": {
   "display_name": "Python 3",
   "language": "python",
   "name": "python3"
  },
  "language_info": {
   "codemirror_mode": {
    "name": "ipython",
    "version": 3
   },
   "file_extension": ".py",
   "mimetype": "text/x-python",
   "name": "python",
   "nbconvert_exporter": "python",
   "pygments_lexer": "ipython3",
   "version": "3.7.6"
  }
 },
 "nbformat": 4,
 "nbformat_minor": 4
}
