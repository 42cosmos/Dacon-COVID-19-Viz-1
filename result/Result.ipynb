{
 "cells": [
  {
   "cell_type": "markdown",
   "metadata": {},
   "source": [
    "# <center> 군집별로 알아보는 코로나의 영향 </center>"
   ]
  },
  {
   "cell_type": "markdown",
   "metadata": {},
   "source": [
    "## __[목차]__\n",
    "\n",
    "### 1. 사용데이터 정의\n",
    "    1-1. 내부데이터\n",
    "    1-2. 외부데이터\n",
    "\n",
    "### 2. 데이터 분석 및 시각화 방법\n",
    "\n",
    "    2-1. 군집화\n",
    "    2-2. 변화추이 계산 방법\n",
    "\n",
    "### 3. 인사이트 분석\n",
    "\n",
    "    3-1. 해석에 필요한 주요 이슈들\n",
    "    3-2. 군집별 시각화 해석\n",
    "    3-3. 인사이트 정리\n",
    "\n",
    "### 4. 한계 및 추가 연구 내용\n",
    "\n",
    "    4-1. 시각화의 한계점\n",
    "    4-2. 추가 연구 내용"
   ]
  },
  {
   "cell_type": "markdown",
   "metadata": {},
   "source": [
    "<img src=\"http://scimonitors.com/wp-content/uploads/2020/03/banner.png\"  align = \"center\" > "
   ]
  },
  {
   "cell_type": "markdown",
   "metadata": {},
   "source": [
    "# 1. 사용데이터 정의\n",
    "\n",
    "### 1-1. 내부데이터\n",
    "1. <br>\n",
    "2. <br>\n",
    "3. <br>\n",
    "\n",
    "### 1-2. 외부 데이터\n",
    "1. <br>\n",
    "2. <br>\n",
    "3. <br>"
   ]
  },
  {
   "cell_type": "markdown",
   "metadata": {},
   "source": [
    "# 2. 데이터 분석 및 시각화 방법"
   ]
  },
  {
   "cell_type": "markdown",
   "metadata": {},
   "source": [
    "### 2-1. 군집화"
   ]
  },
  {
   "cell_type": "markdown",
   "metadata": {},
   "source": [
    "데이콘에서 제공하는 __가명점 업종명__ 은 이하 __중분류__ 로 표현합니다.\n",
    "\n",
    "- 저희 팀에서는 다양하게 나눠져 있는 중분류들을 카테고리를 만들어서 군집화하여 표현하였습니다.\n",
    "- 군집화하여 표현한 이유는 사람들에게 보다 효과적으로 __카테고리별로 시각화__ 를 볼 수 있도록 만들었습니다.\n",
    "\n",
    "\n",
    "- 저희 팀의 데이터 분석결과를 어렵게 설명하기보다\n",
    "- __시각화만을 통해 직관적__ 으로 이해가능한 형태로 __데이터 분석 결과를 제공__ 하려고 했습니다.\n",
    "\n",
    "\n",
    "- 군집화 카테고리는 일상생활에서 보편적으로 나눠지는 내용으로 구성했습니다.\n",
    "- 중분류들이 카테고리에 군집화하는 과정으로는\n",
    "- 팀에서 중분류를 나누어 엑셀 형태로 구성하였습니다.\n",
    "- 데이터과학 연구센터장님 및 연구원들에게 자문을 얻어 군집화를 견고하게 했습니다."
   ]
  },
  {
   "cell_type": "markdown",
   "metadata": {},
   "source": [
    "### 데이터 분류 표"
   ]
  },
  {
   "cell_type": "markdown",
   "metadata": {},
   "source": [
    "### 2-2. 변화추이 계산 방법 "
   ]
  },
  {
   "cell_type": "markdown",
   "metadata": {},
   "source": [
    "1. 중분류별 일마다의 거래 횟수를 카운트 했습니다.\n",
    "2. 중분류별 일별 거래 횟수의 __중간값(Median)__ 을 구해 해당 __중분류의 대표값__ 으로 설정했습니다.\n",
    "3. 변화추이를 확인하기 위해 중분류별 일별 거래 횟수에서 중분류별 대표값을 뺐습니다.<br>\n",
    "    3-1. 대표값을 기준으로 일별 거래 횟수의 증가추이를 양수와 음수로 나누어 확인가능해졌습니다.<br>\n",
    "    3-2. 변화추이를 양과 음으로 나누어 시각화의 가독성을 올렸습니다.\n",
    "4. 3번에서 작업한 값을 중분류별 대표값으로 나눈 뒤 100을 곱하였습니다.<br>\n",
    "    4-1. 중분류별 대표값으로 나누어 중분류를 기준으로 비교하여 해당 중분류가 일별 거래가 어떻게 변화하는지 확인했습니다.<br>\n",
    "    4-2. 100을 곱하여 변화추이를 %를 표현하여 소수점을 없애 가독성을 높였습니다."
   ]
  },
  {
   "cell_type": "markdown",
   "metadata": {},
   "source": [
    "### 일별 거래 횟수의 평균값이 아닌 중간값을 이용해 대표값으로 설정이유는 다음과 같습니다.\n",
    "1. 표본의 편차 혹은 왜곡이 심하게 나타는 경우에는 __중간값을 사용하는 것이 유용합니다.__\n",
    "2. 현재 저희가 사용하는 데이터는 2020-01 ~ 2020-06 데이터로 __데이터의 양이 많지 않습니다__.\n",
    "3. 또한 데이터에는 __코로나라는 큰 변수__ 가 있기 때문에 갑자기 거래 횟수가 __급증하거나 급감하는 경우가 많습니다.__\n",
    "4. 따라서 많이 이용하는 평균값을 대표값으로 사용하는 것보다 중간값을 대표값으로 사용하는 것이 좋다고 판단하였습니다."
   ]
  },
  {
   "cell_type": "markdown",
   "metadata": {},
   "source": [
    "<img src=\"picture/median.png\" align = \"center\" > "
   ]
  },
  {
   "cell_type": "markdown",
   "metadata": {},
   "source": [
    "# 3. 인사이트 분석"
   ]
  },
  {
   "cell_type": "markdown",
   "metadata": {},
   "source": [
    "### 3-1. 해석에 필요한 주요 이슈들\n",
    "1. 서울시 유흥주점 집합금지 행정처분\n",
    "2. 코로나 경보 ‘심각’ 격상, 학교 개학 전격 연기 서울시교육청 , 코로나19 지역감염 확산에 따른 후속 대책\n",
    "3. 코로나19 확산에 올림픽공원 수영장·스포츠센터 등 24일부터 휴관"
   ]
  },
  {
   "cell_type": "markdown",
   "metadata": {},
   "source": [
    "### 3-2. 군집별 시각화 해석"
   ]
  },
  {
   "cell_type": "markdown",
   "metadata": {},
   "source": [
    "### 관광"
   ]
  },
  {
   "cell_type": "markdown",
   "metadata": {},
   "source": [
    "<img src=\"picture/관광-1급호텔.png\" align = \"center\" > "
   ]
  },
  {
   "cell_type": "markdown",
   "metadata": {},
   "source": [
    "### 교육"
   ]
  },
  {
   "cell_type": "markdown",
   "metadata": {},
   "source": [
    "<img src=\"picture/교육-유치원.png\" align = \"center\" > "
   ]
  },
  {
   "cell_type": "markdown",
   "metadata": {},
   "source": [
    "### 교통"
   ]
  },
  {
   "cell_type": "markdown",
   "metadata": {},
   "source": [
    "<img src=\"picture/교통-교통량.png\" align = \"center\" > "
   ]
  },
  {
   "cell_type": "markdown",
   "metadata": {},
   "source": [
    "### 농업"
   ]
  },
  {
   "cell_type": "markdown",
   "metadata": {},
   "source": [
    "<img src=\"picture/농업-기타농업관련.png\" align = \"center\" > "
   ]
  },
  {
   "cell_type": "markdown",
   "metadata": {},
   "source": [
    "### 대중교통"
   ]
  },
  {
   "cell_type": "markdown",
   "metadata": {},
   "source": [
    "<img src=\"picture/대중교통-버스.png\" align = \"center\" > "
   ]
  },
  {
   "cell_type": "markdown",
   "metadata": {},
   "source": [
    "### 실내활동"
   ]
  },
  {
   "cell_type": "markdown",
   "metadata": {},
   "source": [
    "<img src=\"picture/실내활동-노래방.png\" align = \"center\" > "
   ]
  },
  {
   "cell_type": "markdown",
   "metadata": {},
   "source": [
    "<img src=\"picture/실내활동-수영장.png\" align = \"center\" > "
   ]
  },
  {
   "cell_type": "markdown",
   "metadata": {},
   "source": [
    "### 실외활동"
   ]
  },
  {
   "cell_type": "markdown",
   "metadata": {},
   "source": [
    "<img src=\"picture/실외활동-골프연습장.png\" align = \"center\" > "
   ]
  },
  {
   "cell_type": "markdown",
   "metadata": {},
   "source": [
    "### 온라인"
   ]
  },
  {
   "cell_type": "markdown",
   "metadata": {},
   "source": [
    "<img src=\"picture/온라인-인터넷Mall.png\" align = \"center\" > "
   ]
  },
  {
   "cell_type": "markdown",
   "metadata": {},
   "source": [
    "### 유흥주점"
   ]
  },
  {
   "cell_type": "markdown",
   "metadata": {},
   "source": [
    "<img src=\"picture/유흥주점-유흥주점.png\" align = \"center\" > "
   ]
  },
  {
   "cell_type": "markdown",
   "metadata": {},
   "source": [
    "### 음식점"
   ]
  },
  {
   "cell_type": "markdown",
   "metadata": {},
   "source": [
    "<img src=\"picture/음식점-일반한식.png\" align = \"center\" > "
   ]
  },
  {
   "cell_type": "markdown",
   "metadata": {},
   "source": [
    "### 의료"
   ]
  },
  {
   "cell_type": "markdown",
   "metadata": {},
   "source": [
    "<img src=\"picture/의료-병원.png\" align = \"center\" > "
   ]
  },
  {
   "cell_type": "markdown",
   "metadata": {},
   "source": [
    "### 의류"
   ]
  },
  {
   "cell_type": "markdown",
   "metadata": {},
   "source": [
    "<img src=\"picture/의류-캐쥬얼의류.png\" align = \"center\" > "
   ]
  },
  {
   "cell_type": "markdown",
   "metadata": {},
   "source": [
    "### 3-3. 인사이트 정리"
   ]
  },
  {
   "cell_type": "markdown",
   "metadata": {},
   "source": [
    "- "
   ]
  },
  {
   "cell_type": "code",
   "execution_count": null,
   "metadata": {},
   "outputs": [],
   "source": []
  }
 ],
 "metadata": {
  "kernelspec": {
   "display_name": "Python 3",
   "language": "python",
   "name": "python3"
  },
  "language_info": {
   "codemirror_mode": {
    "name": "ipython",
    "version": 3
   },
   "file_extension": ".py",
   "mimetype": "text/x-python",
   "name": "python",
   "nbconvert_exporter": "python",
   "pygments_lexer": "ipython3",
   "version": "3.7.6"
  }
 },
 "nbformat": 4,
 "nbformat_minor": 4
}
