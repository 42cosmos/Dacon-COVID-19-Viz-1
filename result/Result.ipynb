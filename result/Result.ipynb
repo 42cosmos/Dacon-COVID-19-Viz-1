{
 "cells": [
  {
   "cell_type": "markdown",
   "metadata": {},
   "source": [
    "# <center> 군집별로 알아보는 코로나의 영향 </center>"
   ]
  },
  {
   "cell_type": "markdown",
   "metadata": {},
   "source": [
    "## __[목차]__\n",
    "\n",
    "### 1. 사용데이터 정의\n",
    "    1-1. 내부데이터\n",
    "    1-2. 외부데이터\n",
    "    1-3. 군집화데이터\n",
    "\n",
    "### 2. 데이터 분석 및 시각화 방법\n",
    "\n",
    "    2-1. 군집화 방법\n",
    "    2-2. 변화추이 계산 방법\n",
    "    2-3. \n",
    "\n",
    "### 3. 인사이트 분석\n",
    "\n",
    "    3-1. 해석에 필요한 주요 이슈들\n",
    "    3-2. 군집별 시각화 해석\n",
    "    3-3. 인사이트 정리\n",
    "\n",
    "### 4. 한계 및 추가 연구 내용\n",
    "\n",
    "    4-1. 시각화의 한계점\n",
    "    4-2. 추가 연구 내용"
   ]
  },
  {
   "cell_type": "markdown",
   "metadata": {},
   "source": [
    "<img src=\"http://scimonitors.com/wp-content/uploads/2020/03/banner.png\"  align = \"center\" > "
   ]
  },
  {
   "cell_type": "code",
   "execution_count": 23,
   "metadata": {},
   "outputs": [],
   "source": [
    "import os\n",
    "import pandas as pd\n",
    "import numpy as np\n",
    "\n",
    "import warnings\n",
    "warnings.filterwarnings(\"ignore\")"
   ]
  },
  {
   "cell_type": "markdown",
   "metadata": {},
   "source": [
    "# 1. 사용데이터 정의"
   ]
  },
  {
   "cell_type": "code",
   "execution_count": 2,
   "metadata": {},
   "outputs": [],
   "source": [
    "# directory 정의\n",
    "BASE_DIR = '../data/'\n",
    "INTERNAL_DIR = 'internal_data'\n",
    "EXTERNAL_DIR = 'external_data'\n",
    "MERGE_DATA = 'merge_data'"
   ]
  },
  {
   "cell_type": "code",
   "execution_count": 3,
   "metadata": {},
   "outputs": [],
   "source": [
    "category_dict = {'버스': '대중교통',\n",
    " '지하철': '대중교통',\n",
    " '택시': '대중교통',\n",
    " '국산신차': '교통',\n",
    " '렌트카': '교통',\n",
    " '전기차충전소': '교통',\n",
    " '주차장': '교통',\n",
    " '주유소': '교통',\n",
    " '자동차시트/타이어': '교통',\n",
    " '카인테리어': '교통',\n",
    " '중고자동차': '교통',\n",
    " '이륜차판매': '교통',\n",
    " '수입자동차': '교통',\n",
    " '캐쥬얼의류': '의류',\n",
    " '정장': '의류',\n",
    " '기타의류': '의류',\n",
    " '신발': '의류',\n",
    " '스포츠의류': '의류',\n",
    " '내의판매점': '의류',\n",
    " '맞춤복점': '의류',\n",
    " '와이셔츠/타이': '의류',\n",
    " '인터넷Mall': '온라인',\n",
    " '인터넷P/G': '온라인',\n",
    " '인터넷종합Mall': '온라인',\n",
    " '제과점': '음식점',\n",
    " '중국음식': '음식점',\n",
    " '서양읍식': '음식점',\n",
    " '스넥': '음식점',\n",
    " '일반한식': '음식점',\n",
    " '일식회집': '음식점',\n",
    " '한정식': '음식점',\n",
    " '기타건강식': '음식점',\n",
    " '당구장': '실내활동',\n",
    " '볼링장': '실내활동',\n",
    " '스크린골프': '실내활동',\n",
    " '수영장': '실내활동',\n",
    " '영화관': '실내활동',\n",
    " '카지노': '실내활동',\n",
    " '노래방': '실내활동',\n",
    " '수족관': '실내활동',\n",
    " '레져업소(회원제형태)': '실내활동',\n",
    " '헬스크럽': '실내활동',\n",
    " '여객선': '관광',\n",
    " '관광여행': '관광',\n",
    " '항공사': '관광',\n",
    " '2급 호텔': '관광',\n",
    " '1급호텔': '관광',\n",
    " '콘도': '관광',\n",
    " '기타숙박업': '관광',\n",
    " '종합레져타운': '관광',\n",
    " '한의원': '의료',\n",
    " '종합병원': '의료',\n",
    " '한약방': '의료',\n",
    " '의료용품': '의료',\n",
    " '치과의원': '의료',\n",
    " '치과병원': '의료',\n",
    " '병원': '의료',\n",
    " '한방병원': '의료',\n",
    " '약국': '의료',\n",
    " '기타의료기관 및 기타의료기기': '의료',\n",
    " '칵테일바': '유흥주점',\n",
    " '유흥주점': '유흥주점',\n",
    " '단란주점': '유흥주점',\n",
    " '테니스장': '실외활동',\n",
    " '골프연습장': '실외활동',\n",
    " '기타교육': '교육',\n",
    " '유치원': '교육',\n",
    " '기능학원': '교육',\n",
    " '보습학원': '교육',\n",
    " '학원(회원제형태)': '교육',\n",
    " '예체능학원': '교육',\n",
    " '외국어학원': '교육',\n",
    " '비료/농약/사료/종자': '농업',\n",
    " '기타농업관련': '농업',\n",
    " '농기계': '농업'}"
   ]
  },
  {
   "cell_type": "markdown",
   "metadata": {},
   "source": [
    "### 1-1. 내부데이터 (Dacon 제공 데이터)\n",
    "1. card.csv : 카드 소비 내역<br>\n",
    "2. COVID_19/Time.csv : 코로나 확진자 수<br>"
   ]
  },
  {
   "cell_type": "code",
   "execution_count": 4,
   "metadata": {},
   "outputs": [],
   "source": [
    "COVID_DIR = 'COVID_19'\n",
    "CARD_FILENAME = 'card_20200717.csv'\n",
    "COVID_FILENAME = 'Time.csv'\n",
    "CATEGORISING_FILENAME = 'dacon_categorising.xlsx'"
   ]
  },
  {
   "cell_type": "code",
   "execution_count": 5,
   "metadata": {},
   "outputs": [],
   "source": [
    "def make_datetime(x):\n",
    "    x = str(x)\n",
    "    year = x[:4]\n",
    "    month = x[4:6]\n",
    "    day = x[6:]\n",
    "    date = f'{year}-{month}-{day}'\n",
    "    return date"
   ]
  },
  {
   "cell_type": "code",
   "execution_count": 6,
   "metadata": {},
   "outputs": [
    {
     "data": {
      "text/plain": [
       "(3713952, 7)"
      ]
     },
     "execution_count": 6,
     "metadata": {},
     "output_type": "execute_result"
    }
   ],
   "source": [
    "card_df = pd.read_csv(os.path.join(BASE_DIR, INTERNAL_DIR, CARD_FILENAME))\n",
    "card_df['mrhst_induty_cl_nm'] = card_df['mrhst_induty_cl_nm'].str.replace(pat = ' ', repl = '')\n",
    "card_df.shape"
   ]
  },
  {
   "cell_type": "code",
   "execution_count": 7,
   "metadata": {},
   "outputs": [
    {
     "data": {
      "text/plain": [
       "(1348866, 8)"
      ]
     },
     "execution_count": 7,
     "metadata": {},
     "output_type": "execute_result"
    }
   ],
   "source": [
    "object_df = card_df[card_df['mrhst_induty_cl_nm'].isin(category_dict)]\n",
    "object_df['대분류'] = object_df['mrhst_induty_cl_nm'].replace(category_dict)\n",
    "object_df.shape"
   ]
  },
  {
   "cell_type": "code",
   "execution_count": 8,
   "metadata": {},
   "outputs": [
    {
     "data": {
      "text/html": [
       "<div>\n",
       "<style scoped>\n",
       "    .dataframe tbody tr th:only-of-type {\n",
       "        vertical-align: middle;\n",
       "    }\n",
       "\n",
       "    .dataframe tbody tr th {\n",
       "        vertical-align: top;\n",
       "    }\n",
       "\n",
       "    .dataframe thead th {\n",
       "        text-align: right;\n",
       "    }\n",
       "</style>\n",
       "<table border=\"1\" class=\"dataframe\">\n",
       "  <thead>\n",
       "    <tr style=\"text-align: right;\">\n",
       "      <th></th>\n",
       "      <th>datetime</th>\n",
       "      <th>대분류</th>\n",
       "      <th>중분류</th>\n",
       "      <th>sales count</th>\n",
       "    </tr>\n",
       "  </thead>\n",
       "  <tbody>\n",
       "    <tr>\n",
       "      <th>0</th>\n",
       "      <td>2020-01-04</td>\n",
       "      <td>관광</td>\n",
       "      <td>1급호텔</td>\n",
       "      <td>38</td>\n",
       "    </tr>\n",
       "    <tr>\n",
       "      <th>1</th>\n",
       "      <td>2020-01-04</td>\n",
       "      <td>관광</td>\n",
       "      <td>관광여행</td>\n",
       "      <td>1063</td>\n",
       "    </tr>\n",
       "    <tr>\n",
       "      <th>2</th>\n",
       "      <td>2020-01-04</td>\n",
       "      <td>관광</td>\n",
       "      <td>기타숙박업</td>\n",
       "      <td>3738</td>\n",
       "    </tr>\n",
       "    <tr>\n",
       "      <th>3</th>\n",
       "      <td>2020-01-04</td>\n",
       "      <td>관광</td>\n",
       "      <td>항공사</td>\n",
       "      <td>4800</td>\n",
       "    </tr>\n",
       "    <tr>\n",
       "      <th>4</th>\n",
       "      <td>2020-01-04</td>\n",
       "      <td>교육</td>\n",
       "      <td>기능학원</td>\n",
       "      <td>36</td>\n",
       "    </tr>\n",
       "  </tbody>\n",
       "</table>\n",
       "</div>"
      ],
      "text/plain": [
       "     datetime 대분류    중분류  sales count\n",
       "0  2020-01-04  관광   1급호텔           38\n",
       "1  2020-01-04  관광   관광여행         1063\n",
       "2  2020-01-04  관광  기타숙박업         3738\n",
       "3  2020-01-04  관광    항공사         4800\n",
       "4  2020-01-04  교육   기능학원           36"
      ]
     },
     "execution_count": 8,
     "metadata": {},
     "output_type": "execute_result"
    }
   ],
   "source": [
    "object_df = object_df.groupby(['receipt_dttm', '대분류', 'mrhst_induty_cl_nm'], as_index=False)['selng_cascnt'].sum()\n",
    "object_df.columns = ['datetime', '대분류', '중분류', 'sales count']\n",
    "object_df = object_df.reset_index(drop = True)\n",
    "object_df['datetime'] = object_df['datetime'].map(make_datetime)\n",
    "object_df.head()"
   ]
  },
  {
   "cell_type": "code",
   "execution_count": 9,
   "metadata": {},
   "outputs": [
    {
     "data": {
      "text/plain": [
       "(163, 7)"
      ]
     },
     "execution_count": 9,
     "metadata": {},
     "output_type": "execute_result"
    }
   ],
   "source": [
    "covid_df = pd.read_csv(os.path.join(BASE_DIR, INTERNAL_DIR,COVID_DIR, COVID_FILENAME))\n",
    "covid_df.shape"
   ]
  },
  {
   "cell_type": "code",
   "execution_count": 10,
   "metadata": {},
   "outputs": [],
   "source": [
    "covid_df = covid_df[['date', 'confirmed']]"
   ]
  },
  {
   "cell_type": "code",
   "execution_count": 11,
   "metadata": {},
   "outputs": [],
   "source": [
    "covid_df.columns = ['datetime', 'covid_confirmed']"
   ]
  },
  {
   "cell_type": "code",
   "execution_count": 12,
   "metadata": {},
   "outputs": [],
   "source": [
    "internal_df = pd.merge(object_df, covid_df, on = 'datetime', how='left').sort_values('datetime').reset_index(drop = True)\n",
    "internal_df = internal_df.rename(columns={'datetime':'사용일자', 'sales count':'중분류_카운트', 'covid_confirmed':'확진자수'})"
   ]
  },
  {
   "cell_type": "code",
   "execution_count": 13,
   "metadata": {},
   "outputs": [
    {
     "data": {
      "text/html": [
       "<div>\n",
       "<style scoped>\n",
       "    .dataframe tbody tr th:only-of-type {\n",
       "        vertical-align: middle;\n",
       "    }\n",
       "\n",
       "    .dataframe tbody tr th {\n",
       "        vertical-align: top;\n",
       "    }\n",
       "\n",
       "    .dataframe thead th {\n",
       "        text-align: right;\n",
       "    }\n",
       "</style>\n",
       "<table border=\"1\" class=\"dataframe\">\n",
       "  <thead>\n",
       "    <tr style=\"text-align: right;\">\n",
       "      <th></th>\n",
       "      <th>사용일자</th>\n",
       "      <th>대분류</th>\n",
       "      <th>중분류_카운트</th>\n",
       "      <th>확진자수</th>\n",
       "    </tr>\n",
       "    <tr>\n",
       "      <th>중분류</th>\n",
       "      <th></th>\n",
       "      <th></th>\n",
       "      <th></th>\n",
       "      <th></th>\n",
       "    </tr>\n",
       "  </thead>\n",
       "  <tbody>\n",
       "    <tr>\n",
       "      <th>카지노</th>\n",
       "      <td>3</td>\n",
       "      <td>3</td>\n",
       "      <td>3</td>\n",
       "      <td>3</td>\n",
       "    </tr>\n",
       "  </tbody>\n",
       "</table>\n",
       "</div>"
      ],
      "text/plain": [
       "     사용일자  대분류  중분류_카운트  확진자수\n",
       "중분류                          \n",
       "카지노     3    3        3     3"
      ]
     },
     "execution_count": 13,
     "metadata": {},
     "output_type": "execute_result"
    }
   ],
   "source": [
    "check_df = internal_df.groupby(['중분류']).count()\n",
    "check_df[check_df['사용일자']<50]"
   ]
  },
  {
   "cell_type": "code",
   "execution_count": 14,
   "metadata": {},
   "outputs": [],
   "source": [
    "internal_df = internal_df[internal_df['중분류']!=\"카지노\"]"
   ]
  },
  {
   "cell_type": "code",
   "execution_count": 15,
   "metadata": {},
   "outputs": [],
   "source": [
    "internal_df['확진자수'] = internal_df['확진자수'].fillna(0)"
   ]
  },
  {
   "cell_type": "code",
   "execution_count": 16,
   "metadata": {},
   "outputs": [
    {
     "data": {
      "text/html": [
       "<div>\n",
       "<style scoped>\n",
       "    .dataframe tbody tr th:only-of-type {\n",
       "        vertical-align: middle;\n",
       "    }\n",
       "\n",
       "    .dataframe tbody tr th {\n",
       "        vertical-align: top;\n",
       "    }\n",
       "\n",
       "    .dataframe thead th {\n",
       "        text-align: right;\n",
       "    }\n",
       "</style>\n",
       "<table border=\"1\" class=\"dataframe\">\n",
       "  <thead>\n",
       "    <tr style=\"text-align: right;\">\n",
       "      <th></th>\n",
       "      <th>사용일자</th>\n",
       "      <th>대분류</th>\n",
       "      <th>중분류</th>\n",
       "      <th>중분류_카운트</th>\n",
       "      <th>확진자수</th>\n",
       "    </tr>\n",
       "  </thead>\n",
       "  <tbody>\n",
       "    <tr>\n",
       "      <th>0</th>\n",
       "      <td>2020-01-04</td>\n",
       "      <td>관광</td>\n",
       "      <td>1급호텔</td>\n",
       "      <td>38</td>\n",
       "      <td>0.0</td>\n",
       "    </tr>\n",
       "    <tr>\n",
       "      <th>1</th>\n",
       "      <td>2020-01-04</td>\n",
       "      <td>유흥주점</td>\n",
       "      <td>단란주점</td>\n",
       "      <td>968</td>\n",
       "      <td>0.0</td>\n",
       "    </tr>\n",
       "    <tr>\n",
       "      <th>2</th>\n",
       "      <td>2020-01-04</td>\n",
       "      <td>유흥주점</td>\n",
       "      <td>유흥주점</td>\n",
       "      <td>3141</td>\n",
       "      <td>0.0</td>\n",
       "    </tr>\n",
       "    <tr>\n",
       "      <th>3</th>\n",
       "      <td>2020-01-04</td>\n",
       "      <td>유흥주점</td>\n",
       "      <td>칵테일바</td>\n",
       "      <td>986</td>\n",
       "      <td>0.0</td>\n",
       "    </tr>\n",
       "    <tr>\n",
       "      <th>4</th>\n",
       "      <td>2020-01-04</td>\n",
       "      <td>음식점</td>\n",
       "      <td>기타건강식</td>\n",
       "      <td>62</td>\n",
       "      <td>0.0</td>\n",
       "    </tr>\n",
       "  </tbody>\n",
       "</table>\n",
       "</div>"
      ],
      "text/plain": [
       "         사용일자   대분류    중분류  중분류_카운트  확진자수\n",
       "0  2020-01-04    관광   1급호텔       38   0.0\n",
       "1  2020-01-04  유흥주점   단란주점      968   0.0\n",
       "2  2020-01-04  유흥주점   유흥주점     3141   0.0\n",
       "3  2020-01-04  유흥주점   칵테일바      986   0.0\n",
       "4  2020-01-04   음식점  기타건강식       62   0.0"
      ]
     },
     "execution_count": 16,
     "metadata": {},
     "output_type": "execute_result"
    }
   ],
   "source": [
    "internal_df.head()"
   ]
  },
  {
   "cell_type": "markdown",
   "metadata": {},
   "source": [
    "### 1-2. 외부 데이터 (서울 열린데이터 광장, SEOUL TOPIS)\n",
    "1. bus/data/*.csv : 버스 이용 데이터<br>\n",
    "2. subway/data/*.csv : 지하철 이용 데이터 <br>\n",
    "3. traffic/data/*.xlsx : 교통량 이용 데이터 <br>"
   ]
  },
  {
   "cell_type": "code",
   "execution_count": 17,
   "metadata": {},
   "outputs": [],
   "source": [
    "BUS_DIR = 'bus'\n",
    "BUS_FILENAME = 'bus_df.csv'\n",
    "SUBWAY_DIR = 'subway'\n",
    "SUBWAY_FILENAME = 'subway_df.csv'\n",
    "TRAFFIC_DIR = 'traffic'\n",
    "TRAFFIC_FILENAME = 'traffic_df.csv'"
   ]
  },
  {
   "cell_type": "code",
   "execution_count": 18,
   "metadata": {},
   "outputs": [],
   "source": [
    "bus_df = pd.read_csv(os.path.join(BASE_DIR, EXTERNAL_DIR, BUS_DIR, BUS_FILENAME), index_col=False)\n",
    "subway_df = pd.read_csv(os.path.join(BASE_DIR, EXTERNAL_DIR, SUBWAY_DIR, SUBWAY_FILENAME), index_col=False)\n",
    "traffic_df = pd.read_csv(os.path.join(BASE_DIR, EXTERNAL_DIR, TRAFFIC_DIR, TRAFFIC_FILENAME), index_col=False)"
   ]
  },
  {
   "cell_type": "code",
   "execution_count": 19,
   "metadata": {},
   "outputs": [
    {
     "data": {
      "text/html": [
       "<div>\n",
       "<style scoped>\n",
       "    .dataframe tbody tr th:only-of-type {\n",
       "        vertical-align: middle;\n",
       "    }\n",
       "\n",
       "    .dataframe tbody tr th {\n",
       "        vertical-align: top;\n",
       "    }\n",
       "\n",
       "    .dataframe thead th {\n",
       "        text-align: right;\n",
       "    }\n",
       "</style>\n",
       "<table border=\"1\" class=\"dataframe\">\n",
       "  <thead>\n",
       "    <tr style=\"text-align: right;\">\n",
       "      <th></th>\n",
       "      <th>사용일자</th>\n",
       "      <th>중분류_카운트</th>\n",
       "      <th>중분류</th>\n",
       "    </tr>\n",
       "  </thead>\n",
       "  <tbody>\n",
       "    <tr>\n",
       "      <th>0</th>\n",
       "      <td>2020-01-01</td>\n",
       "      <td>2509091</td>\n",
       "      <td>버스</td>\n",
       "    </tr>\n",
       "    <tr>\n",
       "      <th>1</th>\n",
       "      <td>2020-01-02</td>\n",
       "      <td>5286628</td>\n",
       "      <td>버스</td>\n",
       "    </tr>\n",
       "    <tr>\n",
       "      <th>2</th>\n",
       "      <td>2020-01-03</td>\n",
       "      <td>5580078</td>\n",
       "      <td>버스</td>\n",
       "    </tr>\n",
       "    <tr>\n",
       "      <th>3</th>\n",
       "      <td>2020-01-04</td>\n",
       "      <td>4036695</td>\n",
       "      <td>버스</td>\n",
       "    </tr>\n",
       "    <tr>\n",
       "      <th>4</th>\n",
       "      <td>2020-01-05</td>\n",
       "      <td>3138649</td>\n",
       "      <td>버스</td>\n",
       "    </tr>\n",
       "  </tbody>\n",
       "</table>\n",
       "</div>"
      ],
      "text/plain": [
       "         사용일자  중분류_카운트 중분류\n",
       "0  2020-01-01  2509091  버스\n",
       "1  2020-01-02  5286628  버스\n",
       "2  2020-01-03  5580078  버스\n",
       "3  2020-01-04  4036695  버스\n",
       "4  2020-01-05  3138649  버스"
      ]
     },
     "execution_count": 19,
     "metadata": {},
     "output_type": "execute_result"
    }
   ],
   "source": [
    "external_df = bus_df.append(subway_df)\n",
    "external_df = external_df.append(traffic_df)\n",
    "external_df.head()"
   ]
  },
  {
   "cell_type": "markdown",
   "metadata": {},
   "source": [
    "### 1-3. 최종 데이터 (내부데이터 + 외부데이터)\n",
    "\n",
    "- Internal + External = Result<br>"
   ]
  },
  {
   "cell_type": "code",
   "execution_count": 20,
   "metadata": {},
   "outputs": [
    {
     "data": {
      "text/html": [
       "<div>\n",
       "<style scoped>\n",
       "    .dataframe tbody tr th:only-of-type {\n",
       "        vertical-align: middle;\n",
       "    }\n",
       "\n",
       "    .dataframe tbody tr th {\n",
       "        vertical-align: top;\n",
       "    }\n",
       "\n",
       "    .dataframe thead th {\n",
       "        text-align: right;\n",
       "    }\n",
       "</style>\n",
       "<table border=\"1\" class=\"dataframe\">\n",
       "  <thead>\n",
       "    <tr style=\"text-align: right;\">\n",
       "      <th></th>\n",
       "      <th>사용일자</th>\n",
       "      <th>확진자수</th>\n",
       "    </tr>\n",
       "  </thead>\n",
       "  <tbody>\n",
       "    <tr>\n",
       "      <th>0</th>\n",
       "      <td>2020-01-04</td>\n",
       "      <td>0.0</td>\n",
       "    </tr>\n",
       "    <tr>\n",
       "      <th>49</th>\n",
       "      <td>2020-01-05</td>\n",
       "      <td>0.0</td>\n",
       "    </tr>\n",
       "    <tr>\n",
       "      <th>96</th>\n",
       "      <td>2020-01-06</td>\n",
       "      <td>0.0</td>\n",
       "    </tr>\n",
       "    <tr>\n",
       "      <th>142</th>\n",
       "      <td>2020-01-07</td>\n",
       "      <td>0.0</td>\n",
       "    </tr>\n",
       "    <tr>\n",
       "      <th>191</th>\n",
       "      <td>2020-01-08</td>\n",
       "      <td>0.0</td>\n",
       "    </tr>\n",
       "  </tbody>\n",
       "</table>\n",
       "</div>"
      ],
      "text/plain": [
       "           사용일자  확진자수\n",
       "0    2020-01-04   0.0\n",
       "49   2020-01-05   0.0\n",
       "96   2020-01-06   0.0\n",
       "142  2020-01-07   0.0\n",
       "191  2020-01-08   0.0"
      ]
     },
     "execution_count": 20,
     "metadata": {},
     "output_type": "execute_result"
    }
   ],
   "source": [
    "covid_confirmation_df = internal_df[['사용일자', '확진자수']].drop_duplicates()\n",
    "covid_confirmation_df.head()"
   ]
  },
  {
   "cell_type": "code",
   "execution_count": 21,
   "metadata": {},
   "outputs": [],
   "source": [
    "internal_df = internal_df.iloc[:, :-1]"
   ]
  },
  {
   "cell_type": "code",
   "execution_count": 24,
   "metadata": {},
   "outputs": [],
   "source": [
    "external_df['대분류'] = np.nan"
   ]
  },
  {
   "cell_type": "code",
   "execution_count": 25,
   "metadata": {},
   "outputs": [],
   "source": [
    "external_df.loc[external_df['중분류'] == '교통량', ['대분류']] = '교통'\n",
    "external_df.loc[external_df['중분류'] != '교통량', ['대분류']] = '대중교통'"
   ]
  },
  {
   "cell_type": "code",
   "execution_count": 26,
   "metadata": {},
   "outputs": [
    {
     "data": {
      "text/html": [
       "<div>\n",
       "<style scoped>\n",
       "    .dataframe tbody tr th:only-of-type {\n",
       "        vertical-align: middle;\n",
       "    }\n",
       "\n",
       "    .dataframe tbody tr th {\n",
       "        vertical-align: top;\n",
       "    }\n",
       "\n",
       "    .dataframe thead th {\n",
       "        text-align: right;\n",
       "    }\n",
       "</style>\n",
       "<table border=\"1\" class=\"dataframe\">\n",
       "  <thead>\n",
       "    <tr style=\"text-align: right;\">\n",
       "      <th></th>\n",
       "      <th>사용일자</th>\n",
       "      <th>대분류</th>\n",
       "      <th>중분류</th>\n",
       "      <th>중분류_카운트</th>\n",
       "    </tr>\n",
       "  </thead>\n",
       "  <tbody>\n",
       "    <tr>\n",
       "      <th>0</th>\n",
       "      <td>2020-01-04</td>\n",
       "      <td>관광</td>\n",
       "      <td>1급호텔</td>\n",
       "      <td>38</td>\n",
       "    </tr>\n",
       "    <tr>\n",
       "      <th>1</th>\n",
       "      <td>2020-01-04</td>\n",
       "      <td>유흥주점</td>\n",
       "      <td>단란주점</td>\n",
       "      <td>968</td>\n",
       "    </tr>\n",
       "    <tr>\n",
       "      <th>2</th>\n",
       "      <td>2020-01-04</td>\n",
       "      <td>유흥주점</td>\n",
       "      <td>유흥주점</td>\n",
       "      <td>3141</td>\n",
       "    </tr>\n",
       "    <tr>\n",
       "      <th>3</th>\n",
       "      <td>2020-01-04</td>\n",
       "      <td>유흥주점</td>\n",
       "      <td>칵테일바</td>\n",
       "      <td>986</td>\n",
       "    </tr>\n",
       "    <tr>\n",
       "      <th>4</th>\n",
       "      <td>2020-01-04</td>\n",
       "      <td>음식점</td>\n",
       "      <td>기타건강식</td>\n",
       "      <td>62</td>\n",
       "    </tr>\n",
       "    <tr>\n",
       "      <th>...</th>\n",
       "      <td>...</td>\n",
       "      <td>...</td>\n",
       "      <td>...</td>\n",
       "      <td>...</td>\n",
       "    </tr>\n",
       "    <tr>\n",
       "      <th>177</th>\n",
       "      <td>2020-06-26</td>\n",
       "      <td>교통</td>\n",
       "      <td>교통량</td>\n",
       "      <td>9568914</td>\n",
       "    </tr>\n",
       "    <tr>\n",
       "      <th>178</th>\n",
       "      <td>2020-06-27</td>\n",
       "      <td>교통</td>\n",
       "      <td>교통량</td>\n",
       "      <td>8964257</td>\n",
       "    </tr>\n",
       "    <tr>\n",
       "      <th>179</th>\n",
       "      <td>2020-06-28</td>\n",
       "      <td>교통</td>\n",
       "      <td>교통량</td>\n",
       "      <td>7635665</td>\n",
       "    </tr>\n",
       "    <tr>\n",
       "      <th>180</th>\n",
       "      <td>2020-06-29</td>\n",
       "      <td>교통</td>\n",
       "      <td>교통량</td>\n",
       "      <td>9052687</td>\n",
       "    </tr>\n",
       "    <tr>\n",
       "      <th>181</th>\n",
       "      <td>2020-06-30</td>\n",
       "      <td>교통</td>\n",
       "      <td>교통량</td>\n",
       "      <td>8750138</td>\n",
       "    </tr>\n",
       "  </tbody>\n",
       "</table>\n",
       "<p>10705 rows × 4 columns</p>\n",
       "</div>"
      ],
      "text/plain": [
       "           사용일자   대분류    중분류  중분류_카운트\n",
       "0    2020-01-04    관광   1급호텔       38\n",
       "1    2020-01-04  유흥주점   단란주점      968\n",
       "2    2020-01-04  유흥주점   유흥주점     3141\n",
       "3    2020-01-04  유흥주점   칵테일바      986\n",
       "4    2020-01-04   음식점  기타건강식       62\n",
       "..          ...   ...    ...      ...\n",
       "177  2020-06-26    교통    교통량  9568914\n",
       "178  2020-06-27    교통    교통량  8964257\n",
       "179  2020-06-28    교통    교통량  7635665\n",
       "180  2020-06-29    교통    교통량  9052687\n",
       "181  2020-06-30    교통    교통량  8750138\n",
       "\n",
       "[10705 rows x 4 columns]"
      ]
     },
     "execution_count": 26,
     "metadata": {},
     "output_type": "execute_result"
    }
   ],
   "source": [
    "concated_df = pd.concat([internal_df, external_df], axis = 0)\n",
    "concated_df"
   ]
  },
  {
   "cell_type": "code",
   "execution_count": 27,
   "metadata": {},
   "outputs": [],
   "source": [
    "median_v_series = concated_df.groupby(['대분류', '중분류'], as_index = False)['중분류_카운트'].median()\n",
    "median_v_series.rename(columns = {'중분류_카운트' : '중분류_대표값'}, inplace = True)"
   ]
  },
  {
   "cell_type": "code",
   "execution_count": 28,
   "metadata": {},
   "outputs": [
    {
     "data": {
      "text/html": [
       "<div>\n",
       "<style scoped>\n",
       "    .dataframe tbody tr th:only-of-type {\n",
       "        vertical-align: middle;\n",
       "    }\n",
       "\n",
       "    .dataframe tbody tr th {\n",
       "        vertical-align: top;\n",
       "    }\n",
       "\n",
       "    .dataframe thead th {\n",
       "        text-align: right;\n",
       "    }\n",
       "</style>\n",
       "<table border=\"1\" class=\"dataframe\">\n",
       "  <thead>\n",
       "    <tr style=\"text-align: right;\">\n",
       "      <th></th>\n",
       "      <th>사용일자</th>\n",
       "      <th>대분류</th>\n",
       "      <th>중분류</th>\n",
       "      <th>중분류_카운트</th>\n",
       "      <th>중분류_대표값</th>\n",
       "    </tr>\n",
       "  </thead>\n",
       "  <tbody>\n",
       "    <tr>\n",
       "      <th>0</th>\n",
       "      <td>2020-01-04</td>\n",
       "      <td>관광</td>\n",
       "      <td>1급호텔</td>\n",
       "      <td>38</td>\n",
       "      <td>338.0</td>\n",
       "    </tr>\n",
       "    <tr>\n",
       "      <th>1</th>\n",
       "      <td>2020-01-06</td>\n",
       "      <td>관광</td>\n",
       "      <td>1급호텔</td>\n",
       "      <td>19</td>\n",
       "      <td>338.0</td>\n",
       "    </tr>\n",
       "  </tbody>\n",
       "</table>\n",
       "</div>"
      ],
      "text/plain": [
       "         사용일자 대분류   중분류  중분류_카운트  중분류_대표값\n",
       "0  2020-01-04  관광  1급호텔       38    338.0\n",
       "1  2020-01-06  관광  1급호텔       19    338.0"
      ]
     },
     "execution_count": 28,
     "metadata": {},
     "output_type": "execute_result"
    }
   ],
   "source": [
    "combined_median_df = pd.merge(concated_df, median_v_series, on = ['대분류', '중분류'])\n",
    "combined_median_df.head(2)"
   ]
  },
  {
   "cell_type": "code",
   "execution_count": 29,
   "metadata": {},
   "outputs": [],
   "source": [
    "combined_median_df['증가추이'] = ((combined_median_df['중분류_카운트']-combined_median_df['중분류_대표값']) / combined_median_df['중분류_대표값']) * 100"
   ]
  },
  {
   "cell_type": "code",
   "execution_count": 30,
   "metadata": {},
   "outputs": [],
   "source": [
    "combined_median_df.loc[(combined_median_df['중분류_대표값'] == 0) & (combined_median_df['중분류_카운트'] == 0), ['증가추이']] = 0"
   ]
  },
  {
   "cell_type": "code",
   "execution_count": 31,
   "metadata": {},
   "outputs": [
    {
     "data": {
      "text/html": [
       "<div>\n",
       "<style scoped>\n",
       "    .dataframe tbody tr th:only-of-type {\n",
       "        vertical-align: middle;\n",
       "    }\n",
       "\n",
       "    .dataframe tbody tr th {\n",
       "        vertical-align: top;\n",
       "    }\n",
       "\n",
       "    .dataframe thead th {\n",
       "        text-align: right;\n",
       "    }\n",
       "</style>\n",
       "<table border=\"1\" class=\"dataframe\">\n",
       "  <thead>\n",
       "    <tr style=\"text-align: right;\">\n",
       "      <th></th>\n",
       "      <th>사용일자</th>\n",
       "      <th>대분류</th>\n",
       "      <th>중분류</th>\n",
       "      <th>중분류_카운트</th>\n",
       "      <th>중분류_대표값</th>\n",
       "      <th>증가추이</th>\n",
       "    </tr>\n",
       "  </thead>\n",
       "  <tbody>\n",
       "  </tbody>\n",
       "</table>\n",
       "</div>"
      ],
      "text/plain": [
       "Empty DataFrame\n",
       "Columns: [사용일자, 대분류, 중분류, 중분류_카운트, 중분류_대표값, 증가추이]\n",
       "Index: []"
      ]
     },
     "execution_count": 31,
     "metadata": {},
     "output_type": "execute_result"
    }
   ],
   "source": [
    "combined_median_df[combined_median_df['중분류_대표값'] == 0]"
   ]
  },
  {
   "cell_type": "code",
   "execution_count": 32,
   "metadata": {},
   "outputs": [],
   "source": [
    "result_df = combined_median_df.merge(covid_confirmation_df, on='사용일자')"
   ]
  },
  {
   "cell_type": "code",
   "execution_count": 33,
   "metadata": {},
   "outputs": [
    {
     "data": {
      "text/html": [
       "<div>\n",
       "<style scoped>\n",
       "    .dataframe tbody tr th:only-of-type {\n",
       "        vertical-align: middle;\n",
       "    }\n",
       "\n",
       "    .dataframe tbody tr th {\n",
       "        vertical-align: top;\n",
       "    }\n",
       "\n",
       "    .dataframe thead th {\n",
       "        text-align: right;\n",
       "    }\n",
       "</style>\n",
       "<table border=\"1\" class=\"dataframe\">\n",
       "  <thead>\n",
       "    <tr style=\"text-align: right;\">\n",
       "      <th></th>\n",
       "      <th>사용일자</th>\n",
       "      <th>대분류</th>\n",
       "      <th>중분류</th>\n",
       "      <th>중분류_카운트</th>\n",
       "      <th>중분류_대표값</th>\n",
       "      <th>증가추이</th>\n",
       "      <th>확진자수</th>\n",
       "    </tr>\n",
       "  </thead>\n",
       "  <tbody>\n",
       "    <tr>\n",
       "      <th>0</th>\n",
       "      <td>2020-01-04</td>\n",
       "      <td>관광</td>\n",
       "      <td>1급호텔</td>\n",
       "      <td>38</td>\n",
       "      <td>338.0</td>\n",
       "      <td>-88.757396</td>\n",
       "      <td>0.0</td>\n",
       "    </tr>\n",
       "    <tr>\n",
       "      <th>1</th>\n",
       "      <td>2020-01-04</td>\n",
       "      <td>유흥주점</td>\n",
       "      <td>단란주점</td>\n",
       "      <td>968</td>\n",
       "      <td>1195.0</td>\n",
       "      <td>-18.995816</td>\n",
       "      <td>0.0</td>\n",
       "    </tr>\n",
       "    <tr>\n",
       "      <th>2</th>\n",
       "      <td>2020-01-04</td>\n",
       "      <td>유흥주점</td>\n",
       "      <td>유흥주점</td>\n",
       "      <td>3141</td>\n",
       "      <td>1581.0</td>\n",
       "      <td>98.671727</td>\n",
       "      <td>0.0</td>\n",
       "    </tr>\n",
       "    <tr>\n",
       "      <th>3</th>\n",
       "      <td>2020-01-04</td>\n",
       "      <td>유흥주점</td>\n",
       "      <td>칵테일바</td>\n",
       "      <td>986</td>\n",
       "      <td>1505.0</td>\n",
       "      <td>-34.485050</td>\n",
       "      <td>0.0</td>\n",
       "    </tr>\n",
       "    <tr>\n",
       "      <th>4</th>\n",
       "      <td>2020-01-04</td>\n",
       "      <td>음식점</td>\n",
       "      <td>기타건강식</td>\n",
       "      <td>62</td>\n",
       "      <td>650.0</td>\n",
       "      <td>-90.461538</td>\n",
       "      <td>0.0</td>\n",
       "    </tr>\n",
       "  </tbody>\n",
       "</table>\n",
       "</div>"
      ],
      "text/plain": [
       "         사용일자   대분류    중분류  중분류_카운트  중분류_대표값       증가추이  확진자수\n",
       "0  2020-01-04    관광   1급호텔       38    338.0 -88.757396   0.0\n",
       "1  2020-01-04  유흥주점   단란주점      968   1195.0 -18.995816   0.0\n",
       "2  2020-01-04  유흥주점   유흥주점     3141   1581.0  98.671727   0.0\n",
       "3  2020-01-04  유흥주점   칵테일바      986   1505.0 -34.485050   0.0\n",
       "4  2020-01-04   음식점  기타건강식       62    650.0 -90.461538   0.0"
      ]
     },
     "execution_count": 33,
     "metadata": {},
     "output_type": "execute_result"
    }
   ],
   "source": [
    "result_df.head()"
   ]
  }
 ],
 "metadata": {
  "kernelspec": {
   "display_name": "python_3",
   "language": "python",
   "name": "python_3"
  },
  "language_info": {
   "codemirror_mode": {
    "name": "ipython",
    "version": 3
   },
   "file_extension": ".py",
   "mimetype": "text/x-python",
   "name": "python",
   "nbconvert_exporter": "python",
   "pygments_lexer": "ipython3",
   "version": "3.7.6"
  }
 },
 "nbformat": 4,
 "nbformat_minor": 4
}
