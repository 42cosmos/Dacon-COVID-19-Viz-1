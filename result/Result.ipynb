{
 "cells": [
  {
   "cell_type": "markdown",
   "metadata": {},
   "source": [
    "# <center> 군집별로 알아보는 코로나의 영향 </center>"
   ]
  },
  {
   "cell_type": "markdown",
   "metadata": {},
   "source": [
    "## __[목차]__\n",
    "\n",
    "### 1. 사용데이터 정의\n",
    "    1-1. 내부데이터\n",
    "    1-2. 외부데이터\n",
    "\n",
    "### 2. 데이터 분석 및 시각화 방법\n",
    "\n",
    "    2-1. 군집화 방법\n",
    "    2-2. 변화추이 계산 방법\n",
    "    2-3. \n",
    "\n",
    "### 3. 인사이트 분석\n",
    "\n",
    "    3-1. 해석에 필요한 주요 이슈들\n",
    "    3-2. 군집별 시각화 해석\n",
    "    3-3. 인사이트 정리\n",
    "\n",
    "### 4. 한계 및 추가 연구 내용\n",
    "\n",
    "    4-1. 시각화의 한계점\n",
    "    4-2. 추가 연구 내용"
   ]
  },
  {
   "cell_type": "markdown",
   "metadata": {},
   "source": [
    "<img src=\"http://scimonitors.com/wp-content/uploads/2020/03/banner.png\"  align = \"center\" > "
   ]
  },
  {
   "cell_type": "markdown",
   "metadata": {},
   "source": [
    "# 1. 사용데이터 정의\n",
    "\n",
    "### 1-1. 내부데이터\n",
    "1. <br>\n",
    "2. <br>\n",
    "3. <br>\n",
    "\n",
    "### 1-2. 외부 데이터\n",
    "1. <br>\n",
    "2. <br>\n",
    "3. <br>"
   ]
  },
  {
   "cell_type": "markdown",
   "metadata": {},
   "source": [
    "# 2. 데이터 분석 및 시각화 방법\n",
    "### 2-1. 군집화 방법\n",
    "\n",
    "가맹점 업종명을 중분류로 보아 임의로 대분류를 만들었습니다.   \n",
    "분류 시 업종명이 애매모호하거나 정확한 정의를 내릴 수 없으면 제외했습니다.  \n",
    "\n",
    "### 2-2. 변화추이 계산 방법 \n",
    "- "
   ]
  },
  {
   "cell_type": "markdown",
   "metadata": {},
   "source": [
    "# 3. 인사이트 분석\n",
    "\n",
    "### 3-1. 해석에 필요한 주요 이슈들\n",
    "1. 서울시 유흥주점 집합금지 행정처분\n",
    "2. 코로나 경보 ‘심각’ 격상, 학교 개학 전격 연기 서울시교육청 , 코로나19 지역감염 확산에 따른 후속 대책\n",
    "3. 코로나19 확산에 올림픽공원 수영장·스포츠센터 등 24일부터 휴관"
   ]
  },
  {
   "cell_type": "markdown",
   "metadata": {},
   "source": [
    "### 3-2. 군집별 시각화 해석\n",
    "- 대중교통\n",
    "- 교통\n",
    "- 의류\n",
    "- 온라인\n",
    "- 음식점\n",
    "- 실내활동\n",
    "- 관광\n",
    "- 의료\n",
    "- 유흥주점\n",
    "- 실외활동\n",
    "- 교육\n",
    "- 농업\n",
    "### 3-3. 인사이트 정리\n",
    "- "
   ]
  },
  {
   "cell_type": "code",
   "execution_count": null,
   "metadata": {},
   "outputs": [],
   "source": []
  }
 ],
 "metadata": {
  "kernelspec": {
   "display_name": "Python 3",
   "language": "python",
   "name": "python3"
  },
  "language_info": {
   "codemirror_mode": {
    "name": "ipython",
    "version": 3
   },
   "file_extension": ".py",
   "mimetype": "text/x-python",
   "name": "python",
   "nbconvert_exporter": "python",
   "pygments_lexer": "ipython3",
   "version": "3.7.7"
  }
 },
 "nbformat": 4,
 "nbformat_minor": 4
}
