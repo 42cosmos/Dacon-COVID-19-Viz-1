{
 "cells": [
  {
   "cell_type": "markdown",
   "metadata": {},
   "source": [
    "# <center> 군집별로 알아보는 코로나의 영향 </center>"
   ]
  },
  {
   "cell_type": "markdown",
   "metadata": {},
   "source": [
    "## __[목차]__\n",
    "\n",
    "### 1. 사용데이터 정의\n",
    "    1-1. 내부데이터\n",
    "    1-2. 외부데이터\n",
    "    1-3. 군집화데이터\n",
    "\n",
    "### 2. 데이터 분석 및 시각화 방법\n",
    "\n",
    "    2-1. 군집화 방법\n",
    "    2-2. 변화추이 계산 방법\n",
    "    2-3. \n",
    "\n",
    "### 3. 인사이트 분석\n",
    "\n",
    "    3-1. 해석에 필요한 주요 이슈들\n",
    "    3-2. 군집별 시각화 해석\n",
    "    3-3. 인사이트 정리\n",
    "\n",
    "### 4. 한계 및 추가 연구 내용\n",
    "\n",
    "    4-1. 시각화의 한계점\n",
    "    4-2. 추가 연구 내용"
   ]
  },
  {
   "cell_type": "markdown",
   "metadata": {},
   "source": [
    "<img src=\"http://scimonitors.com/wp-content/uploads/2020/03/banner.png\"  align = \"center\" > "
   ]
  },
  {
   "cell_type": "code",
   "execution_count": 1,
   "metadata": {},
   "outputs": [],
   "source": [
    "import os\n",
    "import pandas as pd\n",
    "import numpy as np\n",
    "\n",
    "import warnings\n",
    "warnings.filterwarnings(\"ignore\")"
   ]
  },
  {
   "cell_type": "markdown",
   "metadata": {},
   "source": [
    "# 1. 사용데이터 정의"
   ]
  },
  {
   "cell_type": "code",
   "execution_count": 2,
   "metadata": {},
   "outputs": [],
   "source": [
    "# directory 정의\n",
    "BASE_DIR = '../data/'\n",
    "INTERNAL_DIR = 'internal_data'\n",
    "EXTERNAL_DIR = 'external_data'\n",
    "MERGE_DATA = 'merge_data'"
   ]
  },
  {
   "cell_type": "code",
   "execution_count": 3,
   "metadata": {},
   "outputs": [],
   "source": [
    "category_dict = {'버스': '대중교통',\n",
    " '지하철': '대중교통',\n",
    " '택시': '대중교통',\n",
    " '국산신차': '교통',\n",
    " '렌트카': '교통',\n",
    " '전기차충전소': '교통',\n",
    " '주차장': '교통',\n",
    " '주유소': '교통',\n",
    " '자동차시트/타이어': '교통',\n",
    " '카인테리어': '교통',\n",
    " '중고자동차': '교통',\n",
    " '이륜차판매': '교통',\n",
    " '수입자동차': '교통',\n",
    " '캐쥬얼의류': '의류',\n",
    " '정장': '의류',\n",
    " '기타의류': '의류',\n",
    " '신발': '의류',\n",
    " '스포츠의류': '의류',\n",
    " '내의판매점': '의류',\n",
    " '맞춤복점': '의류',\n",
    " '와이셔츠/타이': '의류',\n",
    " '인터넷Mall': '온라인',\n",
    " '인터넷P/G': '온라인',\n",
    " '인터넷종합Mall': '온라인',\n",
    " '제과점': '음식점',\n",
    " '중국음식': '음식점',\n",
    " '서양읍식': '음식점',\n",
    " '스넥': '음식점',\n",
    " '일반한식': '음식점',\n",
    " '일식회집': '음식점',\n",
    " '한정식': '음식점',\n",
    " '기타건강식': '음식점',\n",
    " '당구장': '실내활동',\n",
    " '볼링장': '실내활동',\n",
    " '스크린골프': '실내활동',\n",
    " '수영장': '실내활동',\n",
    " '영화관': '실내활동',\n",
    " '카지노': '실내활동',\n",
    " '노래방': '실내활동',\n",
    " '수족관': '실내활동',\n",
    " '레져업소(회원제형태)': '실내활동',\n",
    " '헬스크럽': '실내활동',\n",
    " '여객선': '관광',\n",
    " '관광여행': '관광',\n",
    " '항공사': '관광',\n",
    " '2급 호텔': '관광',\n",
    " '1급호텔': '관광',\n",
    " '콘도': '관광',\n",
    " '기타숙박업': '관광',\n",
    " '종합레져타운': '관광',\n",
    " '한의원': '의료',\n",
    " '종합병원': '의료',\n",
    " '한약방': '의료',\n",
    " '의료용품': '의료',\n",
    " '치과의원': '의료',\n",
    " '치과병원': '의료',\n",
    " '병원': '의료',\n",
    " '한방병원': '의료',\n",
    " '약국': '의료',\n",
    " '기타의료기관 및 기타의료기기': '의료',\n",
    " '칵테일바': '유흥주점',\n",
    " '유흥주점': '유흥주점',\n",
    " '단란주점': '유흥주점',\n",
    " '테니스장': '실외활동',\n",
    " '골프연습장': '실외활동',\n",
    " '기타교육': '교육',\n",
    " '유치원': '교육',\n",
    " '기능학원': '교육',\n",
    " '보습학원': '교육',\n",
    " '학원(회원제형태)': '교육',\n",
    " '예체능학원': '교육',\n",
    " '외국어학원': '교육',\n",
    " '비료/농약/사료/종자': '농업',\n",
    " '기타농업관련': '농업',\n",
    " '농기계': '농업'}"
   ]
  },
  {
   "cell_type": "code",
   "execution_count": 4,
   "metadata": {},
   "outputs": [],
   "source": [
    "def find_csv_filenames( path_to_dir, suffix=\".csv\" ):\n",
    "    filenames = os.listdir(path_to_dir)\n",
    "    return [filename for filename in filenames if filename.endswith(suffix)]\n",
    "\n",
    "\n",
    "def make_datetime(x):\n",
    "    x = str(x)\n",
    "    year = x[:4]\n",
    "    month = x[4:6]\n",
    "    day = x[6:]\n",
    "    date = f'{year}-{month}-{day}'\n",
    "    return date"
   ]
  },
  {
   "cell_type": "markdown",
   "metadata": {},
   "source": [
    "### 1-1. 내부데이터 (Dacon 제공 데이터)\n",
    "1. card.csv : 카드 소비 내역<br>\n",
    "2. COVID_19/Time.csv : 코로나 확진자 수<br>"
   ]
  },
  {
   "cell_type": "markdown",
   "metadata": {},
   "source": [
    "#### 카드 소비 내역"
   ]
  },
  {
   "cell_type": "code",
   "execution_count": 5,
   "metadata": {},
   "outputs": [],
   "source": [
    "COVID_DIR = 'COVID_19'\n",
    "DATA_DIR = 'data'\n",
    "\n",
    "CARD_FILENAME = 'card_20200717.csv'\n",
    "COVID_FILENAME = 'Time.csv'\n",
    "CATEGORISING_FILENAME = 'dacon_categorising.xlsx'\n",
    "\n",
    "COVID_PATH = os.path.join(BASE_DIR, INTERNAL_DIR, COVID_DIR, COVID_FILENAME)"
   ]
  },
  {
   "cell_type": "code",
   "execution_count": 6,
   "metadata": {},
   "outputs": [
    {
     "data": {
      "text/plain": [
       "(3713952, 7)"
      ]
     },
     "execution_count": 6,
     "metadata": {},
     "output_type": "execute_result"
    }
   ],
   "source": [
    "card_df = pd.read_csv(os.path.join(BASE_DIR, INTERNAL_DIR, CARD_FILENAME))\n",
    "card_df['mrhst_induty_cl_nm'] = card_df['mrhst_induty_cl_nm'].str.replace(pat = ' ', repl = '')\n",
    "card_df.shape"
   ]
  },
  {
   "cell_type": "code",
   "execution_count": 7,
   "metadata": {},
   "outputs": [
    {
     "data": {
      "text/plain": [
       "(1348866, 8)"
      ]
     },
     "execution_count": 7,
     "metadata": {},
     "output_type": "execute_result"
    }
   ],
   "source": [
    "object_df = card_df[card_df['mrhst_induty_cl_nm'].isin(category_dict)] \n",
    "object_df['대분류'] = object_df['mrhst_induty_cl_nm'].replace(category_dict)\n",
    "object_df.shape\n",
    "\n",
    "# 임의로 만든 대분류를 새 컬럼에 할당함"
   ]
  },
  {
   "cell_type": "code",
   "execution_count": 8,
   "metadata": {},
   "outputs": [
    {
     "data": {
      "text/html": [
       "<div>\n",
       "<style scoped>\n",
       "    .dataframe tbody tr th:only-of-type {\n",
       "        vertical-align: middle;\n",
       "    }\n",
       "\n",
       "    .dataframe tbody tr th {\n",
       "        vertical-align: top;\n",
       "    }\n",
       "\n",
       "    .dataframe thead th {\n",
       "        text-align: right;\n",
       "    }\n",
       "</style>\n",
       "<table border=\"1\" class=\"dataframe\">\n",
       "  <thead>\n",
       "    <tr style=\"text-align: right;\">\n",
       "      <th></th>\n",
       "      <th>datetime</th>\n",
       "      <th>대분류</th>\n",
       "      <th>중분류</th>\n",
       "      <th>sales count</th>\n",
       "    </tr>\n",
       "  </thead>\n",
       "  <tbody>\n",
       "    <tr>\n",
       "      <th>0</th>\n",
       "      <td>2020-01-04</td>\n",
       "      <td>관광</td>\n",
       "      <td>1급호텔</td>\n",
       "      <td>38</td>\n",
       "    </tr>\n",
       "    <tr>\n",
       "      <th>1</th>\n",
       "      <td>2020-01-04</td>\n",
       "      <td>관광</td>\n",
       "      <td>관광여행</td>\n",
       "      <td>1063</td>\n",
       "    </tr>\n",
       "    <tr>\n",
       "      <th>2</th>\n",
       "      <td>2020-01-04</td>\n",
       "      <td>관광</td>\n",
       "      <td>기타숙박업</td>\n",
       "      <td>3738</td>\n",
       "    </tr>\n",
       "    <tr>\n",
       "      <th>3</th>\n",
       "      <td>2020-01-04</td>\n",
       "      <td>관광</td>\n",
       "      <td>항공사</td>\n",
       "      <td>4800</td>\n",
       "    </tr>\n",
       "    <tr>\n",
       "      <th>4</th>\n",
       "      <td>2020-01-04</td>\n",
       "      <td>교육</td>\n",
       "      <td>기능학원</td>\n",
       "      <td>36</td>\n",
       "    </tr>\n",
       "  </tbody>\n",
       "</table>\n",
       "</div>"
      ],
      "text/plain": [
       "     datetime 대분류    중분류  sales count\n",
       "0  2020-01-04  관광   1급호텔           38\n",
       "1  2020-01-04  관광   관광여행         1063\n",
       "2  2020-01-04  관광  기타숙박업         3738\n",
       "3  2020-01-04  관광    항공사         4800\n",
       "4  2020-01-04  교육   기능학원           36"
      ]
     },
     "execution_count": 8,
     "metadata": {},
     "output_type": "execute_result"
    }
   ],
   "source": [
    "object_df = object_df.groupby(['receipt_dttm', '대분류', 'mrhst_induty_cl_nm'], as_index=False)['selng_cascnt'].sum()\n",
    "# 일별 분류 기준 매출발생건수의 합\n",
    "\n",
    "object_df.columns = ['datetime', '대분류', '중분류', 'sales count']\n",
    "object_df = object_df.reset_index(drop = True)\n",
    "object_df['datetime'] = object_df['datetime'].map(make_datetime)\n",
    "object_df.head()"
   ]
  },
  {
   "cell_type": "code",
   "execution_count": 10,
   "metadata": {},
   "outputs": [],
   "source": [
    "internal_df = object_df.rename(columns={'datetime':'사용일자', 'sales count':'중분류_카운트'}) # , 'covid_confirmed':'확진자수'"
   ]
  },
  {
   "cell_type": "code",
   "execution_count": 11,
   "metadata": {},
   "outputs": [
    {
     "data": {
      "text/html": [
       "<div>\n",
       "<style scoped>\n",
       "    .dataframe tbody tr th:only-of-type {\n",
       "        vertical-align: middle;\n",
       "    }\n",
       "\n",
       "    .dataframe tbody tr th {\n",
       "        vertical-align: top;\n",
       "    }\n",
       "\n",
       "    .dataframe thead th {\n",
       "        text-align: right;\n",
       "    }\n",
       "</style>\n",
       "<table border=\"1\" class=\"dataframe\">\n",
       "  <thead>\n",
       "    <tr style=\"text-align: right;\">\n",
       "      <th></th>\n",
       "      <th>사용일자</th>\n",
       "      <th>대분류</th>\n",
       "      <th>중분류_카운트</th>\n",
       "    </tr>\n",
       "    <tr>\n",
       "      <th>중분류</th>\n",
       "      <th></th>\n",
       "      <th></th>\n",
       "      <th></th>\n",
       "    </tr>\n",
       "  </thead>\n",
       "  <tbody>\n",
       "    <tr>\n",
       "      <th>카지노</th>\n",
       "      <td>3</td>\n",
       "      <td>3</td>\n",
       "      <td>3</td>\n",
       "    </tr>\n",
       "  </tbody>\n",
       "</table>\n",
       "</div>"
      ],
      "text/plain": [
       "     사용일자  대분류  중분류_카운트\n",
       "중분류                    \n",
       "카지노     3    3        3"
      ]
     },
     "execution_count": 11,
     "metadata": {},
     "output_type": "execute_result"
    }
   ],
   "source": [
    "check_df = internal_df.groupby(['중분류']).count()\n",
    "check_df[check_df['사용일자']<50]"
   ]
  },
  {
   "cell_type": "code",
   "execution_count": 12,
   "metadata": {},
   "outputs": [],
   "source": [
    "internal_df = internal_df[internal_df['중분류'] != \"카지노\"]\n",
    "# 사용일자가 50일이 되지 않는 데이터 제거"
   ]
  },
  {
   "cell_type": "code",
   "execution_count": 13,
   "metadata": {},
   "outputs": [],
   "source": [
    "# internal_df['확진자수'] = internal_df['확진자수'].fillna(0)"
   ]
  },
  {
   "cell_type": "code",
   "execution_count": 14,
   "metadata": {},
   "outputs": [
    {
     "data": {
      "text/html": [
       "<div>\n",
       "<style scoped>\n",
       "    .dataframe tbody tr th:only-of-type {\n",
       "        vertical-align: middle;\n",
       "    }\n",
       "\n",
       "    .dataframe tbody tr th {\n",
       "        vertical-align: top;\n",
       "    }\n",
       "\n",
       "    .dataframe thead th {\n",
       "        text-align: right;\n",
       "    }\n",
       "</style>\n",
       "<table border=\"1\" class=\"dataframe\">\n",
       "  <thead>\n",
       "    <tr style=\"text-align: right;\">\n",
       "      <th></th>\n",
       "      <th>사용일자</th>\n",
       "      <th>대분류</th>\n",
       "      <th>중분류</th>\n",
       "      <th>중분류_카운트</th>\n",
       "    </tr>\n",
       "  </thead>\n",
       "  <tbody>\n",
       "    <tr>\n",
       "      <th>0</th>\n",
       "      <td>2020-01-04</td>\n",
       "      <td>관광</td>\n",
       "      <td>1급호텔</td>\n",
       "      <td>38</td>\n",
       "    </tr>\n",
       "    <tr>\n",
       "      <th>1</th>\n",
       "      <td>2020-01-04</td>\n",
       "      <td>관광</td>\n",
       "      <td>관광여행</td>\n",
       "      <td>1063</td>\n",
       "    </tr>\n",
       "    <tr>\n",
       "      <th>2</th>\n",
       "      <td>2020-01-04</td>\n",
       "      <td>관광</td>\n",
       "      <td>기타숙박업</td>\n",
       "      <td>3738</td>\n",
       "    </tr>\n",
       "    <tr>\n",
       "      <th>3</th>\n",
       "      <td>2020-01-04</td>\n",
       "      <td>관광</td>\n",
       "      <td>항공사</td>\n",
       "      <td>4800</td>\n",
       "    </tr>\n",
       "    <tr>\n",
       "      <th>4</th>\n",
       "      <td>2020-01-04</td>\n",
       "      <td>교육</td>\n",
       "      <td>기능학원</td>\n",
       "      <td>36</td>\n",
       "    </tr>\n",
       "  </tbody>\n",
       "</table>\n",
       "</div>"
      ],
      "text/plain": [
       "         사용일자 대분류    중분류  중분류_카운트\n",
       "0  2020-01-04  관광   1급호텔       38\n",
       "1  2020-01-04  관광   관광여행     1063\n",
       "2  2020-01-04  관광  기타숙박업     3738\n",
       "3  2020-01-04  관광    항공사     4800\n",
       "4  2020-01-04  교육   기능학원       36"
      ]
     },
     "execution_count": 14,
     "metadata": {},
     "output_type": "execute_result"
    }
   ],
   "source": [
    "internal_df.head()"
   ]
  },
  {
   "cell_type": "markdown",
   "metadata": {},
   "source": []
  },
  {
   "cell_type": "markdown",
   "metadata": {},
   "source": [
    "### 1-2. 외부 데이터 (서울 열린데이터 광장, SEOUL TOPIS)\n",
    "1. bus/data/*.csv : 버스 이용 데이터<br>\n",
    "2. subway/data/*.csv : 지하철 이용 데이터 <br>\n",
    "3. traffic/data/*.xlsx : 교통량 이용 데이터 <br>"
   ]
  },
  {
   "cell_type": "markdown",
   "metadata": {},
   "source": [
    "#### 버스"
   ]
  },
  {
   "cell_type": "code",
   "execution_count": 15,
   "metadata": {},
   "outputs": [
    {
     "data": {
      "text/plain": [
       "['../data/external_data/subway/data',\n",
       " '../data/external_data/bus/data',\n",
       " '../data/external_data/traffic/data']"
      ]
     },
     "execution_count": 15,
     "metadata": {},
     "output_type": "execute_result"
    }
   ],
   "source": [
    "EXTERNAL_DIR = 'external_data'\n",
    "EXTERNAL_PATH = os.path.join('..', DATA_DIR, EXTERNAL_DIR)\n",
    "\n",
    "EXTERNAL_DIR = [os.path.join(EXTERNAL_PATH, name, DATA_DIR) for name in os.listdir(EXTERNAL_PATH) if os.path.isdir(os.path.join(EXTERNAL_PATH, name))]\n",
    "EXTERNAL_DIR"
   ]
  },
  {
   "cell_type": "code",
   "execution_count": 16,
   "metadata": {},
   "outputs": [
    {
     "data": {
      "text/plain": [
       "('../data/external_data/subway/data',\n",
       " '../data/external_data/bus/data',\n",
       " '../data/external_data/traffic/data')"
      ]
     },
     "execution_count": 16,
     "metadata": {},
     "output_type": "execute_result"
    }
   ],
   "source": [
    "SUBWAY_PATH = EXTERNAL_DIR[0]\n",
    "BUS_PATH = EXTERNAL_DIR[1]\n",
    "TRAFFIC_DIR = EXTERNAL_DIR[2]\n",
    "\n",
    "SUBWAY_PATH, BUS_PATH, TRAFFIC_DIR"
   ]
  },
  {
   "cell_type": "code",
   "execution_count": 17,
   "metadata": {},
   "outputs": [],
   "source": [
    "data_list = list()\n",
    "bus_files = find_csv_filenames(BUS_PATH)\n",
    "\n",
    "for csv_file in bus_files:\n",
    "    data_list.append(os.path.join(BUS_PATH, csv_file))\n",
    "    \n",
    "data_list.sort()"
   ]
  },
  {
   "cell_type": "code",
   "execution_count": 18,
   "metadata": {},
   "outputs": [],
   "source": [
    "bus_df = pd.DataFrame(columns=['사용일자','승차총승객수'])\n",
    "bus_df_kor = pd.DataFrame(columns=['사용일자', '노선번호', '노선명', '버스정류장ARS번호', '역명', '승차총승객수', '하차총승객수', '등록일자'])\n",
    "bus_df_eng = pd.DataFrame(columns=['use_dt', 'bus_route_id', 'bus_route_no', 'bus_route_nm', 'bsst_ars_no', 'bus_sta_nm', 'ride_pasgr_num', 'alight_pasgr_num', 'work_dt'])\n",
    "# 외부 데이터가 5월부터 컬럼명이 영문으로 변경되어 데이터프레임 두 개를 생성"
   ]
  },
  {
   "cell_type": "code",
   "execution_count": 19,
   "metadata": {},
   "outputs": [],
   "source": [
    "for file in data_list[:4]:\n",
    "    df = pd.read_csv(file, encoding = 'cp949', index_col = False)\n",
    "    bus_df_kor = bus_df_kor.append(df, ignore_index=True)\n",
    "    \n",
    "for file in data_list[4:]:\n",
    "    df = pd.read_csv(file, encoding = 'cp949', index_col = False)\n",
    "    bus_df_eng = bus_df_eng.append(df, ignore_index=True)"
   ]
  },
  {
   "cell_type": "code",
   "execution_count": 20,
   "metadata": {},
   "outputs": [],
   "source": [
    "bus_df_kor = bus_df_kor[['사용일자','승차총승객수']]\n",
    "bus_df_eng = bus_df_eng.rename(columns={'use_dt':'사용일자','ride_pasgr_num':'승차총승객수'})[['사용일자','승차총승객수']]"
   ]
  },
  {
   "cell_type": "code",
   "execution_count": 21,
   "metadata": {},
   "outputs": [],
   "source": [
    "bus_df = pd.DataFrame(columns=['사용일자','승차총승객수'])\n",
    "\n",
    "bus_df = bus_df.append(bus_df_kor)\n",
    "bus_df = bus_df.append(bus_df_eng)"
   ]
  },
  {
   "cell_type": "code",
   "execution_count": 23,
   "metadata": {},
   "outputs": [],
   "source": [
    "bus_df = bus_df.groupby(['사용일자']).sum().reset_index()\n",
    "bus_df = bus_df.rename(columns={'승차총승객수':'중분류_카운트'})\n",
    "\n",
    "bus_df['사용일자'] = bus_df['사용일자'].map(make_datetime)\n",
    "bus_df['중분류'] = \"버스\""
   ]
  },
  {
   "cell_type": "code",
   "execution_count": 25,
   "metadata": {},
   "outputs": [
    {
     "data": {
      "text/html": [
       "<div>\n",
       "<style scoped>\n",
       "    .dataframe tbody tr th:only-of-type {\n",
       "        vertical-align: middle;\n",
       "    }\n",
       "\n",
       "    .dataframe tbody tr th {\n",
       "        vertical-align: top;\n",
       "    }\n",
       "\n",
       "    .dataframe thead th {\n",
       "        text-align: right;\n",
       "    }\n",
       "</style>\n",
       "<table border=\"1\" class=\"dataframe\">\n",
       "  <thead>\n",
       "    <tr style=\"text-align: right;\">\n",
       "      <th></th>\n",
       "      <th>사용일자</th>\n",
       "      <th>중분류_카운트</th>\n",
       "      <th>중분류</th>\n",
       "    </tr>\n",
       "  </thead>\n",
       "  <tbody>\n",
       "    <tr>\n",
       "      <th>0</th>\n",
       "      <td>2020-01-01</td>\n",
       "      <td>2509091</td>\n",
       "      <td>버스</td>\n",
       "    </tr>\n",
       "    <tr>\n",
       "      <th>1</th>\n",
       "      <td>2020-01-02</td>\n",
       "      <td>5286628</td>\n",
       "      <td>버스</td>\n",
       "    </tr>\n",
       "    <tr>\n",
       "      <th>2</th>\n",
       "      <td>2020-01-03</td>\n",
       "      <td>5580078</td>\n",
       "      <td>버스</td>\n",
       "    </tr>\n",
       "    <tr>\n",
       "      <th>3</th>\n",
       "      <td>2020-01-04</td>\n",
       "      <td>4036695</td>\n",
       "      <td>버스</td>\n",
       "    </tr>\n",
       "    <tr>\n",
       "      <th>4</th>\n",
       "      <td>2020-01-05</td>\n",
       "      <td>3138649</td>\n",
       "      <td>버스</td>\n",
       "    </tr>\n",
       "  </tbody>\n",
       "</table>\n",
       "</div>"
      ],
      "text/plain": [
       "         사용일자  중분류_카운트 중분류\n",
       "0  2020-01-01  2509091  버스\n",
       "1  2020-01-02  5286628  버스\n",
       "2  2020-01-03  5580078  버스\n",
       "3  2020-01-04  4036695  버스\n",
       "4  2020-01-05  3138649  버스"
      ]
     },
     "execution_count": 25,
     "metadata": {},
     "output_type": "execute_result"
    }
   ],
   "source": [
    "bus_df.head()"
   ]
  },
  {
   "cell_type": "markdown",
   "metadata": {},
   "source": [
    "#### 지하철"
   ]
  },
  {
   "cell_type": "code",
   "execution_count": 26,
   "metadata": {},
   "outputs": [],
   "source": [
    "data_list = list()\n",
    "subway_files = find_csv_filenames(SUBWAY_PATH)\n",
    "\n",
    "for csv_file in subway_files:\n",
    "    data_list.append(os.path.join(SUBWAY_PATH, csv_file))\n",
    "    \n",
    "data_list.sort()"
   ]
  },
  {
   "cell_type": "code",
   "execution_count": 27,
   "metadata": {},
   "outputs": [],
   "source": [
    "subway_list = list()\n",
    "\n",
    "for file in data_list:\n",
    "    try:\n",
    "        tmp_df = pd.read_csv(file, encoding = 'cp949', index_col = False)\n",
    "    except:\n",
    "        tmp_df = pd.read_csv(file, encoding = 'utf-8', index_col = False)\n",
    "\n",
    "    subway_list.append(tmp_df)"
   ]
  },
  {
   "cell_type": "code",
   "execution_count": 28,
   "metadata": {},
   "outputs": [
    {
     "data": {
      "text/plain": [
       "(107483, 7)"
      ]
     },
     "execution_count": 28,
     "metadata": {},
     "output_type": "execute_result"
    }
   ],
   "source": [
    "subway_df = pd.concat(subway_list)\n",
    "subway_df.shape"
   ]
  },
  {
   "cell_type": "code",
   "execution_count": 29,
   "metadata": {},
   "outputs": [],
   "source": [
    "subway_df = subway_df.groupby('사용일자', as_index = False)['승차총승객수'].sum()\n",
    "subway_df = subway_df.rename(columns={'승차총승객수':'중분류_카운트'})\n",
    "\n",
    "subway_df['사용일자'] = subway_df['사용일자'].map(make_datetime)\n",
    "subway_df['중분류_카운트'] = subway_df['중분류_카운트'].map(lambda x : int(x))\n",
    "subway_df['중분류'] = '지하철'"
   ]
  },
  {
   "cell_type": "code",
   "execution_count": 30,
   "metadata": {},
   "outputs": [
    {
     "data": {
      "text/html": [
       "<div>\n",
       "<style scoped>\n",
       "    .dataframe tbody tr th:only-of-type {\n",
       "        vertical-align: middle;\n",
       "    }\n",
       "\n",
       "    .dataframe tbody tr th {\n",
       "        vertical-align: top;\n",
       "    }\n",
       "\n",
       "    .dataframe thead th {\n",
       "        text-align: right;\n",
       "    }\n",
       "</style>\n",
       "<table border=\"1\" class=\"dataframe\">\n",
       "  <thead>\n",
       "    <tr style=\"text-align: right;\">\n",
       "      <th></th>\n",
       "      <th>사용일자</th>\n",
       "      <th>중분류_카운트</th>\n",
       "      <th>중분류</th>\n",
       "    </tr>\n",
       "  </thead>\n",
       "  <tbody>\n",
       "    <tr>\n",
       "      <th>0</th>\n",
       "      <td>2020-01-01</td>\n",
       "      <td>3479698</td>\n",
       "      <td>지하철</td>\n",
       "    </tr>\n",
       "    <tr>\n",
       "      <th>1</th>\n",
       "      <td>2020-01-02</td>\n",
       "      <td>7691529</td>\n",
       "      <td>지하철</td>\n",
       "    </tr>\n",
       "    <tr>\n",
       "      <th>2</th>\n",
       "      <td>2020-01-03</td>\n",
       "      <td>8224917</td>\n",
       "      <td>지하철</td>\n",
       "    </tr>\n",
       "    <tr>\n",
       "      <th>3</th>\n",
       "      <td>2020-01-04</td>\n",
       "      <td>6042529</td>\n",
       "      <td>지하철</td>\n",
       "    </tr>\n",
       "    <tr>\n",
       "      <th>4</th>\n",
       "      <td>2020-01-05</td>\n",
       "      <td>4425521</td>\n",
       "      <td>지하철</td>\n",
       "    </tr>\n",
       "  </tbody>\n",
       "</table>\n",
       "</div>"
      ],
      "text/plain": [
       "         사용일자  중분류_카운트  중분류\n",
       "0  2020-01-01  3479698  지하철\n",
       "1  2020-01-02  7691529  지하철\n",
       "2  2020-01-03  8224917  지하철\n",
       "3  2020-01-04  6042529  지하철\n",
       "4  2020-01-05  4425521  지하철"
      ]
     },
     "execution_count": 30,
     "metadata": {},
     "output_type": "execute_result"
    }
   ],
   "source": [
    "subway_df.head()"
   ]
  },
  {
   "cell_type": "markdown",
   "metadata": {},
   "source": [
    "#### 교통량"
   ]
  },
  {
   "cell_type": "code",
   "execution_count": 31,
   "metadata": {},
   "outputs": [],
   "source": [
    "data_list = []\n",
    "\n",
    "filenames = find_csv_filenames(TRAFFIC_DIR, 'xlsx')\n",
    "for csv_file in filenames:\n",
    "    data_list.append(csv_file)"
   ]
  },
  {
   "cell_type": "code",
   "execution_count": 32,
   "metadata": {},
   "outputs": [],
   "source": [
    "traffic_df = pd.DataFrame(columns=['일자', '요일', '지점명', '지점번호', '방향', '구분', '0시', '1시', '2시', '3시', '4시',\n",
    "       '5시', '6시', '7시', '8시', '9시', '10시', '11시', '12시', '13시', '14시', '15시',\n",
    "       '16시', '17시', '18시', '19시', '20시', '21시', '22시', '23시'])"
   ]
  },
  {
   "cell_type": "code",
   "execution_count": 33,
   "metadata": {},
   "outputs": [
    {
     "data": {
      "text/plain": [
       "['01', '02', '03', '04', '05', '06']"
      ]
     },
     "execution_count": 33,
     "metadata": {},
     "output_type": "execute_result"
    }
   ],
   "source": [
    "month_list = ['{:0>2}'.format(num) for num in range(1, 7)]\n",
    "month_list"
   ]
  },
  {
   "cell_type": "code",
   "execution_count": 34,
   "metadata": {},
   "outputs": [
    {
     "data": {
      "text/plain": [
       "'../data/external_data/traffic/data/{}월 서울시 교통량 조사자료.xlsx'"
      ]
     },
     "execution_count": 34,
     "metadata": {},
     "output_type": "execute_result"
    }
   ],
   "source": [
    "traffic_file_path = os.path.join(TRAFFIC_DIR, '{}월 서울시 교통량 조사자료.xlsx')\n",
    "traffic_file_path"
   ]
  },
  {
   "cell_type": "code",
   "execution_count": 35,
   "metadata": {
    "scrolled": true
   },
   "outputs": [],
   "source": [
    "for month in month_list:\n",
    "    traffic_df = traffic_df.append(pd.read_excel(traffic_file_path.format(month), sheet_name=f'{2020}년 {month}월'))"
   ]
  },
  {
   "cell_type": "code",
   "execution_count": 37,
   "metadata": {},
   "outputs": [
    {
     "data": {
      "text/html": [
       "<div>\n",
       "<style scoped>\n",
       "    .dataframe tbody tr th:only-of-type {\n",
       "        vertical-align: middle;\n",
       "    }\n",
       "\n",
       "    .dataframe tbody tr th {\n",
       "        vertical-align: top;\n",
       "    }\n",
       "\n",
       "    .dataframe thead th {\n",
       "        text-align: right;\n",
       "    }\n",
       "</style>\n",
       "<table border=\"1\" class=\"dataframe\">\n",
       "  <thead>\n",
       "    <tr style=\"text-align: right;\">\n",
       "      <th></th>\n",
       "      <th>일자</th>\n",
       "      <th>요일</th>\n",
       "      <th>지점명</th>\n",
       "      <th>지점번호</th>\n",
       "      <th>방향</th>\n",
       "      <th>구분</th>\n",
       "      <th>0시</th>\n",
       "      <th>1시</th>\n",
       "      <th>2시</th>\n",
       "      <th>3시</th>\n",
       "      <th>...</th>\n",
       "      <th>15시</th>\n",
       "      <th>16시</th>\n",
       "      <th>17시</th>\n",
       "      <th>18시</th>\n",
       "      <th>19시</th>\n",
       "      <th>20시</th>\n",
       "      <th>21시</th>\n",
       "      <th>22시</th>\n",
       "      <th>23시</th>\n",
       "      <th>요일(2)</th>\n",
       "    </tr>\n",
       "  </thead>\n",
       "  <tbody>\n",
       "    <tr>\n",
       "      <th>0</th>\n",
       "      <td>20200101</td>\n",
       "      <td>수</td>\n",
       "      <td>성산로(금화터널)</td>\n",
       "      <td>A-01</td>\n",
       "      <td>유입</td>\n",
       "      <td>봉원고가차도-&gt;독립문역</td>\n",
       "      <td>712.0</td>\n",
       "      <td>645.0</td>\n",
       "      <td>437.0</td>\n",
       "      <td>309.0</td>\n",
       "      <td>...</td>\n",
       "      <td>1416.0</td>\n",
       "      <td>1483.0</td>\n",
       "      <td>1329.0</td>\n",
       "      <td>1157.0</td>\n",
       "      <td>1014.0</td>\n",
       "      <td>954.0</td>\n",
       "      <td>849.0</td>\n",
       "      <td>780.0</td>\n",
       "      <td>480.0</td>\n",
       "      <td>NaN</td>\n",
       "    </tr>\n",
       "    <tr>\n",
       "      <th>1</th>\n",
       "      <td>20200102</td>\n",
       "      <td>목</td>\n",
       "      <td>성산로(금화터널)</td>\n",
       "      <td>A-01</td>\n",
       "      <td>유입</td>\n",
       "      <td>봉원고가차도-&gt;독립문역</td>\n",
       "      <td>315.0</td>\n",
       "      <td>222.0</td>\n",
       "      <td>186.0</td>\n",
       "      <td>165.0</td>\n",
       "      <td>...</td>\n",
       "      <td>1897.0</td>\n",
       "      <td>1842.0</td>\n",
       "      <td>2061.0</td>\n",
       "      <td>1994.0</td>\n",
       "      <td>1443.0</td>\n",
       "      <td>1233.0</td>\n",
       "      <td>1165.0</td>\n",
       "      <td>1094.0</td>\n",
       "      <td>852.0</td>\n",
       "      <td>NaN</td>\n",
       "    </tr>\n",
       "    <tr>\n",
       "      <th>2</th>\n",
       "      <td>20200103</td>\n",
       "      <td>금</td>\n",
       "      <td>성산로(금화터널)</td>\n",
       "      <td>A-01</td>\n",
       "      <td>유입</td>\n",
       "      <td>봉원고가차도-&gt;독립문역</td>\n",
       "      <td>632.0</td>\n",
       "      <td>457.0</td>\n",
       "      <td>295.0</td>\n",
       "      <td>236.0</td>\n",
       "      <td>...</td>\n",
       "      <td>1929.0</td>\n",
       "      <td>2049.0</td>\n",
       "      <td>2140.0</td>\n",
       "      <td>2178.0</td>\n",
       "      <td>1654.0</td>\n",
       "      <td>1356.0</td>\n",
       "      <td>1260.0</td>\n",
       "      <td>1253.0</td>\n",
       "      <td>941.0</td>\n",
       "      <td>NaN</td>\n",
       "    </tr>\n",
       "    <tr>\n",
       "      <th>3</th>\n",
       "      <td>20200104</td>\n",
       "      <td>토</td>\n",
       "      <td>성산로(금화터널)</td>\n",
       "      <td>A-01</td>\n",
       "      <td>유입</td>\n",
       "      <td>봉원고가차도-&gt;독립문역</td>\n",
       "      <td>740.0</td>\n",
       "      <td>518.0</td>\n",
       "      <td>388.0</td>\n",
       "      <td>331.0</td>\n",
       "      <td>...</td>\n",
       "      <td>1788.0</td>\n",
       "      <td>1588.0</td>\n",
       "      <td>1669.0</td>\n",
       "      <td>1530.0</td>\n",
       "      <td>1222.0</td>\n",
       "      <td>1143.0</td>\n",
       "      <td>1089.0</td>\n",
       "      <td>1039.0</td>\n",
       "      <td>791.0</td>\n",
       "      <td>NaN</td>\n",
       "    </tr>\n",
       "    <tr>\n",
       "      <th>4</th>\n",
       "      <td>20200105</td>\n",
       "      <td>일</td>\n",
       "      <td>성산로(금화터널)</td>\n",
       "      <td>A-01</td>\n",
       "      <td>유입</td>\n",
       "      <td>봉원고가차도-&gt;독립문역</td>\n",
       "      <td>533.0</td>\n",
       "      <td>424.0</td>\n",
       "      <td>297.0</td>\n",
       "      <td>230.0</td>\n",
       "      <td>...</td>\n",
       "      <td>1673.0</td>\n",
       "      <td>1494.0</td>\n",
       "      <td>1429.0</td>\n",
       "      <td>1288.0</td>\n",
       "      <td>1035.0</td>\n",
       "      <td>987.0</td>\n",
       "      <td>884.0</td>\n",
       "      <td>803.0</td>\n",
       "      <td>564.0</td>\n",
       "      <td>NaN</td>\n",
       "    </tr>\n",
       "  </tbody>\n",
       "</table>\n",
       "<p>5 rows × 31 columns</p>\n",
       "</div>"
      ],
      "text/plain": [
       "         일자 요일        지점명  지점번호  방향            구분     0시     1시     2시     3시  \\\n",
       "0  20200101  수  성산로(금화터널)  A-01  유입  봉원고가차도->독립문역  712.0  645.0  437.0  309.0   \n",
       "1  20200102  목  성산로(금화터널)  A-01  유입  봉원고가차도->독립문역  315.0  222.0  186.0  165.0   \n",
       "2  20200103  금  성산로(금화터널)  A-01  유입  봉원고가차도->독립문역  632.0  457.0  295.0  236.0   \n",
       "3  20200104  토  성산로(금화터널)  A-01  유입  봉원고가차도->독립문역  740.0  518.0  388.0  331.0   \n",
       "4  20200105  일  성산로(금화터널)  A-01  유입  봉원고가차도->독립문역  533.0  424.0  297.0  230.0   \n",
       "\n",
       "   ...     15시     16시     17시     18시     19시     20시     21시     22시    23시  \\\n",
       "0  ...  1416.0  1483.0  1329.0  1157.0  1014.0   954.0   849.0   780.0  480.0   \n",
       "1  ...  1897.0  1842.0  2061.0  1994.0  1443.0  1233.0  1165.0  1094.0  852.0   \n",
       "2  ...  1929.0  2049.0  2140.0  2178.0  1654.0  1356.0  1260.0  1253.0  941.0   \n",
       "3  ...  1788.0  1588.0  1669.0  1530.0  1222.0  1143.0  1089.0  1039.0  791.0   \n",
       "4  ...  1673.0  1494.0  1429.0  1288.0  1035.0   987.0   884.0   803.0  564.0   \n",
       "\n",
       "   요일(2)  \n",
       "0    NaN  \n",
       "1    NaN  \n",
       "2    NaN  \n",
       "3    NaN  \n",
       "4    NaN  \n",
       "\n",
       "[5 rows x 31 columns]"
      ]
     },
     "execution_count": 37,
     "metadata": {},
     "output_type": "execute_result"
    }
   ],
   "source": [
    "traffic_df.head()"
   ]
  },
  {
   "cell_type": "code",
   "execution_count": 38,
   "metadata": {},
   "outputs": [
    {
     "data": {
      "text/html": [
       "<div>\n",
       "<style scoped>\n",
       "    .dataframe tbody tr th:only-of-type {\n",
       "        vertical-align: middle;\n",
       "    }\n",
       "\n",
       "    .dataframe tbody tr th {\n",
       "        vertical-align: top;\n",
       "    }\n",
       "\n",
       "    .dataframe thead th {\n",
       "        text-align: right;\n",
       "    }\n",
       "</style>\n",
       "<table border=\"1\" class=\"dataframe\">\n",
       "  <thead>\n",
       "    <tr style=\"text-align: right;\">\n",
       "      <th></th>\n",
       "      <th>0시</th>\n",
       "      <th>1시</th>\n",
       "      <th>2시</th>\n",
       "      <th>3시</th>\n",
       "      <th>4시</th>\n",
       "      <th>5시</th>\n",
       "      <th>6시</th>\n",
       "      <th>7시</th>\n",
       "      <th>8시</th>\n",
       "      <th>9시</th>\n",
       "      <th>...</th>\n",
       "      <th>14시</th>\n",
       "      <th>15시</th>\n",
       "      <th>16시</th>\n",
       "      <th>17시</th>\n",
       "      <th>18시</th>\n",
       "      <th>19시</th>\n",
       "      <th>20시</th>\n",
       "      <th>21시</th>\n",
       "      <th>22시</th>\n",
       "      <th>23시</th>\n",
       "    </tr>\n",
       "    <tr>\n",
       "      <th>일자</th>\n",
       "      <th></th>\n",
       "      <th></th>\n",
       "      <th></th>\n",
       "      <th></th>\n",
       "      <th></th>\n",
       "      <th></th>\n",
       "      <th></th>\n",
       "      <th></th>\n",
       "      <th></th>\n",
       "      <th></th>\n",
       "      <th></th>\n",
       "      <th></th>\n",
       "      <th></th>\n",
       "      <th></th>\n",
       "      <th></th>\n",
       "      <th></th>\n",
       "      <th></th>\n",
       "      <th></th>\n",
       "      <th></th>\n",
       "      <th></th>\n",
       "      <th></th>\n",
       "    </tr>\n",
       "  </thead>\n",
       "  <tbody>\n",
       "    <tr>\n",
       "      <th>20200101</th>\n",
       "      <td>266533.0</td>\n",
       "      <td>296321.0</td>\n",
       "      <td>185636.0</td>\n",
       "      <td>134134.0</td>\n",
       "      <td>114799.0</td>\n",
       "      <td>125439.0</td>\n",
       "      <td>153618.0</td>\n",
       "      <td>177253.0</td>\n",
       "      <td>229955.0</td>\n",
       "      <td>271736.0</td>\n",
       "      <td>...</td>\n",
       "      <td>448721.0</td>\n",
       "      <td>463652.0</td>\n",
       "      <td>465493.0</td>\n",
       "      <td>440349.0</td>\n",
       "      <td>397753.0</td>\n",
       "      <td>372566.0</td>\n",
       "      <td>369655.0</td>\n",
       "      <td>343421.0</td>\n",
       "      <td>271340.0</td>\n",
       "      <td>185353.0</td>\n",
       "    </tr>\n",
       "    <tr>\n",
       "      <th>20200102</th>\n",
       "      <td>128132.0</td>\n",
       "      <td>85712.0</td>\n",
       "      <td>64405.0</td>\n",
       "      <td>61816.0</td>\n",
       "      <td>102125.0</td>\n",
       "      <td>228184.0</td>\n",
       "      <td>417027.0</td>\n",
       "      <td>543584.0</td>\n",
       "      <td>576058.0</td>\n",
       "      <td>531913.0</td>\n",
       "      <td>...</td>\n",
       "      <td>513649.0</td>\n",
       "      <td>525513.0</td>\n",
       "      <td>537179.0</td>\n",
       "      <td>553531.0</td>\n",
       "      <td>550529.0</td>\n",
       "      <td>482317.0</td>\n",
       "      <td>416175.0</td>\n",
       "      <td>405076.0</td>\n",
       "      <td>359995.0</td>\n",
       "      <td>275395.0</td>\n",
       "    </tr>\n",
       "    <tr>\n",
       "      <th>20200103</th>\n",
       "      <td>205548.0</td>\n",
       "      <td>153871.0</td>\n",
       "      <td>114252.0</td>\n",
       "      <td>96035.0</td>\n",
       "      <td>119189.0</td>\n",
       "      <td>223213.0</td>\n",
       "      <td>398420.0</td>\n",
       "      <td>538560.0</td>\n",
       "      <td>585920.0</td>\n",
       "      <td>548984.0</td>\n",
       "      <td>...</td>\n",
       "      <td>538689.0</td>\n",
       "      <td>544406.0</td>\n",
       "      <td>554737.0</td>\n",
       "      <td>564720.0</td>\n",
       "      <td>554247.0</td>\n",
       "      <td>515284.0</td>\n",
       "      <td>464737.0</td>\n",
       "      <td>440925.0</td>\n",
       "      <td>407617.0</td>\n",
       "      <td>328408.0</td>\n",
       "    </tr>\n",
       "    <tr>\n",
       "      <th>20200104</th>\n",
       "      <td>257111.0</td>\n",
       "      <td>203631.0</td>\n",
       "      <td>164033.0</td>\n",
       "      <td>133204.0</td>\n",
       "      <td>137314.0</td>\n",
       "      <td>201180.0</td>\n",
       "      <td>281633.0</td>\n",
       "      <td>320162.0</td>\n",
       "      <td>417084.0</td>\n",
       "      <td>489365.0</td>\n",
       "      <td>...</td>\n",
       "      <td>530548.0</td>\n",
       "      <td>531122.0</td>\n",
       "      <td>535347.0</td>\n",
       "      <td>539571.0</td>\n",
       "      <td>496455.0</td>\n",
       "      <td>424779.0</td>\n",
       "      <td>401285.0</td>\n",
       "      <td>400037.0</td>\n",
       "      <td>353366.0</td>\n",
       "      <td>274282.0</td>\n",
       "    </tr>\n",
       "    <tr>\n",
       "      <th>20200105</th>\n",
       "      <td>215442.0</td>\n",
       "      <td>164669.0</td>\n",
       "      <td>126931.0</td>\n",
       "      <td>100601.0</td>\n",
       "      <td>94797.0</td>\n",
       "      <td>118228.0</td>\n",
       "      <td>166274.0</td>\n",
       "      <td>205482.0</td>\n",
       "      <td>295470.0</td>\n",
       "      <td>396652.0</td>\n",
       "      <td>...</td>\n",
       "      <td>511018.0</td>\n",
       "      <td>511254.0</td>\n",
       "      <td>509879.0</td>\n",
       "      <td>487306.0</td>\n",
       "      <td>442948.0</td>\n",
       "      <td>393968.0</td>\n",
       "      <td>385019.0</td>\n",
       "      <td>357217.0</td>\n",
       "      <td>290775.0</td>\n",
       "      <td>206582.0</td>\n",
       "    </tr>\n",
       "  </tbody>\n",
       "</table>\n",
       "<p>5 rows × 24 columns</p>\n",
       "</div>"
      ],
      "text/plain": [
       "                0시        1시        2시        3시        4시        5시  \\\n",
       "일자                                                                     \n",
       "20200101  266533.0  296321.0  185636.0  134134.0  114799.0  125439.0   \n",
       "20200102  128132.0   85712.0   64405.0   61816.0  102125.0  228184.0   \n",
       "20200103  205548.0  153871.0  114252.0   96035.0  119189.0  223213.0   \n",
       "20200104  257111.0  203631.0  164033.0  133204.0  137314.0  201180.0   \n",
       "20200105  215442.0  164669.0  126931.0  100601.0   94797.0  118228.0   \n",
       "\n",
       "                6시        7시        8시        9시  ...       14시       15시  \\\n",
       "일자                                                ...                       \n",
       "20200101  153618.0  177253.0  229955.0  271736.0  ...  448721.0  463652.0   \n",
       "20200102  417027.0  543584.0  576058.0  531913.0  ...  513649.0  525513.0   \n",
       "20200103  398420.0  538560.0  585920.0  548984.0  ...  538689.0  544406.0   \n",
       "20200104  281633.0  320162.0  417084.0  489365.0  ...  530548.0  531122.0   \n",
       "20200105  166274.0  205482.0  295470.0  396652.0  ...  511018.0  511254.0   \n",
       "\n",
       "               16시       17시       18시       19시       20시       21시  \\\n",
       "일자                                                                     \n",
       "20200101  465493.0  440349.0  397753.0  372566.0  369655.0  343421.0   \n",
       "20200102  537179.0  553531.0  550529.0  482317.0  416175.0  405076.0   \n",
       "20200103  554737.0  564720.0  554247.0  515284.0  464737.0  440925.0   \n",
       "20200104  535347.0  539571.0  496455.0  424779.0  401285.0  400037.0   \n",
       "20200105  509879.0  487306.0  442948.0  393968.0  385019.0  357217.0   \n",
       "\n",
       "               22시       23시  \n",
       "일자                            \n",
       "20200101  271340.0  185353.0  \n",
       "20200102  359995.0  275395.0  \n",
       "20200103  407617.0  328408.0  \n",
       "20200104  353366.0  274282.0  \n",
       "20200105  290775.0  206582.0  \n",
       "\n",
       "[5 rows x 24 columns]"
      ]
     },
     "execution_count": 38,
     "metadata": {},
     "output_type": "execute_result"
    }
   ],
   "source": [
    "traffic_df = traffic_df.groupby('일자')[[name for name in traffic_df.columns if name[0].isnumeric()]].sum()\n",
    "traffic_df.head()"
   ]
  },
  {
   "cell_type": "code",
   "execution_count": 39,
   "metadata": {},
   "outputs": [],
   "source": [
    "traffic_df = traffic_df.T.sum().reset_index()\n",
    "traffic_df = traffic_df.rename(columns={'일자':'사용일자', 0:'중분류_카운트'})\n",
    "\n",
    "traffic_df['사용일자'] = traffic_df['사용일자'].map(make_datetime)\n",
    "traffic_df['중분류_카운트'] = traffic_df['중분류_카운트'].map(lambda x : int(x))\n",
    "traffic_df['중분류'] = '교통량'"
   ]
  },
  {
   "cell_type": "code",
   "execution_count": 41,
   "metadata": {},
   "outputs": [
    {
     "data": {
      "text/html": [
       "<div>\n",
       "<style scoped>\n",
       "    .dataframe tbody tr th:only-of-type {\n",
       "        vertical-align: middle;\n",
       "    }\n",
       "\n",
       "    .dataframe tbody tr th {\n",
       "        vertical-align: top;\n",
       "    }\n",
       "\n",
       "    .dataframe thead th {\n",
       "        text-align: right;\n",
       "    }\n",
       "</style>\n",
       "<table border=\"1\" class=\"dataframe\">\n",
       "  <thead>\n",
       "    <tr style=\"text-align: right;\">\n",
       "      <th></th>\n",
       "      <th>사용일자</th>\n",
       "      <th>중분류_카운트</th>\n",
       "      <th>중분류</th>\n",
       "    </tr>\n",
       "  </thead>\n",
       "  <tbody>\n",
       "    <tr>\n",
       "      <th>0</th>\n",
       "      <td>2020-01-01</td>\n",
       "      <td>7347299</td>\n",
       "      <td>교통량</td>\n",
       "    </tr>\n",
       "    <tr>\n",
       "      <th>1</th>\n",
       "      <td>2020-01-02</td>\n",
       "      <td>9326734</td>\n",
       "      <td>교통량</td>\n",
       "    </tr>\n",
       "    <tr>\n",
       "      <th>2</th>\n",
       "      <td>2020-01-03</td>\n",
       "      <td>9998638</td>\n",
       "      <td>교통량</td>\n",
       "    </tr>\n",
       "    <tr>\n",
       "      <th>3</th>\n",
       "      <td>2020-01-04</td>\n",
       "      <td>9198233</td>\n",
       "      <td>교통량</td>\n",
       "    </tr>\n",
       "    <tr>\n",
       "      <th>4</th>\n",
       "      <td>2020-01-05</td>\n",
       "      <td>7868358</td>\n",
       "      <td>교통량</td>\n",
       "    </tr>\n",
       "  </tbody>\n",
       "</table>\n",
       "</div>"
      ],
      "text/plain": [
       "         사용일자  중분류_카운트  중분류\n",
       "0  2020-01-01  7347299  교통량\n",
       "1  2020-01-02  9326734  교통량\n",
       "2  2020-01-03  9998638  교통량\n",
       "3  2020-01-04  9198233  교통량\n",
       "4  2020-01-05  7868358  교통량"
      ]
     },
     "execution_count": 41,
     "metadata": {},
     "output_type": "execute_result"
    }
   ],
   "source": [
    "traffic_df.head()"
   ]
  },
  {
   "cell_type": "markdown",
   "metadata": {},
   "source": [
    "========================================"
   ]
  },
  {
   "cell_type": "code",
   "execution_count": 42,
   "metadata": {},
   "outputs": [
    {
     "data": {
      "text/html": [
       "<div>\n",
       "<style scoped>\n",
       "    .dataframe tbody tr th:only-of-type {\n",
       "        vertical-align: middle;\n",
       "    }\n",
       "\n",
       "    .dataframe tbody tr th {\n",
       "        vertical-align: top;\n",
       "    }\n",
       "\n",
       "    .dataframe thead th {\n",
       "        text-align: right;\n",
       "    }\n",
       "</style>\n",
       "<table border=\"1\" class=\"dataframe\">\n",
       "  <thead>\n",
       "    <tr style=\"text-align: right;\">\n",
       "      <th></th>\n",
       "      <th>사용일자</th>\n",
       "      <th>중분류_카운트</th>\n",
       "      <th>중분류</th>\n",
       "    </tr>\n",
       "  </thead>\n",
       "  <tbody>\n",
       "    <tr>\n",
       "      <th>0</th>\n",
       "      <td>2020-01-01</td>\n",
       "      <td>2509091</td>\n",
       "      <td>버스</td>\n",
       "    </tr>\n",
       "    <tr>\n",
       "      <th>1</th>\n",
       "      <td>2020-01-02</td>\n",
       "      <td>5286628</td>\n",
       "      <td>버스</td>\n",
       "    </tr>\n",
       "    <tr>\n",
       "      <th>2</th>\n",
       "      <td>2020-01-03</td>\n",
       "      <td>5580078</td>\n",
       "      <td>버스</td>\n",
       "    </tr>\n",
       "    <tr>\n",
       "      <th>3</th>\n",
       "      <td>2020-01-04</td>\n",
       "      <td>4036695</td>\n",
       "      <td>버스</td>\n",
       "    </tr>\n",
       "    <tr>\n",
       "      <th>4</th>\n",
       "      <td>2020-01-05</td>\n",
       "      <td>3138649</td>\n",
       "      <td>버스</td>\n",
       "    </tr>\n",
       "  </tbody>\n",
       "</table>\n",
       "</div>"
      ],
      "text/plain": [
       "         사용일자  중분류_카운트 중분류\n",
       "0  2020-01-01  2509091  버스\n",
       "1  2020-01-02  5286628  버스\n",
       "2  2020-01-03  5580078  버스\n",
       "3  2020-01-04  4036695  버스\n",
       "4  2020-01-05  3138649  버스"
      ]
     },
     "execution_count": 42,
     "metadata": {},
     "output_type": "execute_result"
    }
   ],
   "source": [
    "external_df = bus_df.append(subway_df)\n",
    "external_df = external_df.append(traffic_df)\n",
    "external_df.head()"
   ]
  },
  {
   "cell_type": "markdown",
   "metadata": {},
   "source": [
    "### 1-3. 최종 데이터 (내부데이터 + 외부데이터)\n",
    "\n",
    "- Internal + External + Covid Confirmation Count = Result<br>"
   ]
  },
  {
   "cell_type": "code",
   "execution_count": 43,
   "metadata": {},
   "outputs": [],
   "source": [
    "external_df['대분류'] = np.nan"
   ]
  },
  {
   "cell_type": "code",
   "execution_count": 44,
   "metadata": {},
   "outputs": [],
   "source": [
    "external_df.loc[external_df['중분류'] == '교통량', ['대분류']] = '교통'\n",
    "external_df.loc[external_df['중분류'] != '교통량', ['대분류']] = '대중교통'"
   ]
  },
  {
   "cell_type": "code",
   "execution_count": 45,
   "metadata": {},
   "outputs": [
    {
     "data": {
      "text/html": [
       "<div>\n",
       "<style scoped>\n",
       "    .dataframe tbody tr th:only-of-type {\n",
       "        vertical-align: middle;\n",
       "    }\n",
       "\n",
       "    .dataframe tbody tr th {\n",
       "        vertical-align: top;\n",
       "    }\n",
       "\n",
       "    .dataframe thead th {\n",
       "        text-align: right;\n",
       "    }\n",
       "</style>\n",
       "<table border=\"1\" class=\"dataframe\">\n",
       "  <thead>\n",
       "    <tr style=\"text-align: right;\">\n",
       "      <th></th>\n",
       "      <th>사용일자</th>\n",
       "      <th>대분류</th>\n",
       "      <th>중분류</th>\n",
       "      <th>중분류_카운트</th>\n",
       "    </tr>\n",
       "  </thead>\n",
       "  <tbody>\n",
       "    <tr>\n",
       "      <th>0</th>\n",
       "      <td>2020-01-04</td>\n",
       "      <td>관광</td>\n",
       "      <td>1급호텔</td>\n",
       "      <td>38</td>\n",
       "    </tr>\n",
       "    <tr>\n",
       "      <th>1</th>\n",
       "      <td>2020-01-04</td>\n",
       "      <td>관광</td>\n",
       "      <td>관광여행</td>\n",
       "      <td>1063</td>\n",
       "    </tr>\n",
       "    <tr>\n",
       "      <th>2</th>\n",
       "      <td>2020-01-04</td>\n",
       "      <td>관광</td>\n",
       "      <td>기타숙박업</td>\n",
       "      <td>3738</td>\n",
       "    </tr>\n",
       "    <tr>\n",
       "      <th>3</th>\n",
       "      <td>2020-01-04</td>\n",
       "      <td>관광</td>\n",
       "      <td>항공사</td>\n",
       "      <td>4800</td>\n",
       "    </tr>\n",
       "    <tr>\n",
       "      <th>4</th>\n",
       "      <td>2020-01-04</td>\n",
       "      <td>교육</td>\n",
       "      <td>기능학원</td>\n",
       "      <td>36</td>\n",
       "    </tr>\n",
       "    <tr>\n",
       "      <th>...</th>\n",
       "      <td>...</td>\n",
       "      <td>...</td>\n",
       "      <td>...</td>\n",
       "      <td>...</td>\n",
       "    </tr>\n",
       "    <tr>\n",
       "      <th>177</th>\n",
       "      <td>2020-06-26</td>\n",
       "      <td>교통</td>\n",
       "      <td>교통량</td>\n",
       "      <td>10115813</td>\n",
       "    </tr>\n",
       "    <tr>\n",
       "      <th>178</th>\n",
       "      <td>2020-06-27</td>\n",
       "      <td>교통</td>\n",
       "      <td>교통량</td>\n",
       "      <td>9465922</td>\n",
       "    </tr>\n",
       "    <tr>\n",
       "      <th>179</th>\n",
       "      <td>2020-06-28</td>\n",
       "      <td>교통</td>\n",
       "      <td>교통량</td>\n",
       "      <td>8023217</td>\n",
       "    </tr>\n",
       "    <tr>\n",
       "      <th>180</th>\n",
       "      <td>2020-06-29</td>\n",
       "      <td>교통</td>\n",
       "      <td>교통량</td>\n",
       "      <td>9589932</td>\n",
       "    </tr>\n",
       "    <tr>\n",
       "      <th>181</th>\n",
       "      <td>2020-06-30</td>\n",
       "      <td>교통</td>\n",
       "      <td>교통량</td>\n",
       "      <td>9248712</td>\n",
       "    </tr>\n",
       "  </tbody>\n",
       "</table>\n",
       "<p>10705 rows × 4 columns</p>\n",
       "</div>"
      ],
      "text/plain": [
       "           사용일자 대분류    중분류   중분류_카운트\n",
       "0    2020-01-04  관광   1급호텔        38\n",
       "1    2020-01-04  관광   관광여행      1063\n",
       "2    2020-01-04  관광  기타숙박업      3738\n",
       "3    2020-01-04  관광    항공사      4800\n",
       "4    2020-01-04  교육   기능학원        36\n",
       "..          ...  ..    ...       ...\n",
       "177  2020-06-26  교통    교통량  10115813\n",
       "178  2020-06-27  교통    교통량   9465922\n",
       "179  2020-06-28  교통    교통량   8023217\n",
       "180  2020-06-29  교통    교통량   9589932\n",
       "181  2020-06-30  교통    교통량   9248712\n",
       "\n",
       "[10705 rows x 4 columns]"
      ]
     },
     "execution_count": 45,
     "metadata": {},
     "output_type": "execute_result"
    }
   ],
   "source": [
    "concated_df = pd.concat([internal_df, external_df], axis = 0)\n",
    "concated_df"
   ]
  },
  {
   "cell_type": "code",
   "execution_count": 46,
   "metadata": {},
   "outputs": [],
   "source": [
    "median_v_series = concated_df.groupby(['대분류', '중분류'], as_index = False)['중분류_카운트'].median()\n",
    "# 분류 별 카운트의 중앙값 할당\n",
    "median_v_series.rename(columns = {'중분류_카운트' : '중분류_대표값'}, inplace = True)"
   ]
  },
  {
   "cell_type": "code",
   "execution_count": 47,
   "metadata": {},
   "outputs": [
    {
     "data": {
      "text/html": [
       "<div>\n",
       "<style scoped>\n",
       "    .dataframe tbody tr th:only-of-type {\n",
       "        vertical-align: middle;\n",
       "    }\n",
       "\n",
       "    .dataframe tbody tr th {\n",
       "        vertical-align: top;\n",
       "    }\n",
       "\n",
       "    .dataframe thead th {\n",
       "        text-align: right;\n",
       "    }\n",
       "</style>\n",
       "<table border=\"1\" class=\"dataframe\">\n",
       "  <thead>\n",
       "    <tr style=\"text-align: right;\">\n",
       "      <th></th>\n",
       "      <th>사용일자</th>\n",
       "      <th>대분류</th>\n",
       "      <th>중분류</th>\n",
       "      <th>중분류_카운트</th>\n",
       "      <th>중분류_대표값</th>\n",
       "    </tr>\n",
       "  </thead>\n",
       "  <tbody>\n",
       "    <tr>\n",
       "      <th>0</th>\n",
       "      <td>2020-01-04</td>\n",
       "      <td>관광</td>\n",
       "      <td>1급호텔</td>\n",
       "      <td>38</td>\n",
       "      <td>338.0</td>\n",
       "    </tr>\n",
       "    <tr>\n",
       "      <th>1</th>\n",
       "      <td>2020-01-06</td>\n",
       "      <td>관광</td>\n",
       "      <td>1급호텔</td>\n",
       "      <td>19</td>\n",
       "      <td>338.0</td>\n",
       "    </tr>\n",
       "  </tbody>\n",
       "</table>\n",
       "</div>"
      ],
      "text/plain": [
       "         사용일자 대분류   중분류  중분류_카운트  중분류_대표값\n",
       "0  2020-01-04  관광  1급호텔       38    338.0\n",
       "1  2020-01-06  관광  1급호텔       19    338.0"
      ]
     },
     "execution_count": 47,
     "metadata": {},
     "output_type": "execute_result"
    }
   ],
   "source": [
    "combined_median_df = pd.merge(concated_df, median_v_series, on = ['대분류', '중분류'])\n",
    "combined_median_df.head(2)"
   ]
  },
  {
   "cell_type": "code",
   "execution_count": 48,
   "metadata": {},
   "outputs": [],
   "source": [
    "combined_median_df['증가추이'] = ((combined_median_df['중분류_카운트']-combined_median_df['중분류_대표값']) / combined_median_df['중분류_대표값']) * 100"
   ]
  },
  {
   "cell_type": "code",
   "execution_count": 56,
   "metadata": {},
   "outputs": [
    {
     "data": {
      "text/html": [
       "<div>\n",
       "<style scoped>\n",
       "    .dataframe tbody tr th:only-of-type {\n",
       "        vertical-align: middle;\n",
       "    }\n",
       "\n",
       "    .dataframe tbody tr th {\n",
       "        vertical-align: top;\n",
       "    }\n",
       "\n",
       "    .dataframe thead th {\n",
       "        text-align: right;\n",
       "    }\n",
       "</style>\n",
       "<table border=\"1\" class=\"dataframe\">\n",
       "  <thead>\n",
       "    <tr style=\"text-align: right;\">\n",
       "      <th></th>\n",
       "      <th>사용일자</th>\n",
       "      <th>대분류</th>\n",
       "      <th>중분류</th>\n",
       "      <th>중분류_카운트</th>\n",
       "      <th>중분류_대표값</th>\n",
       "      <th>증가추이</th>\n",
       "    </tr>\n",
       "  </thead>\n",
       "  <tbody>\n",
       "  </tbody>\n",
       "</table>\n",
       "</div>"
      ],
      "text/plain": [
       "Empty DataFrame\n",
       "Columns: [사용일자, 대분류, 중분류, 중분류_카운트, 중분류_대표값, 증가추이]\n",
       "Index: []"
      ]
     },
     "execution_count": 56,
     "metadata": {},
     "output_type": "execute_result"
    }
   ],
   "source": [
    "combined_median_df[(combined_median_df['중분류_대표값'] == 0) & (combined_median_df['중분류_카운트'] == 0)]"
   ]
  },
  {
   "cell_type": "markdown",
   "metadata": {},
   "source": [
    "#### 코로나 "
   ]
  },
  {
   "cell_type": "code",
   "execution_count": null,
   "metadata": {},
   "outputs": [],
   "source": [
    "covid_df = pd.read_csv(COVID_PATH)\n",
    "covid_df.head() # (163, 7)"
   ]
  },
  {
   "cell_type": "code",
   "execution_count": 51,
   "metadata": {},
   "outputs": [
    {
     "data": {
      "text/html": [
       "<div>\n",
       "<style scoped>\n",
       "    .dataframe tbody tr th:only-of-type {\n",
       "        vertical-align: middle;\n",
       "    }\n",
       "\n",
       "    .dataframe tbody tr th {\n",
       "        vertical-align: top;\n",
       "    }\n",
       "\n",
       "    .dataframe thead th {\n",
       "        text-align: right;\n",
       "    }\n",
       "</style>\n",
       "<table border=\"1\" class=\"dataframe\">\n",
       "  <thead>\n",
       "    <tr style=\"text-align: right;\">\n",
       "      <th></th>\n",
       "      <th>사용일자</th>\n",
       "      <th>확진자수</th>\n",
       "    </tr>\n",
       "  </thead>\n",
       "  <tbody>\n",
       "    <tr>\n",
       "      <th>0</th>\n",
       "      <td>2020-01-20</td>\n",
       "      <td>1</td>\n",
       "    </tr>\n",
       "    <tr>\n",
       "      <th>1</th>\n",
       "      <td>2020-01-21</td>\n",
       "      <td>1</td>\n",
       "    </tr>\n",
       "    <tr>\n",
       "      <th>2</th>\n",
       "      <td>2020-01-22</td>\n",
       "      <td>1</td>\n",
       "    </tr>\n",
       "    <tr>\n",
       "      <th>3</th>\n",
       "      <td>2020-01-23</td>\n",
       "      <td>1</td>\n",
       "    </tr>\n",
       "    <tr>\n",
       "      <th>4</th>\n",
       "      <td>2020-01-24</td>\n",
       "      <td>2</td>\n",
       "    </tr>\n",
       "  </tbody>\n",
       "</table>\n",
       "</div>"
      ],
      "text/plain": [
       "         사용일자  확진자수\n",
       "0  2020-01-20     1\n",
       "1  2020-01-21     1\n",
       "2  2020-01-22     1\n",
       "3  2020-01-23     1\n",
       "4  2020-01-24     2"
      ]
     },
     "execution_count": 51,
     "metadata": {},
     "output_type": "execute_result"
    }
   ],
   "source": [
    "covid_confirmation_df = covid_df[['date', 'confirmed']]\n",
    "covid_confirmation_df.columns = ['사용일자', '확진자수']\n",
    "# 확진자 수만 차출\n",
    "\n",
    "covid_confirmation_df.head()"
   ]
  },
  {
   "cell_type": "code",
   "execution_count": 54,
   "metadata": {},
   "outputs": [
    {
     "data": {
      "text/html": [
       "<div>\n",
       "<style scoped>\n",
       "    .dataframe tbody tr th:only-of-type {\n",
       "        vertical-align: middle;\n",
       "    }\n",
       "\n",
       "    .dataframe tbody tr th {\n",
       "        vertical-align: top;\n",
       "    }\n",
       "\n",
       "    .dataframe thead th {\n",
       "        text-align: right;\n",
       "    }\n",
       "</style>\n",
       "<table border=\"1\" class=\"dataframe\">\n",
       "  <thead>\n",
       "    <tr style=\"text-align: right;\">\n",
       "      <th></th>\n",
       "      <th>사용일자</th>\n",
       "      <th>대분류</th>\n",
       "      <th>중분류</th>\n",
       "      <th>중분류_카운트</th>\n",
       "      <th>중분류_대표값</th>\n",
       "      <th>증가추이</th>\n",
       "      <th>확진자수</th>\n",
       "    </tr>\n",
       "  </thead>\n",
       "  <tbody>\n",
       "    <tr>\n",
       "      <th>0</th>\n",
       "      <td>2020-01-04</td>\n",
       "      <td>관광</td>\n",
       "      <td>1급호텔</td>\n",
       "      <td>38</td>\n",
       "      <td>338.0</td>\n",
       "      <td>-88.757396</td>\n",
       "      <td>0.0</td>\n",
       "    </tr>\n",
       "    <tr>\n",
       "      <th>1</th>\n",
       "      <td>2020-01-06</td>\n",
       "      <td>관광</td>\n",
       "      <td>1급호텔</td>\n",
       "      <td>19</td>\n",
       "      <td>338.0</td>\n",
       "      <td>-94.378698</td>\n",
       "      <td>0.0</td>\n",
       "    </tr>\n",
       "    <tr>\n",
       "      <th>2</th>\n",
       "      <td>2020-01-07</td>\n",
       "      <td>관광</td>\n",
       "      <td>1급호텔</td>\n",
       "      <td>40</td>\n",
       "      <td>338.0</td>\n",
       "      <td>-88.165680</td>\n",
       "      <td>0.0</td>\n",
       "    </tr>\n",
       "    <tr>\n",
       "      <th>3</th>\n",
       "      <td>2020-01-10</td>\n",
       "      <td>관광</td>\n",
       "      <td>1급호텔</td>\n",
       "      <td>43</td>\n",
       "      <td>338.0</td>\n",
       "      <td>-87.278107</td>\n",
       "      <td>0.0</td>\n",
       "    </tr>\n",
       "    <tr>\n",
       "      <th>4</th>\n",
       "      <td>2020-01-11</td>\n",
       "      <td>관광</td>\n",
       "      <td>1급호텔</td>\n",
       "      <td>59</td>\n",
       "      <td>338.0</td>\n",
       "      <td>-82.544379</td>\n",
       "      <td>0.0</td>\n",
       "    </tr>\n",
       "  </tbody>\n",
       "</table>\n",
       "</div>"
      ],
      "text/plain": [
       "         사용일자 대분류   중분류  중분류_카운트  중분류_대표값       증가추이  확진자수\n",
       "0  2020-01-04  관광  1급호텔       38    338.0 -88.757396   0.0\n",
       "1  2020-01-06  관광  1급호텔       19    338.0 -94.378698   0.0\n",
       "2  2020-01-07  관광  1급호텔       40    338.0 -88.165680   0.0\n",
       "3  2020-01-10  관광  1급호텔       43    338.0 -87.278107   0.0\n",
       "4  2020-01-11  관광  1급호텔       59    338.0 -82.544379   0.0"
      ]
     },
     "execution_count": 54,
     "metadata": {},
     "output_type": "execute_result"
    }
   ],
   "source": [
    "result_df = combined_median_df.merge(covid_confirmation_df, on='사용일자', how='left')\n",
    "result_df['확진자수'] = result_df['확진자수'].fillna(0)\n",
    "result_df.head()"
   ]
  },
  {
   "cell_type": "code",
   "execution_count": null,
   "metadata": {},
   "outputs": [],
   "source": []
  }
 ],
 "metadata": {
  "kernelspec": {
   "display_name": "Python 3",
   "language": "python",
   "name": "python3"
  },
  "language_info": {
   "codemirror_mode": {
    "name": "ipython",
    "version": 3
   },
   "file_extension": ".py",
   "mimetype": "text/x-python",
   "name": "python",
   "nbconvert_exporter": "python",
   "pygments_lexer": "ipython3",
   "version": "3.7.7"
  }
 },
 "nbformat": 4,
 "nbformat_minor": 4
}
