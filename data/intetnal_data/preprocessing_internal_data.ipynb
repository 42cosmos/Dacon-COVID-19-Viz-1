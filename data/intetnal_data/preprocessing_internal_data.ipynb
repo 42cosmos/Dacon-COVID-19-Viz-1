{
 "cells": [
  {
   "cell_type": "code",
   "execution_count": 1,
   "metadata": {},
   "outputs": [],
   "source": [
    "import pandas as pd\n",
    "import numpy as np\n",
    "import os\n",
    "\n",
    "import itertools"
   ]
  },
  {
   "cell_type": "code",
   "execution_count": 2,
   "metadata": {},
   "outputs": [],
   "source": [
    "COVID_DIR = 'COVID_19'\n",
    "CARD_FILENAME = 'card_20200717.csv'\n",
    "CATEGORISING_FILENAME = '데이콘분류.xlsx'"
   ]
  },
  {
   "cell_type": "markdown",
   "metadata": {},
   "source": [
    "## 선분류작업"
   ]
  },
  {
   "cell_type": "code",
   "execution_count": 3,
   "metadata": {},
   "outputs": [
    {
     "data": {
      "text/html": [
       "<div>\n",
       "<style scoped>\n",
       "    .dataframe tbody tr th:only-of-type {\n",
       "        vertical-align: middle;\n",
       "    }\n",
       "\n",
       "    .dataframe tbody tr th {\n",
       "        vertical-align: top;\n",
       "    }\n",
       "\n",
       "    .dataframe thead th {\n",
       "        text-align: right;\n",
       "    }\n",
       "</style>\n",
       "<table border=\"1\" class=\"dataframe\">\n",
       "  <thead>\n",
       "    <tr style=\"text-align: right;\">\n",
       "      <th></th>\n",
       "      <th>index</th>\n",
       "      <th>0</th>\n",
       "      <th>1</th>\n",
       "      <th>2</th>\n",
       "      <th>3</th>\n",
       "      <th>4</th>\n",
       "      <th>5</th>\n",
       "      <th>6</th>\n",
       "      <th>7</th>\n",
       "      <th>8</th>\n",
       "      <th>9</th>\n",
       "      <th>10</th>\n",
       "      <th>11</th>\n",
       "      <th>12</th>\n",
       "      <th>13</th>\n",
       "    </tr>\n",
       "  </thead>\n",
       "  <tbody>\n",
       "    <tr>\n",
       "      <th>0</th>\n",
       "      <td>대중교통</td>\n",
       "      <td>버스</td>\n",
       "      <td>지하철</td>\n",
       "      <td>택시</td>\n",
       "      <td>NaN</td>\n",
       "      <td>NaN</td>\n",
       "      <td>NaN</td>\n",
       "      <td>NaN</td>\n",
       "      <td>NaN</td>\n",
       "      <td>NaN</td>\n",
       "      <td>NaN</td>\n",
       "      <td>NaN</td>\n",
       "      <td>NaN</td>\n",
       "      <td>NaN</td>\n",
       "      <td>NaN</td>\n",
       "    </tr>\n",
       "    <tr>\n",
       "      <th>1</th>\n",
       "      <td>교통</td>\n",
       "      <td>국산신차</td>\n",
       "      <td>렌트카</td>\n",
       "      <td>전기차충전소</td>\n",
       "      <td>주차장</td>\n",
       "      <td>주유소</td>\n",
       "      <td>자동차시트/타이어</td>\n",
       "      <td>카인테리어</td>\n",
       "      <td>중고자동차</td>\n",
       "      <td>이륜차판매</td>\n",
       "      <td>수입자동차</td>\n",
       "      <td>NaN</td>\n",
       "      <td>NaN</td>\n",
       "      <td>NaN</td>\n",
       "      <td>NaN</td>\n",
       "    </tr>\n",
       "    <tr>\n",
       "      <th>2</th>\n",
       "      <td>의류</td>\n",
       "      <td>캐쥬얼의류</td>\n",
       "      <td>정장</td>\n",
       "      <td>기타의류</td>\n",
       "      <td>신발</td>\n",
       "      <td>스포츠의류</td>\n",
       "      <td>내의판매점</td>\n",
       "      <td>맞춤복점</td>\n",
       "      <td>와이셔츠/타이</td>\n",
       "      <td>NaN</td>\n",
       "      <td>NaN</td>\n",
       "      <td>NaN</td>\n",
       "      <td>NaN</td>\n",
       "      <td>NaN</td>\n",
       "      <td>NaN</td>\n",
       "    </tr>\n",
       "    <tr>\n",
       "      <th>3</th>\n",
       "      <td>온라인</td>\n",
       "      <td>인터넷Mall</td>\n",
       "      <td>인터넷P/G</td>\n",
       "      <td>인터넷종합Mall</td>\n",
       "      <td>NaN</td>\n",
       "      <td>NaN</td>\n",
       "      <td>NaN</td>\n",
       "      <td>NaN</td>\n",
       "      <td>NaN</td>\n",
       "      <td>NaN</td>\n",
       "      <td>NaN</td>\n",
       "      <td>NaN</td>\n",
       "      <td>NaN</td>\n",
       "      <td>NaN</td>\n",
       "      <td>NaN</td>\n",
       "    </tr>\n",
       "    <tr>\n",
       "      <th>4</th>\n",
       "      <td>음식점</td>\n",
       "      <td>제과점</td>\n",
       "      <td>중국음식</td>\n",
       "      <td>서양읍식</td>\n",
       "      <td>스넥</td>\n",
       "      <td>일반한식</td>\n",
       "      <td>일식회집</td>\n",
       "      <td>한정식</td>\n",
       "      <td>기타건강식</td>\n",
       "      <td>NaN</td>\n",
       "      <td>NaN</td>\n",
       "      <td>NaN</td>\n",
       "      <td>NaN</td>\n",
       "      <td>NaN</td>\n",
       "      <td>NaN</td>\n",
       "    </tr>\n",
       "  </tbody>\n",
       "</table>\n",
       "</div>"
      ],
      "text/plain": [
       "  index        0       1          2    3      4          5      6        7  \\\n",
       "0  대중교통       버스     지하철         택시  NaN    NaN        NaN    NaN      NaN   \n",
       "1    교통     국산신차     렌트카     전기차충전소  주차장    주유소  자동차시트/타이어  카인테리어    중고자동차   \n",
       "2    의류    캐쥬얼의류      정장       기타의류   신발  스포츠의류      내의판매점   맞춤복점  와이셔츠/타이   \n",
       "3   온라인  인터넷Mall  인터넷P/G  인터넷종합Mall  NaN    NaN        NaN    NaN      NaN   \n",
       "4   음식점      제과점    중국음식       서양읍식   스넥   일반한식       일식회집    한정식    기타건강식   \n",
       "\n",
       "       8      9   10   11   12   13  \n",
       "0    NaN    NaN  NaN  NaN  NaN  NaN  \n",
       "1  이륜차판매  수입자동차  NaN  NaN  NaN  NaN  \n",
       "2    NaN    NaN  NaN  NaN  NaN  NaN  \n",
       "3    NaN    NaN  NaN  NaN  NaN  NaN  \n",
       "4    NaN    NaN  NaN  NaN  NaN  NaN  "
      ]
     },
     "execution_count": 3,
     "metadata": {},
     "output_type": "execute_result"
    }
   ],
   "source": [
    "standard_df = pd.read_excel(CATEGORISING_FILENAME).iloc[:14, :].T.reset_index()\n",
    "standard_df.head()"
   ]
  },
  {
   "cell_type": "code",
   "execution_count": 4,
   "metadata": {},
   "outputs": [
    {
     "data": {
      "text/plain": [
       "0     대중교통\n",
       "1       교통\n",
       "2       의류\n",
       "3      온라인\n",
       "4      음식점\n",
       "5     실내활동\n",
       "6       관광\n",
       "7       의료\n",
       "8     유흥주점\n",
       "9     실외활동\n",
       "10      교육\n",
       "11      농업\n",
       "Name: index, dtype: object"
      ]
     },
     "execution_count": 4,
     "metadata": {},
     "output_type": "execute_result"
    }
   ],
   "source": [
    "division_1st = standard_df.iloc[:, 0]\n",
    "division_1st"
   ]
  },
  {
   "cell_type": "code",
   "execution_count": 5,
   "metadata": {
    "scrolled": true
   },
   "outputs": [],
   "source": [
    "division_2nd = standard_df.iloc[:, 1:].values\n",
    "division_2nd = list(map(lambda x: [w for w in x if str(w) != 'nan'], division_2nd))\n",
    "div2list= list(itertools.chain(*division_2nd))"
   ]
  },
  {
   "cell_type": "code",
   "execution_count": 6,
   "metadata": {},
   "outputs": [],
   "source": [
    "div2dict = {lmn: key for key, lmns in zip(division_1st, division_2nd) for lmn in lmns}"
   ]
  },
  {
   "cell_type": "markdown",
   "metadata": {},
   "source": [
    "# 카드 소비 내역"
   ]
  },
  {
   "cell_type": "code",
   "execution_count": 7,
   "metadata": {},
   "outputs": [
    {
     "data": {
      "text/plain": [
       "(3713952, 7)"
      ]
     },
     "execution_count": 7,
     "metadata": {},
     "output_type": "execute_result"
    }
   ],
   "source": [
    "card_df = pd.read_csv(CARD_FILENAME)\n",
    "card_df['mrhst_induty_cl_nm'] = card_df['mrhst_induty_cl_nm'].str.replace(pat = ' ', repl = '')\n",
    "card_df.shape"
   ]
  },
  {
   "cell_type": "code",
   "execution_count": 8,
   "metadata": {},
   "outputs": [
    {
     "data": {
      "text/plain": [
       "(1348866, 7)"
      ]
     },
     "execution_count": 8,
     "metadata": {},
     "output_type": "execute_result"
    }
   ],
   "source": [
    "object_df = card_df[card_df['mrhst_induty_cl_nm'].isin(div2list)]\n",
    "object_df.shape"
   ]
  },
  {
   "cell_type": "code",
   "execution_count": 9,
   "metadata": {},
   "outputs": [
    {
     "name": "stderr",
     "output_type": "stream",
     "text": [
      "/home/eunbinpark/miniconda3/envs/da/lib/python3.7/site-packages/ipykernel_launcher.py:1: SettingWithCopyWarning: \n",
      "A value is trying to be set on a copy of a slice from a DataFrame.\n",
      "Try using .loc[row_indexer,col_indexer] = value instead\n",
      "\n",
      "See the caveats in the documentation: https://pandas.pydata.org/pandas-docs/stable/user_guide/indexing.html#returning-a-view-versus-a-copy\n",
      "  \"\"\"Entry point for launching an IPython kernel.\n"
     ]
    }
   ],
   "source": [
    "object_df['대분류'] = object_df['mrhst_induty_cl_nm'].replace(div2dict)"
   ]
  },
  {
   "cell_type": "code",
   "execution_count": 10,
   "metadata": {},
   "outputs": [],
   "source": [
    "object_df = object_df[['receipt_dttm', '대분류', 'mrhst_induty_cl_nm', 'selng_cascnt']]\n",
    "object_df.columns = ['datetime', '대분류', '중분류', 'sales count']"
   ]
  },
  {
   "cell_type": "code",
   "execution_count": 11,
   "metadata": {},
   "outputs": [],
   "source": [
    "object_df = object_df.reset_index(drop = True)"
   ]
  },
  {
   "cell_type": "code",
   "execution_count": 16,
   "metadata": {},
   "outputs": [],
   "source": [
    "def make_datetime(x):\n",
    "    x = str(x)\n",
    "    yr = x[:4]\n",
    "    month = x[4:6]\n",
    "    day = x[6:]\n",
    "    date = f'{yr}-{month}-{day}'\n",
    "    return date"
   ]
  },
  {
   "cell_type": "code",
   "execution_count": 17,
   "metadata": {},
   "outputs": [],
   "source": [
    "object_df['datetime'] = object_df['datetime'].map(make_datetime)"
   ]
  },
  {
   "cell_type": "markdown",
   "metadata": {},
   "source": [
    "## 코로나 확진자"
   ]
  },
  {
   "cell_type": "code",
   "execution_count": 18,
   "metadata": {},
   "outputs": [
    {
     "data": {
      "text/plain": [
       "(163, 7)"
      ]
     },
     "execution_count": 18,
     "metadata": {},
     "output_type": "execute_result"
    }
   ],
   "source": [
    "covid_df = pd.read_csv(os.path.join(COVID_DIR, 'Time.csv'))\n",
    "covid_df.shape"
   ]
  },
  {
   "cell_type": "code",
   "execution_count": 19,
   "metadata": {},
   "outputs": [],
   "source": [
    "covid_df = covid_df[['date', 'confirmed']]"
   ]
  },
  {
   "cell_type": "code",
   "execution_count": 20,
   "metadata": {},
   "outputs": [],
   "source": [
    "covid_df.columns = ['datetime', 'covid_confirmed']"
   ]
  },
  {
   "cell_type": "markdown",
   "metadata": {},
   "source": [
    "# Final Result"
   ]
  },
  {
   "cell_type": "code",
   "execution_count": 24,
   "metadata": {},
   "outputs": [
    {
     "data": {
      "text/html": [
       "<div>\n",
       "<style scoped>\n",
       "    .dataframe tbody tr th:only-of-type {\n",
       "        vertical-align: middle;\n",
       "    }\n",
       "\n",
       "    .dataframe tbody tr th {\n",
       "        vertical-align: top;\n",
       "    }\n",
       "\n",
       "    .dataframe thead th {\n",
       "        text-align: right;\n",
       "    }\n",
       "</style>\n",
       "<table border=\"1\" class=\"dataframe\">\n",
       "  <thead>\n",
       "    <tr style=\"text-align: right;\">\n",
       "      <th></th>\n",
       "      <th>datetime</th>\n",
       "      <th>대분류</th>\n",
       "      <th>중분류</th>\n",
       "      <th>sales count</th>\n",
       "      <th>covid_confirmed</th>\n",
       "    </tr>\n",
       "  </thead>\n",
       "  <tbody>\n",
       "    <tr>\n",
       "      <th>0</th>\n",
       "      <td>2020-01-20</td>\n",
       "      <td>음식점</td>\n",
       "      <td>제과점</td>\n",
       "      <td>50</td>\n",
       "      <td>1</td>\n",
       "    </tr>\n",
       "    <tr>\n",
       "      <th>1</th>\n",
       "      <td>2020-01-20</td>\n",
       "      <td>음식점</td>\n",
       "      <td>스넥</td>\n",
       "      <td>369</td>\n",
       "      <td>1</td>\n",
       "    </tr>\n",
       "    <tr>\n",
       "      <th>2</th>\n",
       "      <td>2020-01-20</td>\n",
       "      <td>음식점</td>\n",
       "      <td>중국음식</td>\n",
       "      <td>97</td>\n",
       "      <td>1</td>\n",
       "    </tr>\n",
       "    <tr>\n",
       "      <th>3</th>\n",
       "      <td>2020-01-20</td>\n",
       "      <td>음식점</td>\n",
       "      <td>일식회집</td>\n",
       "      <td>19</td>\n",
       "      <td>1</td>\n",
       "    </tr>\n",
       "    <tr>\n",
       "      <th>4</th>\n",
       "      <td>2020-01-20</td>\n",
       "      <td>음식점</td>\n",
       "      <td>일반한식</td>\n",
       "      <td>814</td>\n",
       "      <td>1</td>\n",
       "    </tr>\n",
       "    <tr>\n",
       "      <th>...</th>\n",
       "      <td>...</td>\n",
       "      <td>...</td>\n",
       "      <td>...</td>\n",
       "      <td>...</td>\n",
       "      <td>...</td>\n",
       "    </tr>\n",
       "    <tr>\n",
       "      <th>1290987</th>\n",
       "      <td>2020-06-14</td>\n",
       "      <td>의료</td>\n",
       "      <td>치과의원</td>\n",
       "      <td>8</td>\n",
       "      <td>12085</td>\n",
       "    </tr>\n",
       "    <tr>\n",
       "      <th>1290988</th>\n",
       "      <td>2020-06-14</td>\n",
       "      <td>음식점</td>\n",
       "      <td>제과점</td>\n",
       "      <td>179</td>\n",
       "      <td>12085</td>\n",
       "    </tr>\n",
       "    <tr>\n",
       "      <th>1290989</th>\n",
       "      <td>2020-06-14</td>\n",
       "      <td>의류</td>\n",
       "      <td>기타의류</td>\n",
       "      <td>23</td>\n",
       "      <td>12085</td>\n",
       "    </tr>\n",
       "    <tr>\n",
       "      <th>1290990</th>\n",
       "      <td>2020-06-14</td>\n",
       "      <td>음식점</td>\n",
       "      <td>제과점</td>\n",
       "      <td>145</td>\n",
       "      <td>12085</td>\n",
       "    </tr>\n",
       "    <tr>\n",
       "      <th>1290991</th>\n",
       "      <td>2020-06-14</td>\n",
       "      <td>교통</td>\n",
       "      <td>주차장</td>\n",
       "      <td>2</td>\n",
       "      <td>12085</td>\n",
       "    </tr>\n",
       "  </tbody>\n",
       "</table>\n",
       "<p>1290992 rows × 5 columns</p>\n",
       "</div>"
      ],
      "text/plain": [
       "           datetime  대분류   중분류  sales count  covid_confirmed\n",
       "0        2020-01-20  음식점   제과점           50                1\n",
       "1        2020-01-20  음식점    스넥          369                1\n",
       "2        2020-01-20  음식점  중국음식           97                1\n",
       "3        2020-01-20  음식점  일식회집           19                1\n",
       "4        2020-01-20  음식점  일반한식          814                1\n",
       "...             ...  ...   ...          ...              ...\n",
       "1290987  2020-06-14   의료  치과의원            8            12085\n",
       "1290988  2020-06-14  음식점   제과점          179            12085\n",
       "1290989  2020-06-14   의류  기타의류           23            12085\n",
       "1290990  2020-06-14  음식점   제과점          145            12085\n",
       "1290991  2020-06-14   교통   주차장            2            12085\n",
       "\n",
       "[1290992 rows x 5 columns]"
      ]
     },
     "execution_count": 24,
     "metadata": {},
     "output_type": "execute_result"
    }
   ],
   "source": [
    "result_df = pd.merge(object_df, covid_df, on = 'datetime').sort_values('datetime').reset_index(drop = True)\n",
    "result_df"
   ]
  },
  {
   "cell_type": "code",
   "execution_count": 25,
   "metadata": {},
   "outputs": [],
   "source": [
    "result_df.to_csv('internal_df.csv', index = False)"
   ]
  }
 ],
 "metadata": {
  "kernelspec": {
   "display_name": "Python 3",
   "language": "python",
   "name": "python3"
  },
  "language_info": {
   "codemirror_mode": {
    "name": "ipython",
    "version": 3
   },
   "file_extension": ".py",
   "mimetype": "text/x-python",
   "name": "python",
   "nbconvert_exporter": "python",
   "pygments_lexer": "ipython3",
   "version": "3.7.7"
  }
 },
 "nbformat": 4,
 "nbformat_minor": 4
}
