{
 "cells": [
  {
   "cell_type": "code",
   "execution_count": 1,
   "metadata": {},
   "outputs": [],
   "source": [
    "import pandas as pd\n",
    "import os"
   ]
  },
  {
   "cell_type": "code",
   "execution_count": 2,
   "metadata": {},
   "outputs": [],
   "source": [
    "def find_csv_filenames( path_to_dir, suffix=\".csv\" ):\n",
    "    filenames = os.listdir(path_to_dir)\n",
    "    return [ filename for filename in filenames if filename.endswith( suffix ) ]"
   ]
  },
  {
   "cell_type": "code",
   "execution_count": 3,
   "metadata": {},
   "outputs": [],
   "source": [
    "data_list = list()\n",
    "filenames = find_csv_filenames(os.path.join('data'))\n",
    "\n",
    "for csv_file in filenames:\n",
    "    data_list.append(os.path.join('data', csv_file))\n",
    "    \n",
    "data_list.sort()"
   ]
  },
  {
   "cell_type": "code",
   "execution_count": 4,
   "metadata": {},
   "outputs": [],
   "source": [
    "#1월~4월 -> ['사용일자', '노선번호', '노선명', '버스정류장ARS번호', '역명', '승차총승객수', '하차총승객수', '등록일자']\n",
    "#5월~6월 -> ['use_dt', 'bus_route_id', 'bus_route_no', 'bus_route_nm', 'bsst_ars_no', 'bus_sta_nm', 'ride_pasgr_num', 'alight_pasgr_num', 'work_dt']"
   ]
  },
  {
   "cell_type": "code",
   "execution_count": 5,
   "metadata": {},
   "outputs": [],
   "source": [
    "bus_df = pd.DataFrame(columns=['사용일자','승차총승객수'])\n",
    "bus_df_kor = pd.DataFrame(columns=['사용일자', '노선번호', '노선명', '버스정류장ARS번호', '역명', '승차총승객수', '하차총승객수', '등록일자'])\n",
    "bus_df_eng = pd.DataFrame(columns=['use_dt', 'bus_route_id', 'bus_route_no', 'bus_route_nm', 'bsst_ars_no', 'bus_sta_nm', 'ride_pasgr_num', 'alight_pasgr_num', 'work_dt'])"
   ]
  },
  {
   "cell_type": "code",
   "execution_count": 6,
   "metadata": {},
   "outputs": [],
   "source": [
    "for file in data_list[:4]:\n",
    "    df = pd.read_csv(file, encoding = 'cp949', index_col = False)\n",
    "    bus_df_kor = bus_df_kor.append(df, ignore_index=True)\n",
    "    \n",
    "for file in data_list[4:]:\n",
    "    df = pd.read_csv(file, encoding = 'cp949', index_col = False)\n",
    "    bus_df_eng = bus_df_eng.append(df, ignore_index=True)"
   ]
  },
  {
   "cell_type": "code",
   "execution_count": 7,
   "metadata": {},
   "outputs": [],
   "source": [
    "bus_df_kor = bus_df_kor[['사용일자','승차총승객수']]"
   ]
  },
  {
   "cell_type": "code",
   "execution_count": 8,
   "metadata": {},
   "outputs": [],
   "source": [
    "bus_df_eng = bus_df_eng.rename(columns={'use_dt':'사용일자','ride_pasgr_num':'승차총승객수'})[['사용일자','승차총승객수']]"
   ]
  },
  {
   "cell_type": "code",
   "execution_count": 9,
   "metadata": {},
   "outputs": [],
   "source": [
    "bus_df = pd.DataFrame(columns=['사용일자','승차총승객수'])\n",
    "\n",
    "bus_df = bus_df.append(bus_df_kor)\n",
    "bus_df = bus_df.append(bus_df_eng)\n",
    "\n",
    "bus_df = bus_df.groupby(['사용일자']).sum().reset_index()"
   ]
  },
  {
   "cell_type": "code",
   "execution_count": 10,
   "metadata": {},
   "outputs": [],
   "source": [
    "bus_df['중분류']=\"버스\""
   ]
  },
  {
   "cell_type": "code",
   "execution_count": 11,
   "metadata": {},
   "outputs": [],
   "source": [
    "bus_df = bus_df.rename(columns={'승차총승객수':'중분류_카운트'})"
   ]
  },
  {
   "cell_type": "code",
   "execution_count": 12,
   "metadata": {},
   "outputs": [],
   "source": [
    "bus_df['사용일자'] = bus_df['사용일자'].map(lambda x : str(x)[:4]+\"-\"+str(x)[4:6]+\"-\"+str(x)[6:])"
   ]
  },
  {
   "cell_type": "code",
   "execution_count": 13,
   "metadata": {},
   "outputs": [
    {
     "data": {
      "text/html": [
       "<div>\n",
       "<style scoped>\n",
       "    .dataframe tbody tr th:only-of-type {\n",
       "        vertical-align: middle;\n",
       "    }\n",
       "\n",
       "    .dataframe tbody tr th {\n",
       "        vertical-align: top;\n",
       "    }\n",
       "\n",
       "    .dataframe thead th {\n",
       "        text-align: right;\n",
       "    }\n",
       "</style>\n",
       "<table border=\"1\" class=\"dataframe\">\n",
       "  <thead>\n",
       "    <tr style=\"text-align: right;\">\n",
       "      <th></th>\n",
       "      <th>사용일자</th>\n",
       "      <th>중분류_카운트</th>\n",
       "      <th>중분류</th>\n",
       "    </tr>\n",
       "  </thead>\n",
       "  <tbody>\n",
       "    <tr>\n",
       "      <th>0</th>\n",
       "      <td>2020-01-01</td>\n",
       "      <td>2509091</td>\n",
       "      <td>버스</td>\n",
       "    </tr>\n",
       "    <tr>\n",
       "      <th>1</th>\n",
       "      <td>2020-01-02</td>\n",
       "      <td>5286628</td>\n",
       "      <td>버스</td>\n",
       "    </tr>\n",
       "    <tr>\n",
       "      <th>2</th>\n",
       "      <td>2020-01-03</td>\n",
       "      <td>5580078</td>\n",
       "      <td>버스</td>\n",
       "    </tr>\n",
       "    <tr>\n",
       "      <th>3</th>\n",
       "      <td>2020-01-04</td>\n",
       "      <td>4036695</td>\n",
       "      <td>버스</td>\n",
       "    </tr>\n",
       "    <tr>\n",
       "      <th>4</th>\n",
       "      <td>2020-01-05</td>\n",
       "      <td>3138649</td>\n",
       "      <td>버스</td>\n",
       "    </tr>\n",
       "  </tbody>\n",
       "</table>\n",
       "</div>"
      ],
      "text/plain": [
       "         사용일자  중분류_카운트 중분류\n",
       "0  2020-01-01  2509091  버스\n",
       "1  2020-01-02  5286628  버스\n",
       "2  2020-01-03  5580078  버스\n",
       "3  2020-01-04  4036695  버스\n",
       "4  2020-01-05  3138649  버스"
      ]
     },
     "execution_count": 13,
     "metadata": {},
     "output_type": "execute_result"
    }
   ],
   "source": [
    "bus_df.head()"
   ]
  },
  {
   "cell_type": "code",
   "execution_count": 14,
   "metadata": {},
   "outputs": [],
   "source": [
    "bus_df.to_csv('bus_df.csv', index=False)"
   ]
  }
 ],
 "metadata": {
  "kernelspec": {
   "display_name": "Python 3",
   "language": "python",
   "name": "python3"
  },
  "language_info": {
   "codemirror_mode": {
    "name": "ipython",
    "version": 3
   },
   "file_extension": ".py",
   "mimetype": "text/x-python",
   "name": "python",
   "nbconvert_exporter": "python",
   "pygments_lexer": "ipython3",
   "version": "3.7.6"
  }
 },
 "nbformat": 4,
 "nbformat_minor": 2
}
