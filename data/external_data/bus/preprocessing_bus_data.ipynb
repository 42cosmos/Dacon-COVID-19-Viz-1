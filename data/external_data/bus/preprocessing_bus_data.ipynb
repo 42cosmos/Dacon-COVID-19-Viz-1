{
 "cells": [
  {
   "cell_type": "code",
   "execution_count": 1,
   "metadata": {},
   "outputs": [],
   "source": [
    "import pandas as pd\n",
    "import os"
   ]
  },
  {
   "cell_type": "code",
   "execution_count": 2,
   "metadata": {},
   "outputs": [],
   "source": [
    "def find_csv_filenames( path_to_dir, suffix=\".csv\" ):\n",
    "    filenames = os.listdir(path_to_dir)\n",
    "    return [ filename for filename in filenames if filename.endswith( suffix ) ]"
   ]
  },
  {
   "cell_type": "code",
   "execution_count": 3,
   "metadata": {},
   "outputs": [],
   "source": [
    "data_list = list()\n",
    "filenames = find_csv_filenames(os.path.join('data'))\n",
    "\n",
    "for csv_file in filenames:\n",
    "    data_list.append(os.path.join('data', csv_file))\n",
    "    \n",
    "data_list.sort()"
   ]
  },
  {
   "cell_type": "code",
   "execution_count": 4,
   "metadata": {},
   "outputs": [],
   "source": [
    "bus_list = list()\n",
    "\n",
    "for data_name in data_list:\n",
    "    bus_list.append(pd.read_csv(data_name, encoding='cp949'))"
   ]
  },
  {
   "cell_type": "code",
   "execution_count": 5,
   "metadata": {
    "scrolled": false
   },
   "outputs": [
    {
     "name": "stdout",
     "output_type": "stream",
     "text": [
      "--------------------------------------\n",
      "Are bus_list[0] columns equals bus_list[1] columns ?\n",
      "===> True\n",
      "--------------------------------------\n",
      "Are bus_list[1] columns equals bus_list[2] columns ?\n",
      "===> True\n",
      "--------------------------------------\n",
      "Are bus_list[2] columns equals bus_list[3] columns ?\n",
      "===> True\n",
      "--------------------------------------\n",
      "Are bus_list[3] columns equals bus_list[4] columns ?\n",
      "===> False\n",
      "역명 역ID\n",
      "00시승차총승객수 역명\n",
      "00시하차총승객수 00시승차총승객수\n",
      "1시승차총승객수 00시하차총승객수\n",
      "1시하차총승객수 1시승차총승객수\n",
      "2시승차총승객수 1시하차총승객수\n",
      "2시하차총승객수 2시승차총승객수\n",
      "3시승차총승객수 2시하차총승객수\n",
      "3시하차총승객수 3시승차총승객수\n",
      "4시승차총승객수 3시하차총승객수\n",
      "4시하차총승객수 4시승차총승객수\n",
      "5시승차총승객수 4시하차총승객수\n",
      "5시하차총승객수 5시승차총승객수\n",
      "6시승차총승객수 5시하차총승객수\n",
      "6시하차총승객수 6시승차총승객수\n",
      "7시승차총승객수 6시하차총승객수\n",
      "7시하차총승객수 7시승차총승객수\n",
      "8시승차총승객수 7시하차총승객수\n",
      "8시하차총승객수 8시승차총승객수\n",
      "9시승차총승객수 8시하차총승객수\n",
      "9시하차총승객수 9시승차총승객수\n",
      "10시승차총승객수 9시하차총승객수\n",
      "10시하차총승객수 10시승차총승객수\n",
      "11시승차총승객수 10시하차총승객수\n",
      "11시하차총승객수 11시승차총승객수\n",
      "12시승차총승객수 11시하차총승객수\n",
      "12시하차총승객수 12시승차총승객수\n",
      "13시승차총승객수 12시하차총승객수\n",
      "13시하차총승객수 13시승차총승객수\n",
      "14시승차총승객수 13시하차총승객수\n",
      "14시하차총승객수 14시승차총승객수\n",
      "15시승차총승객수 14시하차총승객수\n",
      "15시하차총승객수 15시승차총승객수\n",
      "16시승차총승객수 15시하차총승객수\n",
      "16시하차총승객수 16시승차총승객수\n",
      "17시승차총승객수 16시하차총승객수\n",
      "17시하차총승객수 17시승차총승객수\n",
      "18시승차총승객수 17시하차총승객수\n",
      "18시하차총승객수 18시승차총승객수\n",
      "19시승차총승객수 18시하차총승객수\n",
      "19시하차총승객수 19시승차총승객수\n",
      "20시승차총승객수 19시하차총승객수\n",
      "20시하차총승객수 20시승차총승객수\n",
      "21시승차총승객수 20시하차총승객수\n",
      "21시하차총승객수 21시승차총승객수\n",
      "22시승차총승객수 21시하차총승객수\n",
      "22시하차총승객수 22시승차총승객수\n",
      "23시승차총승객수 22시하차총승객수\n",
      "23시하차총승객수 23시승차총승객수\n",
      "등록일자 23시하차총승객수\n",
      "--------------------------------------\n",
      "Are bus_list[4] columns equals bus_list[5] columns ?\n",
      "===> True\n"
     ]
    }
   ],
   "source": [
    "for num in range(1, len(bus_list)):\n",
    "    standard_df = bus_list[num - 1]\n",
    "    compared_df = bus_list[num]\n",
    "    print('--------------------------------------')    \n",
    "    print(f'Are bus_list[{num - 1}] columns equals bus_list[{num}] columns ?')\n",
    "    print(f'===> {standard_df.columns.equals(compared_df.columns)}')\n",
    "    for col_name1, col_name2 in zip(standard_df.columns, compared_df.columns):\n",
    "        if col_name1 != col_name2: print(col_name1, col_name2)\n",
    "            \n",
    "        else: pass"
   ]
  },
  {
   "cell_type": "code",
   "execution_count": 6,
   "metadata": {},
   "outputs": [
    {
     "data": {
      "text/html": [
       "<div>\n",
       "<style scoped>\n",
       "    .dataframe tbody tr th:only-of-type {\n",
       "        vertical-align: middle;\n",
       "    }\n",
       "\n",
       "    .dataframe tbody tr th {\n",
       "        vertical-align: top;\n",
       "    }\n",
       "\n",
       "    .dataframe thead th {\n",
       "        text-align: right;\n",
       "    }\n",
       "</style>\n",
       "<table border=\"1\" class=\"dataframe\">\n",
       "  <thead>\n",
       "    <tr style=\"text-align: right;\">\n",
       "      <th></th>\n",
       "      <th>사용년월</th>\n",
       "      <th>노선ID</th>\n",
       "      <th>노선번호</th>\n",
       "      <th>노선명</th>\n",
       "      <th>표준버스정류장ID</th>\n",
       "      <th>버스정류장ARS번호</th>\n",
       "      <th>역ID</th>\n",
       "      <th>역명</th>\n",
       "      <th>00시승차총승객수</th>\n",
       "      <th>00시하차총승객수</th>\n",
       "    </tr>\n",
       "  </thead>\n",
       "  <tbody>\n",
       "    <tr>\n",
       "      <th>0</th>\n",
       "      <td>202005</td>\n",
       "      <td>11110001</td>\n",
       "      <td>100</td>\n",
       "      <td>100번(하계동~용산구청)</td>\n",
       "      <td>01003</td>\n",
       "      <td>명륜3가.성대입구</td>\n",
       "      <td>0</td>\n",
       "      <td>0</td>\n",
       "      <td>0</td>\n",
       "      <td>0</td>\n",
       "    </tr>\n",
       "    <tr>\n",
       "      <th>1</th>\n",
       "      <td>202005</td>\n",
       "      <td>11110001</td>\n",
       "      <td>100</td>\n",
       "      <td>100번(하계동~용산구청)</td>\n",
       "      <td>02156</td>\n",
       "      <td>을지로입구.로얄호텔</td>\n",
       "      <td>180</td>\n",
       "      <td>21</td>\n",
       "      <td>0</td>\n",
       "      <td>0</td>\n",
       "    </tr>\n",
       "  </tbody>\n",
       "</table>\n",
       "</div>"
      ],
      "text/plain": [
       "     사용년월      노선ID 노선번호             노선명 표준버스정류장ID  버스정류장ARS번호  역ID  역명  \\\n",
       "0  202005  11110001  100  100번(하계동~용산구청)     01003   명륜3가.성대입구    0   0   \n",
       "1  202005  11110001  100  100번(하계동~용산구청)     02156  을지로입구.로얄호텔  180  21   \n",
       "\n",
       "   00시승차총승객수  00시하차총승객수  \n",
       "0          0          0  \n",
       "1          0          0  "
      ]
     },
     "execution_count": 6,
     "metadata": {},
     "output_type": "execute_result"
    }
   ],
   "source": [
    "bus_list[4].iloc[:2, :10]"
   ]
  },
  {
   "cell_type": "code",
   "execution_count": 7,
   "metadata": {},
   "outputs": [
    {
     "data": {
      "text/html": [
       "<div>\n",
       "<style scoped>\n",
       "    .dataframe tbody tr th:only-of-type {\n",
       "        vertical-align: middle;\n",
       "    }\n",
       "\n",
       "    .dataframe tbody tr th {\n",
       "        vertical-align: top;\n",
       "    }\n",
       "\n",
       "    .dataframe thead th {\n",
       "        text-align: right;\n",
       "    }\n",
       "</style>\n",
       "<table border=\"1\" class=\"dataframe\">\n",
       "  <thead>\n",
       "    <tr style=\"text-align: right;\">\n",
       "      <th></th>\n",
       "      <th>22시승차총승객수</th>\n",
       "      <th>22시하차총승객수</th>\n",
       "      <th>23시승차총승객수</th>\n",
       "      <th>23시하차총승객수</th>\n",
       "      <th>등록일자</th>\n",
       "    </tr>\n",
       "  </thead>\n",
       "  <tbody>\n",
       "    <tr>\n",
       "      <th>0</th>\n",
       "      <td>58</td>\n",
       "      <td>15</td>\n",
       "      <td>20200603</td>\n",
       "      <td>NaN</td>\n",
       "      <td>NaN</td>\n",
       "    </tr>\n",
       "    <tr>\n",
       "      <th>1</th>\n",
       "      <td>130</td>\n",
       "      <td>31</td>\n",
       "      <td>20200603</td>\n",
       "      <td>NaN</td>\n",
       "      <td>NaN</td>\n",
       "    </tr>\n",
       "  </tbody>\n",
       "</table>\n",
       "</div>"
      ],
      "text/plain": [
       "   22시승차총승객수  22시하차총승객수  23시승차총승객수  23시하차총승객수  등록일자\n",
       "0         58         15   20200603        NaN   NaN\n",
       "1        130         31   20200603        NaN   NaN"
      ]
     },
     "execution_count": 7,
     "metadata": {},
     "output_type": "execute_result"
    }
   ],
   "source": [
    "bus_list[4].iloc[:2, -5:]"
   ]
  },
  {
   "cell_type": "markdown",
   "metadata": {},
   "source": [
    "### 문제 원인"
   ]
  },
  {
   "cell_type": "code",
   "execution_count": 8,
   "metadata": {
    "scrolled": true
   },
   "outputs": [
    {
     "data": {
      "text/html": [
       "<div>\n",
       "<style scoped>\n",
       "    .dataframe tbody tr th:only-of-type {\n",
       "        vertical-align: middle;\n",
       "    }\n",
       "\n",
       "    .dataframe tbody tr th {\n",
       "        vertical-align: top;\n",
       "    }\n",
       "\n",
       "    .dataframe thead th {\n",
       "        text-align: right;\n",
       "    }\n",
       "</style>\n",
       "<table border=\"1\" class=\"dataframe\">\n",
       "  <thead>\n",
       "    <tr style=\"text-align: right;\">\n",
       "      <th></th>\n",
       "      <th>사용년월</th>\n",
       "      <th>노선ID</th>\n",
       "      <th>노선번호</th>\n",
       "      <th>노선명</th>\n",
       "      <th>표준버스정류장ID</th>\n",
       "      <th>버스정류장ARS번호</th>\n",
       "      <th>역명</th>\n",
       "      <th>00시승차총승객수</th>\n",
       "    </tr>\n",
       "  </thead>\n",
       "  <tbody>\n",
       "    <tr>\n",
       "      <th>0</th>\n",
       "      <td>202004</td>\n",
       "      <td>11110001</td>\n",
       "      <td>100</td>\n",
       "      <td>100번(하계동~용산구청)</td>\n",
       "      <td>100000003</td>\n",
       "      <td>1003</td>\n",
       "      <td>명륜3가.성대입구</td>\n",
       "      <td>0</td>\n",
       "    </tr>\n",
       "    <tr>\n",
       "      <th>224</th>\n",
       "      <td>202004</td>\n",
       "      <td>11110003</td>\n",
       "      <td>102</td>\n",
       "      <td>102번(상계동~동대문)</td>\n",
       "      <td>100000003</td>\n",
       "      <td>1003</td>\n",
       "      <td>명륜3가.성대입구</td>\n",
       "      <td>1</td>\n",
       "    </tr>\n",
       "  </tbody>\n",
       "</table>\n",
       "</div>"
      ],
      "text/plain": [
       "       사용년월      노선ID 노선번호             노선명  표준버스정류장ID 버스정류장ARS번호         역명  \\\n",
       "0    202004  11110001  100  100번(하계동~용산구청)  100000003       1003  명륜3가.성대입구   \n",
       "224  202004  11110003  102   102번(상계동~동대문)  100000003       1003  명륜3가.성대입구   \n",
       "\n",
       "     00시승차총승객수  \n",
       "0            0  \n",
       "224          1  "
      ]
     },
     "execution_count": 8,
     "metadata": {},
     "output_type": "execute_result"
    }
   ],
   "source": [
    "bus_list[3][bus_list[3]['역명'] == '명륜3가.성대입구'].iloc[:2, :8]"
   ]
  },
  {
   "cell_type": "code",
   "execution_count": 9,
   "metadata": {},
   "outputs": [
    {
     "data": {
      "text/html": [
       "<div>\n",
       "<style scoped>\n",
       "    .dataframe tbody tr th:only-of-type {\n",
       "        vertical-align: middle;\n",
       "    }\n",
       "\n",
       "    .dataframe tbody tr th {\n",
       "        vertical-align: top;\n",
       "    }\n",
       "\n",
       "    .dataframe thead th {\n",
       "        text-align: right;\n",
       "    }\n",
       "</style>\n",
       "<table border=\"1\" class=\"dataframe\">\n",
       "  <thead>\n",
       "    <tr style=\"text-align: right;\">\n",
       "      <th></th>\n",
       "      <th>사용년월</th>\n",
       "      <th>노선ID</th>\n",
       "      <th>노선번호</th>\n",
       "      <th>노선명</th>\n",
       "      <th>표준버스정류장ID</th>\n",
       "      <th>버스정류장ARS번호</th>\n",
       "      <th>역ID</th>\n",
       "      <th>역명</th>\n",
       "    </tr>\n",
       "  </thead>\n",
       "  <tbody>\n",
       "    <tr>\n",
       "      <th>0</th>\n",
       "      <td>202005</td>\n",
       "      <td>11110001</td>\n",
       "      <td>100</td>\n",
       "      <td>100번(하계동~용산구청)</td>\n",
       "      <td>01003</td>\n",
       "      <td>명륜3가.성대입구</td>\n",
       "      <td>0</td>\n",
       "      <td>0</td>\n",
       "    </tr>\n",
       "    <tr>\n",
       "      <th>224</th>\n",
       "      <td>202005</td>\n",
       "      <td>11110003</td>\n",
       "      <td>102</td>\n",
       "      <td>102번(상계동~동대문)</td>\n",
       "      <td>01003</td>\n",
       "      <td>명륜3가.성대입구</td>\n",
       "      <td>2</td>\n",
       "      <td>3</td>\n",
       "    </tr>\n",
       "  </tbody>\n",
       "</table>\n",
       "</div>"
      ],
      "text/plain": [
       "       사용년월      노선ID 노선번호             노선명 표준버스정류장ID 버스정류장ARS번호  역ID  역명\n",
       "0    202005  11110001  100  100번(하계동~용산구청)     01003  명륜3가.성대입구    0   0\n",
       "224  202005  11110003  102   102번(상계동~동대문)     01003  명륜3가.성대입구    2   3"
      ]
     },
     "execution_count": 9,
     "metadata": {},
     "output_type": "execute_result"
    }
   ],
   "source": [
    "bus_list[4][bus_list[4]['버스정류장ARS번호'] == '명륜3가.성대입구'].iloc[:2, :8]"
   ]
  },
  {
   "cell_type": "markdown",
   "metadata": {},
   "source": [
    "### 해결"
   ]
  },
  {
   "cell_type": "code",
   "execution_count": 10,
   "metadata": {},
   "outputs": [],
   "source": [
    "columns_for_Apr_May = ['사용년월', '노선ID', '노선번호', '노선명', '표준버스정류장ID', '버스정류장ARS번호',\n",
    "       '00시승차총승객수', '00시하차총승객수', '1시승차총승객수', '1시하차총승객수', '2시승차총승객수',\n",
    "       '2시하차총승객수', '3시승차총승객수', '3시하차총승객수', '4시승차총승객수', '4시하차총승객수', '5시승차총승객수',\n",
    "       '5시하차총승객수', '6시승차총승객수', '6시하차총승객수', '7시승차총승객수', '7시하차총승객수', '8시승차총승객수',\n",
    "       '8시하차총승객수', '9시승차총승객수', '9시하차총승객수', '10시승차총승객수', '10시하차총승객수',\n",
    "       '11시승차총승객수', '11시하차총승객수', '12시승차총승객수', '12시하차총승객수', '13시승차총승객수',\n",
    "       '13시하차총승객수', '14시승차총승객수', '14시하차총승객수', '15시승차총승객수', '15시하차총승객수',\n",
    "       '16시승차총승객수', '16시하차총승객수', '17시승차총승객수', '17시하차총승객수', '18시승차총승객수',\n",
    "       '18시하차총승객수', '19시승차총승객수', '19시하차총승객수', '20시승차총승객수', '20시하차총승객수',\n",
    "       '21시승차총승객수', '21시하차총승객수', '22시승차총승객수', '22시하차총승객수', '23시승차총승객수',\n",
    "       '23시하차총승객수']"
   ]
  },
  {
   "cell_type": "code",
   "execution_count": 11,
   "metadata": {},
   "outputs": [],
   "source": [
    "bus_list[4] = bus_list[4].iloc[:, :-3]\n",
    "bus_list[4].columns = columns_for_Apr_May \n",
    "\n",
    "bus_list[5] = bus_list[5].iloc[:, :-3]\n",
    "bus_list[5].columns = columns_for_Apr_May "
   ]
  },
  {
   "cell_type": "code",
   "execution_count": 12,
   "metadata": {},
   "outputs": [],
   "source": [
    "def drop_columns(x):\n",
    "    x = x.drop(['역명', '등록일자'], axis = 1)\n",
    "    return x"
   ]
  },
  {
   "cell_type": "code",
   "execution_count": 13,
   "metadata": {},
   "outputs": [],
   "source": [
    "bus_list_Jan2Apr = list(map(drop_columns, bus_list[:4]))"
   ]
  },
  {
   "cell_type": "code",
   "execution_count": 14,
   "metadata": {},
   "outputs": [],
   "source": [
    "bus_list_May2Jun = bus_list[4:]"
   ]
  },
  {
   "cell_type": "code",
   "execution_count": 15,
   "metadata": {},
   "outputs": [
    {
     "data": {
      "text/plain": [
       "array([202001, 202002, 202003, 202004, 202005, 202006])"
      ]
     },
     "execution_count": 15,
     "metadata": {},
     "output_type": "execute_result"
    }
   ],
   "source": [
    "pd.concat(bus_list_Jan2Apr + bus_list_May2Jun, axis = 0)['사용년월'].unique()"
   ]
  },
  {
   "cell_type": "markdown",
   "metadata": {},
   "source": [
    "---"
   ]
  },
  {
   "cell_type": "code",
   "execution_count": 16,
   "metadata": {},
   "outputs": [
    {
     "data": {
      "text/plain": [
       "(211286, 54)"
      ]
     },
     "execution_count": 16,
     "metadata": {},
     "output_type": "execute_result"
    }
   ],
   "source": [
    "bus_df = pd.concat(bus_list_Jan2Apr + bus_list_May2Jun, axis = 0)\n",
    "bus_df.shape"
   ]
  },
  {
   "cell_type": "code",
   "execution_count": 17,
   "metadata": {},
   "outputs": [
    {
     "data": {
      "text/plain": [
       "Index(['00시승차총승객수', '1시승차총승객수', '2시승차총승객수', '3시승차총승객수', '4시승차총승객수', '5시승차총승객수',\n",
       "       '6시승차총승객수', '7시승차총승객수', '8시승차총승객수', '9시승차총승객수', '10시승차총승객수',\n",
       "       '11시승차총승객수', '12시승차총승객수', '13시승차총승객수', '14시승차총승객수', '15시승차총승객수',\n",
       "       '16시승차총승객수', '17시승차총승객수', '18시승차총승객수', '19시승차총승객수', '20시승차총승객수',\n",
       "       '21시승차총승객수', '22시승차총승객수', '23시승차총승객수'],\n",
       "      dtype='object')"
      ]
     },
     "execution_count": 17,
     "metadata": {},
     "output_type": "execute_result"
    }
   ],
   "source": [
    "onboard_col_list = bus_df.columns[bus_df.columns.str.contains('승차')]\n",
    "onboard_col_list"
   ]
  },
  {
   "cell_type": "code",
   "execution_count": 18,
   "metadata": {
    "scrolled": true
   },
   "outputs": [],
   "source": [
    "monthly_total = bus_df.groupby('사용년월')[onboard_col_list].sum().sum(1).to_frame().reset_index()\n",
    "monthly_total.columns = ['datetime', 'bus_onboard_count']\n",
    "monthly_total['datetime'] = monthly_total['datetime'].map(lambda x : str(x)[:4]+\"-\"+str(x)[4:])"
   ]
  },
  {
   "cell_type": "code",
   "execution_count": 19,
   "metadata": {},
   "outputs": [
    {
     "data": {
      "text/html": [
       "<div>\n",
       "<style scoped>\n",
       "    .dataframe tbody tr th:only-of-type {\n",
       "        vertical-align: middle;\n",
       "    }\n",
       "\n",
       "    .dataframe tbody tr th {\n",
       "        vertical-align: top;\n",
       "    }\n",
       "\n",
       "    .dataframe thead th {\n",
       "        text-align: right;\n",
       "    }\n",
       "</style>\n",
       "<table border=\"1\" class=\"dataframe\">\n",
       "  <thead>\n",
       "    <tr style=\"text-align: right;\">\n",
       "      <th></th>\n",
       "      <th>datetime</th>\n",
       "      <th>bus_onboard_count</th>\n",
       "    </tr>\n",
       "  </thead>\n",
       "  <tbody>\n",
       "    <tr>\n",
       "      <th>0</th>\n",
       "      <td>2020-01</td>\n",
       "      <td>143735067</td>\n",
       "    </tr>\n",
       "    <tr>\n",
       "      <th>1</th>\n",
       "      <td>2020-02</td>\n",
       "      <td>123177424</td>\n",
       "    </tr>\n",
       "    <tr>\n",
       "      <th>2</th>\n",
       "      <td>2020-03</td>\n",
       "      <td>105279908</td>\n",
       "    </tr>\n",
       "    <tr>\n",
       "      <th>3</th>\n",
       "      <td>2020-04</td>\n",
       "      <td>110367524</td>\n",
       "    </tr>\n",
       "    <tr>\n",
       "      <th>4</th>\n",
       "      <td>2020-05</td>\n",
       "      <td>121441625</td>\n",
       "    </tr>\n",
       "    <tr>\n",
       "      <th>5</th>\n",
       "      <td>2020-06</td>\n",
       "      <td>59099275</td>\n",
       "    </tr>\n",
       "  </tbody>\n",
       "</table>\n",
       "</div>"
      ],
      "text/plain": [
       "  datetime  bus_onboard_count\n",
       "0  2020-01          143735067\n",
       "1  2020-02          123177424\n",
       "2  2020-03          105279908\n",
       "3  2020-04          110367524\n",
       "4  2020-05          121441625\n",
       "5  2020-06           59099275"
      ]
     },
     "execution_count": 19,
     "metadata": {},
     "output_type": "execute_result"
    }
   ],
   "source": [
    "monthly_total"
   ]
  },
  {
   "cell_type": "code",
   "execution_count": 20,
   "metadata": {},
   "outputs": [],
   "source": [
    "bus_df.to_csv('bus_df.csv', index=False)"
   ]
  }
 ],
 "metadata": {
  "kernelspec": {
   "display_name": "Python 3",
   "language": "python",
   "name": "python3"
  },
  "language_info": {
   "codemirror_mode": {
    "name": "ipython",
    "version": 3
   },
   "file_extension": ".py",
   "mimetype": "text/x-python",
   "name": "python",
   "nbconvert_exporter": "python",
   "pygments_lexer": "ipython3",
   "version": "3.7.7"
  }
 },
 "nbformat": 4,
 "nbformat_minor": 2
}
