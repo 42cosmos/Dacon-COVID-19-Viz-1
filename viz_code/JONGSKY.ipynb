{
 "cells": [
  {
   "cell_type": "markdown",
   "metadata": {},
   "source": [
    "# 사용데이터\n",
    "\n",
    "- 전국 및 서울시 코로나19 확진자 수 추이 데이터 - Time.csv, TimeProvince.csv\n",
    "- 서울시 행정동코드 데이터 - adstrd_master.csv\n",
    "- 서울시 자치구별 유동인구 데이터 - fpop.csv\n",
    "- 서울시 자치구별 품목별 소비지수 데이터 - index.csv"
   ]
  },
  {
   "cell_type": "code",
   "execution_count": 1,
   "metadata": {},
   "outputs": [],
   "source": [
    "# 분석용 라이브러리\n",
    "# !pip install -U plotly\n",
    "\n",
    "import pandas as pd\n",
    "import numpy as np\n",
    "# pd.options.plotting.backend = 'plotly'\n",
    "\n",
    "# import plotly\n",
    "# import plotly.io as pio\n",
    "# pio.renderers.default = \"notebook_connected\"\n",
    "\n",
    "import matplotlib.pyplot as plt\n",
    "import seaborn as sns\n",
    "plt.style.use('fivethirtyeight')\n",
    "\n",
    "import urllib, json\n",
    "import folium\n",
    "\n",
    "import warnings\n",
    "warnings.filterwarnings(\"ignore\")"
   ]
  },
  {
   "cell_type": "code",
   "execution_count": 4,
   "metadata": {},
   "outputs": [
    {
     "data": {
      "image/png": "[encoded data removed]",
      "text/plain": [
       "<Figure size 216x216 with 1 Axes>"
      ]
     },
     "metadata": {},
     "output_type": "display_data"
    }
   ],
   "source": [
    "import matplotlib as mpl\n",
    "import matplotlib.pyplot as plt\n",
    "import matplotlib.font_manager as fm\n",
    "\n",
    "fontpath = '/usr/share/fonts/truetype/nanum/NanumMyeongjoBold.ttf'\n",
    "fontprop = fm.FontProperties(fname=fontpath, size=18)\n",
    "\n",
    "\n",
    "## Test\n",
    "plt.figure(figsize=(3,3))\n",
    "plt.text(0.5, 0.5, '한글 폰트 테스트 성공!!!', size=15, fontproperties=fontprop)\n",
    "plt.show()"
   ]
  },
  {
   "cell_type": "code",
   "execution_count": 5,
   "metadata": {},
   "outputs": [],
   "source": [
    "# 데이터 준비\n",
    "# 전국 및 서울시 코로나19 확진자 수 추이 데이터\n",
    "def covid_preprocessing(df):\n",
    "    df.columns=['날짜', '확진자수']\n",
    "    df['날짜'] = pd.to_datetime(df['날짜'])\n",
    "    df['확진자수_전일'] = [0] + df['확진자수'].iloc[:-1].tolist()\n",
    "    df['확진자수_신규'] = df['확진자수'] - df['확진자수_전일']\n",
    "\n",
    "    pre_weeks_df = pd.DataFrame(pd.date_range(pd.to_datetime('2020-01-01'), pd.to_datetime('2020-01-19')),\n",
    "                              columns=['날짜'])\n",
    "    df = pd.merge(pre_weeks_df, df, 'outer', '날짜').fillna(0)\n",
    "\n",
    "    df['월'] = df['날짜'].dt.month\n",
    "    df['주차'] = df['날짜'].dt.weekofyear\n",
    "    df = df.groupby(['월', '주차'])['확진자수_신규'].sum().reset_index().astype(int)\n",
    "    return df"
   ]
  },
  {
   "cell_type": "code",
   "execution_count": 6,
   "metadata": {},
   "outputs": [
    {
     "name": "stdout",
     "output_type": "stream",
     "text": [
      "\n",
      "\n",
      ">>> covid_df.shape : (31, 4)\n",
      "결측치 수 :  0\n"
     ]
    },
    {
     "data": {
      "text/html": [
       "<div>\n",
       "<style scoped>\n",
       "    .dataframe tbody tr th:only-of-type {\n",
       "        vertical-align: middle;\n",
       "    }\n",
       "\n",
       "    .dataframe tbody tr th {\n",
       "        vertical-align: top;\n",
       "    }\n",
       "\n",
       "    .dataframe thead th {\n",
       "        text-align: right;\n",
       "    }\n",
       "</style>\n",
       "<table border=\"1\" class=\"dataframe\">\n",
       "  <thead>\n",
       "    <tr style=\"text-align: right;\">\n",
       "      <th></th>\n",
       "      <th>월</th>\n",
       "      <th>주차</th>\n",
       "      <th>확진자수_신규_서울</th>\n",
       "      <th>확진자수_신규_전국</th>\n",
       "    </tr>\n",
       "  </thead>\n",
       "  <tbody>\n",
       "    <tr>\n",
       "      <th>0</th>\n",
       "      <td>1</td>\n",
       "      <td>1</td>\n",
       "      <td>0</td>\n",
       "      <td>0</td>\n",
       "    </tr>\n",
       "    <tr>\n",
       "      <th>30</th>\n",
       "      <td>6</td>\n",
       "      <td>27</td>\n",
       "      <td>14</td>\n",
       "      <td>85</td>\n",
       "    </tr>\n",
       "  </tbody>\n",
       "</table>\n",
       "</div>"
      ],
      "text/plain": [
       "    월  주차  확진자수_신규_서울  확진자수_신규_전국\n",
       "0   1   1           0           0\n",
       "30  6  27          14          85"
      ]
     },
     "metadata": {},
     "output_type": "display_data"
    }
   ],
   "source": [
    "covid_seoul = pd.read_csv('../data/COVID_19/TimeProvince.csv', usecols=['date', 'province', 'confirmed'])\n",
    "covid_seoul = covid_seoul[covid_seoul.province=='서울'].drop(columns='province')\n",
    "covid_korea = pd.read_csv('../data/COVID_19/Time.csv', usecols=['date', 'confirmed'])\n",
    "\n",
    "covid_df = pd.merge(covid_preprocessing(covid_seoul), covid_preprocessing(covid_korea),\n",
    "                    'outer', ['월', '주차'], suffixes=('_서울', '_전국'))\n",
    "\n",
    "print('\\n\\n>>> covid_df.shape :', covid_df.shape)\n",
    "print('결측치 수 : ', covid_df.isna().sum().sum())\n",
    "display(pd.concat([covid_df.head(1), covid_df.tail(1)]))"
   ]
  },
  {
   "cell_type": "code",
   "execution_count": 7,
   "metadata": {},
   "outputs": [
    {
     "name": "stdout",
     "output_type": "stream",
     "text": [
      "\n",
      "\n",
      ">>> dong_df.shape : (425, 2)\n",
      "결측치 수 :  0\n"
     ]
    },
    {
     "data": {
      "text/html": [
       "<div>\n",
       "<style scoped>\n",
       "    .dataframe tbody tr th:only-of-type {\n",
       "        vertical-align: middle;\n",
       "    }\n",
       "\n",
       "    .dataframe tbody tr th {\n",
       "        vertical-align: top;\n",
       "    }\n",
       "\n",
       "    .dataframe thead th {\n",
       "        text-align: right;\n",
       "    }\n",
       "</style>\n",
       "<table border=\"1\" class=\"dataframe\">\n",
       "  <thead>\n",
       "    <tr style=\"text-align: right;\">\n",
       "      <th></th>\n",
       "      <th>행정동코드</th>\n",
       "      <th>자치구명</th>\n",
       "    </tr>\n",
       "  </thead>\n",
       "  <tbody>\n",
       "    <tr>\n",
       "      <th>0</th>\n",
       "      <td>11110515</td>\n",
       "      <td>종로구</td>\n",
       "    </tr>\n",
       "    <tr>\n",
       "      <th>424</th>\n",
       "      <td>11740700</td>\n",
       "      <td>강동구</td>\n",
       "    </tr>\n",
       "  </tbody>\n",
       "</table>\n",
       "</div>"
      ],
      "text/plain": [
       "        행정동코드 자치구명\n",
       "0    11110515  종로구\n",
       "424  11740700  강동구"
      ]
     },
     "metadata": {},
     "output_type": "display_data"
    }
   ],
   "source": [
    "# 서울시 행정동코드 데이터\n",
    "dong_df = pd.read_csv('../data/adstrd_master.csv')\n",
    "dong_df.columns = ['행정동코드', '행정동명', '시도명', '자치구명']\n",
    "dong_df = dong_df.loc[dong_df.시도명=='서울특별시', ['행정동코드', '자치구명']]\n",
    "dong_df['행정동코드'] = dong_df['행정동코드'].astype(int)\n",
    "\n",
    "print('\\n\\n>>> dong_df.shape :', dong_df.shape)\n",
    "print('결측치 수 : ', dong_df.isna().sum().sum())\n",
    "display(pd.concat([dong_df.head(1), dong_df.tail(1)]))"
   ]
  },
  {
   "cell_type": "code",
   "execution_count": 8,
   "metadata": {},
   "outputs": [
    {
     "name": "stdout",
     "output_type": "stream",
     "text": [
      "\n",
      "\n",
      ">>> fpop_df.shape : (47546443, 4)\n",
      "결측치 수 :  0\n"
     ]
    },
    {
     "data": {
      "text/html": [
       "<div>\n",
       "<style scoped>\n",
       "    .dataframe tbody tr th:only-of-type {\n",
       "        vertical-align: middle;\n",
       "    }\n",
       "\n",
       "    .dataframe tbody tr th {\n",
       "        vertical-align: top;\n",
       "    }\n",
       "\n",
       "    .dataframe thead th {\n",
       "        text-align: right;\n",
       "    }\n",
       "</style>\n",
       "<table border=\"1\" class=\"dataframe\">\n",
       "  <thead>\n",
       "    <tr style=\"text-align: right;\">\n",
       "      <th></th>\n",
       "      <th>기준일</th>\n",
       "      <th>유동인구수</th>\n",
       "      <th>자치구명</th>\n",
       "      <th>주차</th>\n",
       "    </tr>\n",
       "  </thead>\n",
       "  <tbody>\n",
       "    <tr>\n",
       "      <th>0</th>\n",
       "      <td>20200101</td>\n",
       "      <td>15</td>\n",
       "      <td>서초구</td>\n",
       "      <td>1</td>\n",
       "    </tr>\n",
       "    <tr>\n",
       "      <th>47546442</th>\n",
       "      <td>20200616</td>\n",
       "      <td>63</td>\n",
       "      <td>도봉구</td>\n",
       "      <td>25</td>\n",
       "    </tr>\n",
       "  </tbody>\n",
       "</table>\n",
       "</div>"
      ],
      "text/plain": [
       "               기준일  유동인구수 자치구명  주차\n",
       "0         20200101     15  서초구   1\n",
       "47546442  20200616     63  도봉구  25"
      ]
     },
     "metadata": {},
     "output_type": "display_data"
    }
   ],
   "source": [
    "# 서울시 자치구별 유동인구 데이터\n",
    "# fpop_df['연령대'] = fpop_df['연령대'].apply(lambda x : f'{x}~{int(x[-2:])+9}' if x=='age_00' else f'{x}~' if x=='age_70' else f'{x}~{int(x[-2:])+4}')\n",
    "fpop_df = pd.read_csv('../data/fpopl.csv', usecols=['base_ymd', 'adstrd_code', 'popltn_cascnt'])\n",
    "fpop_df.columns = ['기준일', '행정동코드', '유동인구수']\n",
    "fpop_df = fpop_df.merge(dong_df, how='left', on='행정동코드').drop(columns='행정동코드')  # 자치구명 추가\n",
    "fpop_df['주차'] = pd.to_datetime(fpop_df['기준일'], format='%Y%m%d').dt.weekofyear\n",
    "\n",
    "print('\\n\\n>>> fpop_df.shape :', fpop_df.shape)\n",
    "print('결측치 수 : ', fpop_df.isna().sum().sum())\n",
    "display(pd.concat([fpop_df.head(1), fpop_df.tail(1)]))"
   ]
  },
  {
   "cell_type": "code",
   "execution_count": 9,
   "metadata": {},
   "outputs": [
    {
     "name": "stdout",
     "output_type": "stream",
     "text": [
      "\n",
      "\n",
      ">>> index_df.shape : (127525, 7)\n",
      "결측치 수 :  0\n"
     ]
    },
    {
     "data": {
      "text/html": [
       "<div>\n",
       "<style scoped>\n",
       "    .dataframe tbody tr th:only-of-type {\n",
       "        vertical-align: middle;\n",
       "    }\n",
       "\n",
       "    .dataframe tbody tr th {\n",
       "        vertical-align: top;\n",
       "    }\n",
       "\n",
       "    .dataframe thead th {\n",
       "        text-align: right;\n",
       "    }\n",
       "</style>\n",
       "<table border=\"1\" class=\"dataframe\">\n",
       "  <thead>\n",
       "    <tr style=\"text-align: right;\">\n",
       "      <th></th>\n",
       "      <th>period</th>\n",
       "      <th>catl</th>\n",
       "      <th>catm</th>\n",
       "      <th>age</th>\n",
       "      <th>gender</th>\n",
       "      <th>sigungu</th>\n",
       "      <th>cgi</th>\n",
       "    </tr>\n",
       "  </thead>\n",
       "  <tbody>\n",
       "    <tr>\n",
       "      <th>0</th>\n",
       "      <td>201901</td>\n",
       "      <td>건강/의료용품</td>\n",
       "      <td>건강관리용품</td>\n",
       "      <td>20</td>\n",
       "      <td>F</td>\n",
       "      <td>관악구</td>\n",
       "      <td>115.374642</td>\n",
       "    </tr>\n",
       "    <tr>\n",
       "      <th>127524</th>\n",
       "      <td>202005</td>\n",
       "      <td>화장품</td>\n",
       "      <td>화장품</td>\n",
       "      <td>all</td>\n",
       "      <td>all</td>\n",
       "      <td>용산구</td>\n",
       "      <td>45.569377</td>\n",
       "    </tr>\n",
       "  </tbody>\n",
       "</table>\n",
       "</div>"
      ],
      "text/plain": [
       "        period     catl    catm  age gender sigungu         cgi\n",
       "0       201901  건강/의료용품  건강관리용품   20      F     관악구  115.374642\n",
       "127524  202005      화장품     화장품  all    all     용산구   45.569377"
      ]
     },
     "metadata": {},
     "output_type": "display_data"
    }
   ],
   "source": [
    "# 서울시 자치구별 품목별 소비지수 데이터\n",
    "index_df = pd.read_csv('../data/index.csv').drop(columns='sido')\n",
    "\n",
    "print('\\n\\n>>> index_df.shape :', index_df.shape)\n",
    "print('결측치 수 : ', index_df.isna().sum().sum())\n",
    "display(pd.concat([index_df.head(1), index_df.tail(1)]))"
   ]
  }
 ],
 "metadata": {
  "kernelspec": {
   "display_name": "viz",
   "language": "python",
   "name": "viz"
  },
  "language_info": {
   "codemirror_mode": {
    "name": "ipython",
    "version": 3
   },
   "file_extension": ".py",
   "mimetype": "text/x-python",
   "name": "python",
   "nbconvert_exporter": "python",
   "pygments_lexer": "ipython3",
   "version": "3.8.3"
  }
 },
 "nbformat": 4,
 "nbformat_minor": 2
}
